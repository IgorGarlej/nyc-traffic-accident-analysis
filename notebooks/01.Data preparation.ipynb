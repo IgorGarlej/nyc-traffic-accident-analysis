{
 "cells": [
  {
   "cell_type": "markdown",
   "id": "9ac36bce-616d-4db0-95a6-ccc39c4cbd87",
   "metadata": {},
   "source": [
    "# Imports"
   ]
  },
  {
   "cell_type": "code",
   "execution_count": 1,
   "id": "123e3cc5-5e5d-49f0-af69-fec86e427e08",
   "metadata": {},
   "outputs": [],
   "source": [
    "import pandas as pd\n",
    "import geopandas as gpd\n",
    "import numpy as np\n",
    "import sys\n",
    "import os\n",
    "sys.path.append(os.path.abspath(\"..\"))\n",
    "from utils import create_geometry_column, find_similar_phrases, normalize_street_names, map_vehicle_type\n",
    "from mapping import raw_mapping, generalized_mapping"
   ]
  },
  {
   "cell_type": "markdown",
   "id": "a1ff992f-20dd-4610-b2da-a8701e5b7239",
   "metadata": {},
   "source": [
    "# Data load"
   ]
  },
  {
   "cell_type": "code",
   "execution_count": 2,
   "id": "b26d88d0-4f42-4b18-ba9e-9c9b1df333e0",
   "metadata": {},
   "outputs": [],
   "source": [
    "# Loading data\n",
    "df = pd.read_csv(\"../data/nypd-motor-vehicle-collisions.csv\", low_memory=False)"
   ]
  },
  {
   "cell_type": "markdown",
   "id": "87a45e4e-a2be-4ee5-9c5f-156e585ee998",
   "metadata": {},
   "source": [
    "# Dataset information"
   ]
  },
  {
   "cell_type": "code",
   "execution_count": 3,
   "id": "4b100296-a528-4377-be5b-38ed14072376",
   "metadata": {},
   "outputs": [
    {
     "data": {
      "text/plain": [
       "(1612178, 29)"
      ]
     },
     "execution_count": 3,
     "metadata": {},
     "output_type": "execute_result"
    }
   ],
   "source": [
    "df.shape"
   ]
  },
  {
   "cell_type": "code",
   "execution_count": 4,
   "id": "7fe3673b-384a-4252-b701-f8e223930e8e",
   "metadata": {},
   "outputs": [
    {
     "data": {
      "text/plain": [
       "Index(['ACCIDENT DATE', 'ACCIDENT TIME', 'BOROUGH', 'ZIP CODE', 'LATITUDE',\n",
       "       'LONGITUDE', 'LOCATION', 'ON STREET NAME', 'CROSS STREET NAME',\n",
       "       'OFF STREET NAME', 'NUMBER OF PERSONS INJURED',\n",
       "       'NUMBER OF PERSONS KILLED', 'NUMBER OF PEDESTRIANS INJURED',\n",
       "       'NUMBER OF PEDESTRIANS KILLED', 'NUMBER OF CYCLIST INJURED',\n",
       "       'NUMBER OF CYCLIST KILLED', 'NUMBER OF MOTORIST INJURED',\n",
       "       'NUMBER OF MOTORIST KILLED', 'CONTRIBUTING FACTOR VEHICLE 1',\n",
       "       'CONTRIBUTING FACTOR VEHICLE 2', 'CONTRIBUTING FACTOR VEHICLE 3',\n",
       "       'CONTRIBUTING FACTOR VEHICLE 4', 'CONTRIBUTING FACTOR VEHICLE 5',\n",
       "       'COLLISION_ID', 'VEHICLE TYPE CODE 1', 'VEHICLE TYPE CODE 2',\n",
       "       'VEHICLE TYPE CODE 3', 'VEHICLE TYPE CODE 4', 'VEHICLE TYPE CODE 5'],\n",
       "      dtype='object')"
      ]
     },
     "execution_count": 4,
     "metadata": {},
     "output_type": "execute_result"
    }
   ],
   "source": [
    "df.columns"
   ]
  },
  {
   "cell_type": "code",
   "execution_count": 5,
   "id": "ec860e34-963b-457e-a328-7201764d66b0",
   "metadata": {},
   "outputs": [
    {
     "data": {
      "text/html": [
       "<div>\n",
       "<style scoped>\n",
       "    .dataframe tbody tr th:only-of-type {\n",
       "        vertical-align: middle;\n",
       "    }\n",
       "\n",
       "    .dataframe tbody tr th {\n",
       "        vertical-align: top;\n",
       "    }\n",
       "\n",
       "    .dataframe thead th {\n",
       "        text-align: right;\n",
       "    }\n",
       "</style>\n",
       "<table border=\"1\" class=\"dataframe\">\n",
       "  <thead>\n",
       "    <tr style=\"text-align: right;\">\n",
       "      <th></th>\n",
       "      <th>ACCIDENT DATE</th>\n",
       "      <th>ACCIDENT TIME</th>\n",
       "      <th>BOROUGH</th>\n",
       "      <th>ZIP CODE</th>\n",
       "      <th>LATITUDE</th>\n",
       "      <th>LONGITUDE</th>\n",
       "      <th>LOCATION</th>\n",
       "      <th>ON STREET NAME</th>\n",
       "      <th>CROSS STREET NAME</th>\n",
       "      <th>OFF STREET NAME</th>\n",
       "      <th>...</th>\n",
       "      <th>CONTRIBUTING FACTOR VEHICLE 2</th>\n",
       "      <th>CONTRIBUTING FACTOR VEHICLE 3</th>\n",
       "      <th>CONTRIBUTING FACTOR VEHICLE 4</th>\n",
       "      <th>CONTRIBUTING FACTOR VEHICLE 5</th>\n",
       "      <th>COLLISION_ID</th>\n",
       "      <th>VEHICLE TYPE CODE 1</th>\n",
       "      <th>VEHICLE TYPE CODE 2</th>\n",
       "      <th>VEHICLE TYPE CODE 3</th>\n",
       "      <th>VEHICLE TYPE CODE 4</th>\n",
       "      <th>VEHICLE TYPE CODE 5</th>\n",
       "    </tr>\n",
       "  </thead>\n",
       "  <tbody>\n",
       "    <tr>\n",
       "      <th>0</th>\n",
       "      <td>2019-08-05T00:00:00.000</td>\n",
       "      <td>16:30</td>\n",
       "      <td>QUEENS</td>\n",
       "      <td>11434</td>\n",
       "      <td>40.676052</td>\n",
       "      <td>-73.790184</td>\n",
       "      <td>{'type': 'Point', 'coordinates': [-73.790184, ...</td>\n",
       "      <td>NaN</td>\n",
       "      <td>NaN</td>\n",
       "      <td>150-08    123 AVENUE</td>\n",
       "      <td>...</td>\n",
       "      <td>Unspecified</td>\n",
       "      <td>NaN</td>\n",
       "      <td>NaN</td>\n",
       "      <td>NaN</td>\n",
       "      <td>4184637</td>\n",
       "      <td>Sedan</td>\n",
       "      <td>Pick-up Truck</td>\n",
       "      <td>NaN</td>\n",
       "      <td>NaN</td>\n",
       "      <td>NaN</td>\n",
       "    </tr>\n",
       "    <tr>\n",
       "      <th>1</th>\n",
       "      <td>2019-08-27T00:00:00.000</td>\n",
       "      <td>16:02</td>\n",
       "      <td>BROOKLYN</td>\n",
       "      <td>11225</td>\n",
       "      <td>40.657780</td>\n",
       "      <td>-73.951096</td>\n",
       "      <td>{'type': 'Point', 'coordinates': [-73.951096, ...</td>\n",
       "      <td>NaN</td>\n",
       "      <td>NaN</td>\n",
       "      <td>288       HAWTHORNE STREET</td>\n",
       "      <td>...</td>\n",
       "      <td>Unspecified</td>\n",
       "      <td>NaN</td>\n",
       "      <td>NaN</td>\n",
       "      <td>NaN</td>\n",
       "      <td>4195773</td>\n",
       "      <td>Station Wagon/Sport Utility Vehicle</td>\n",
       "      <td>Station Wagon/Sport Utility Vehicle</td>\n",
       "      <td>NaN</td>\n",
       "      <td>NaN</td>\n",
       "      <td>NaN</td>\n",
       "    </tr>\n",
       "    <tr>\n",
       "      <th>2</th>\n",
       "      <td>2019-08-15T00:00:00.000</td>\n",
       "      <td>17:57</td>\n",
       "      <td>MANHATTAN</td>\n",
       "      <td>10002</td>\n",
       "      <td>40.718143</td>\n",
       "      <td>-73.993835</td>\n",
       "      <td>{'type': 'Point', 'coordinates': [-73.993835, ...</td>\n",
       "      <td>CHRYSTIE STREET</td>\n",
       "      <td>GRAND STREET</td>\n",
       "      <td>NaN</td>\n",
       "      <td>...</td>\n",
       "      <td>NaN</td>\n",
       "      <td>NaN</td>\n",
       "      <td>NaN</td>\n",
       "      <td>NaN</td>\n",
       "      <td>4202457</td>\n",
       "      <td>Sedan</td>\n",
       "      <td>NaN</td>\n",
       "      <td>NaN</td>\n",
       "      <td>NaN</td>\n",
       "      <td>NaN</td>\n",
       "    </tr>\n",
       "    <tr>\n",
       "      <th>3</th>\n",
       "      <td>2019-08-30T00:00:00.000</td>\n",
       "      <td>21:53</td>\n",
       "      <td>BRONX</td>\n",
       "      <td>10460</td>\n",
       "      <td>40.840534</td>\n",
       "      <td>-73.866610</td>\n",
       "      <td>{'type': 'Point', 'coordinates': [-73.86661, 4...</td>\n",
       "      <td>NaN</td>\n",
       "      <td>NaN</td>\n",
       "      <td>1837      EAST TREMONT AVENUE</td>\n",
       "      <td>...</td>\n",
       "      <td>Unspecified</td>\n",
       "      <td>NaN</td>\n",
       "      <td>NaN</td>\n",
       "      <td>NaN</td>\n",
       "      <td>4198749</td>\n",
       "      <td>Taxi</td>\n",
       "      <td>Station Wagon/Sport Utility Vehicle</td>\n",
       "      <td>NaN</td>\n",
       "      <td>NaN</td>\n",
       "      <td>NaN</td>\n",
       "    </tr>\n",
       "    <tr>\n",
       "      <th>4</th>\n",
       "      <td>2019-08-06T00:00:00.000</td>\n",
       "      <td>9:45</td>\n",
       "      <td>MANHATTAN</td>\n",
       "      <td>10016</td>\n",
       "      <td>40.745440</td>\n",
       "      <td>-73.975400</td>\n",
       "      <td>{'type': 'Point', 'coordinates': [-73.9754, 40...</td>\n",
       "      <td>EAST 35 STREET</td>\n",
       "      <td>2 AVENUE</td>\n",
       "      <td>NaN</td>\n",
       "      <td>...</td>\n",
       "      <td>Driver Inattention/Distraction</td>\n",
       "      <td>NaN</td>\n",
       "      <td>NaN</td>\n",
       "      <td>NaN</td>\n",
       "      <td>4183798</td>\n",
       "      <td>Station Wagon/Sport Utility Vehicle</td>\n",
       "      <td>Bike</td>\n",
       "      <td>NaN</td>\n",
       "      <td>NaN</td>\n",
       "      <td>NaN</td>\n",
       "    </tr>\n",
       "  </tbody>\n",
       "</table>\n",
       "<p>5 rows × 29 columns</p>\n",
       "</div>"
      ],
      "text/plain": [
       "             ACCIDENT DATE ACCIDENT TIME    BOROUGH ZIP CODE   LATITUDE  \\\n",
       "0  2019-08-05T00:00:00.000         16:30     QUEENS    11434  40.676052   \n",
       "1  2019-08-27T00:00:00.000         16:02   BROOKLYN    11225  40.657780   \n",
       "2  2019-08-15T00:00:00.000         17:57  MANHATTAN    10002  40.718143   \n",
       "3  2019-08-30T00:00:00.000         21:53      BRONX    10460  40.840534   \n",
       "4  2019-08-06T00:00:00.000          9:45  MANHATTAN    10016  40.745440   \n",
       "\n",
       "   LONGITUDE                                           LOCATION  \\\n",
       "0 -73.790184  {'type': 'Point', 'coordinates': [-73.790184, ...   \n",
       "1 -73.951096  {'type': 'Point', 'coordinates': [-73.951096, ...   \n",
       "2 -73.993835  {'type': 'Point', 'coordinates': [-73.993835, ...   \n",
       "3 -73.866610  {'type': 'Point', 'coordinates': [-73.86661, 4...   \n",
       "4 -73.975400  {'type': 'Point', 'coordinates': [-73.9754, 40...   \n",
       "\n",
       "                     ON STREET NAME CROSS STREET NAME  \\\n",
       "0                               NaN               NaN   \n",
       "1                               NaN               NaN   \n",
       "2  CHRYSTIE STREET                       GRAND STREET   \n",
       "3                               NaN               NaN   \n",
       "4  EAST 35 STREET                            2 AVENUE   \n",
       "\n",
       "                            OFF STREET NAME  ...  \\\n",
       "0  150-08    123 AVENUE                      ...   \n",
       "1  288       HAWTHORNE STREET                ...   \n",
       "2                                       NaN  ...   \n",
       "3  1837      EAST TREMONT AVENUE             ...   \n",
       "4                                       NaN  ...   \n",
       "\n",
       "    CONTRIBUTING FACTOR VEHICLE 2  CONTRIBUTING FACTOR VEHICLE 3  \\\n",
       "0                     Unspecified                            NaN   \n",
       "1                     Unspecified                            NaN   \n",
       "2                             NaN                            NaN   \n",
       "3                     Unspecified                            NaN   \n",
       "4  Driver Inattention/Distraction                            NaN   \n",
       "\n",
       "   CONTRIBUTING FACTOR VEHICLE 4  CONTRIBUTING FACTOR VEHICLE 5  COLLISION_ID  \\\n",
       "0                            NaN                            NaN       4184637   \n",
       "1                            NaN                            NaN       4195773   \n",
       "2                            NaN                            NaN       4202457   \n",
       "3                            NaN                            NaN       4198749   \n",
       "4                            NaN                            NaN       4183798   \n",
       "\n",
       "                   VEHICLE TYPE CODE 1                  VEHICLE TYPE CODE 2  \\\n",
       "0                                Sedan                        Pick-up Truck   \n",
       "1  Station Wagon/Sport Utility Vehicle  Station Wagon/Sport Utility Vehicle   \n",
       "2                                Sedan                                  NaN   \n",
       "3                                 Taxi  Station Wagon/Sport Utility Vehicle   \n",
       "4  Station Wagon/Sport Utility Vehicle                                 Bike   \n",
       "\n",
       "   VEHICLE TYPE CODE 3 VEHICLE TYPE CODE 4 VEHICLE TYPE CODE 5  \n",
       "0                  NaN                 NaN                 NaN  \n",
       "1                  NaN                 NaN                 NaN  \n",
       "2                  NaN                 NaN                 NaN  \n",
       "3                  NaN                 NaN                 NaN  \n",
       "4                  NaN                 NaN                 NaN  \n",
       "\n",
       "[5 rows x 29 columns]"
      ]
     },
     "execution_count": 5,
     "metadata": {},
     "output_type": "execute_result"
    }
   ],
   "source": [
    "df.head()"
   ]
  },
  {
   "cell_type": "code",
   "execution_count": 6,
   "id": "00929492-6256-4e99-bbf3-00853ec3e8b5",
   "metadata": {
    "scrolled": true
   },
   "outputs": [
    {
     "name": "stdout",
     "output_type": "stream",
     "text": [
      "<class 'pandas.core.frame.DataFrame'>\n",
      "RangeIndex: 1612178 entries, 0 to 1612177\n",
      "Data columns (total 29 columns):\n",
      " #   Column                         Non-Null Count    Dtype  \n",
      "---  ------                         --------------    -----  \n",
      " 0   ACCIDENT DATE                  1612178 non-null  object \n",
      " 1   ACCIDENT TIME                  1612178 non-null  object \n",
      " 2   BOROUGH                        1127553 non-null  object \n",
      " 3   ZIP CODE                       1127376 non-null  object \n",
      " 4   LATITUDE                       1415893 non-null  float64\n",
      " 5   LONGITUDE                      1415893 non-null  float64\n",
      " 6   LOCATION                       1415893 non-null  object \n",
      " 7   ON STREET NAME                 1298002 non-null  object \n",
      " 8   CROSS STREET NAME              1079193 non-null  object \n",
      " 9   OFF STREET NAME                219732 non-null   object \n",
      " 10  NUMBER OF PERSONS INJURED      1612161 non-null  float64\n",
      " 11  NUMBER OF PERSONS KILLED       1612145 non-null  float64\n",
      " 12  NUMBER OF PEDESTRIANS INJURED  1612178 non-null  int64  \n",
      " 13  NUMBER OF PEDESTRIANS KILLED   1612178 non-null  int64  \n",
      " 14  NUMBER OF CYCLIST INJURED      1612178 non-null  int64  \n",
      " 15  NUMBER OF CYCLIST KILLED       1612178 non-null  int64  \n",
      " 16  NUMBER OF MOTORIST INJURED     1612178 non-null  int64  \n",
      " 17  NUMBER OF MOTORIST KILLED      1612178 non-null  int64  \n",
      " 18  CONTRIBUTING FACTOR VEHICLE 1  1607854 non-null  object \n",
      " 19  CONTRIBUTING FACTOR VEHICLE 2  1396127 non-null  object \n",
      " 20  CONTRIBUTING FACTOR VEHICLE 3  104254 non-null   object \n",
      " 21  CONTRIBUTING FACTOR VEHICLE 4  21789 non-null    object \n",
      " 22  CONTRIBUTING FACTOR VEHICLE 5  5622 non-null     object \n",
      " 23  COLLISION_ID                   1612178 non-null  int64  \n",
      " 24  VEHICLE TYPE CODE 1            1606597 non-null  object \n",
      " 25  VEHICLE TYPE CODE 2            1346858 non-null  object \n",
      " 26  VEHICLE TYPE CODE 3            128742 non-null   object \n",
      " 27  VEHICLE TYPE CODE 4            46009 non-null    object \n",
      " 28  VEHICLE TYPE CODE 5            10150 non-null    object \n",
      "dtypes: float64(4), int64(7), object(18)\n",
      "memory usage: 356.7+ MB\n"
     ]
    }
   ],
   "source": [
    "df.info()"
   ]
  },
  {
   "cell_type": "code",
   "execution_count": 7,
   "id": "ea370155-2789-4ad7-8619-f83951ebc2a4",
   "metadata": {},
   "outputs": [
    {
     "data": {
      "text/html": [
       "<div>\n",
       "<style scoped>\n",
       "    .dataframe tbody tr th:only-of-type {\n",
       "        vertical-align: middle;\n",
       "    }\n",
       "\n",
       "    .dataframe tbody tr th {\n",
       "        vertical-align: top;\n",
       "    }\n",
       "\n",
       "    .dataframe thead th {\n",
       "        text-align: right;\n",
       "    }\n",
       "</style>\n",
       "<table border=\"1\" class=\"dataframe\">\n",
       "  <thead>\n",
       "    <tr style=\"text-align: right;\">\n",
       "      <th></th>\n",
       "      <th>LATITUDE</th>\n",
       "      <th>LONGITUDE</th>\n",
       "      <th>NUMBER OF PERSONS INJURED</th>\n",
       "      <th>NUMBER OF PERSONS KILLED</th>\n",
       "      <th>NUMBER OF PEDESTRIANS INJURED</th>\n",
       "      <th>NUMBER OF PEDESTRIANS KILLED</th>\n",
       "      <th>NUMBER OF CYCLIST INJURED</th>\n",
       "      <th>NUMBER OF CYCLIST KILLED</th>\n",
       "      <th>NUMBER OF MOTORIST INJURED</th>\n",
       "      <th>NUMBER OF MOTORIST KILLED</th>\n",
       "      <th>COLLISION_ID</th>\n",
       "    </tr>\n",
       "  </thead>\n",
       "  <tbody>\n",
       "    <tr>\n",
       "      <th>count</th>\n",
       "      <td>1.415893e+06</td>\n",
       "      <td>1.415893e+06</td>\n",
       "      <td>1.612161e+06</td>\n",
       "      <td>1.612145e+06</td>\n",
       "      <td>1.612178e+06</td>\n",
       "      <td>1.612178e+06</td>\n",
       "      <td>1.612178e+06</td>\n",
       "      <td>1.612178e+06</td>\n",
       "      <td>1.612178e+06</td>\n",
       "      <td>1.612178e+06</td>\n",
       "      <td>1.612178e+06</td>\n",
       "    </tr>\n",
       "    <tr>\n",
       "      <th>mean</th>\n",
       "      <td>4.068864e+01</td>\n",
       "      <td>-7.386657e+01</td>\n",
       "      <td>2.631363e-01</td>\n",
       "      <td>1.185998e-03</td>\n",
       "      <td>5.060483e-02</td>\n",
       "      <td>6.302034e-04</td>\n",
       "      <td>2.098590e-02</td>\n",
       "      <td>9.242156e-05</td>\n",
       "      <td>1.916854e-01</td>\n",
       "      <td>4.633483e-04</td>\n",
       "      <td>2.765946e+06</td>\n",
       "    </tr>\n",
       "    <tr>\n",
       "      <th>std</th>\n",
       "      <td>1.200403e+00</td>\n",
       "      <td>2.438640e+00</td>\n",
       "      <td>6.584832e-01</td>\n",
       "      <td>3.644859e-02</td>\n",
       "      <td>2.316972e-01</td>\n",
       "      <td>2.577872e-02</td>\n",
       "      <td>1.445222e-01</td>\n",
       "      <td>9.677481e-03</td>\n",
       "      <td>6.206497e-01</td>\n",
       "      <td>2.334547e-02</td>\n",
       "      <td>1.506373e+06</td>\n",
       "    </tr>\n",
       "    <tr>\n",
       "      <th>min</th>\n",
       "      <td>0.000000e+00</td>\n",
       "      <td>-2.012371e+02</td>\n",
       "      <td>0.000000e+00</td>\n",
       "      <td>0.000000e+00</td>\n",
       "      <td>0.000000e+00</td>\n",
       "      <td>0.000000e+00</td>\n",
       "      <td>0.000000e+00</td>\n",
       "      <td>0.000000e+00</td>\n",
       "      <td>0.000000e+00</td>\n",
       "      <td>0.000000e+00</td>\n",
       "      <td>2.300000e+01</td>\n",
       "    </tr>\n",
       "    <tr>\n",
       "      <th>25%</th>\n",
       "      <td>4.066882e+01</td>\n",
       "      <td>-7.397746e+01</td>\n",
       "      <td>0.000000e+00</td>\n",
       "      <td>0.000000e+00</td>\n",
       "      <td>0.000000e+00</td>\n",
       "      <td>0.000000e+00</td>\n",
       "      <td>0.000000e+00</td>\n",
       "      <td>0.000000e+00</td>\n",
       "      <td>0.000000e+00</td>\n",
       "      <td>0.000000e+00</td>\n",
       "      <td>1.014464e+06</td>\n",
       "    </tr>\n",
       "    <tr>\n",
       "      <th>50%</th>\n",
       "      <td>4.072258e+01</td>\n",
       "      <td>-7.393002e+01</td>\n",
       "      <td>0.000000e+00</td>\n",
       "      <td>0.000000e+00</td>\n",
       "      <td>0.000000e+00</td>\n",
       "      <td>0.000000e+00</td>\n",
       "      <td>0.000000e+00</td>\n",
       "      <td>0.000000e+00</td>\n",
       "      <td>0.000000e+00</td>\n",
       "      <td>0.000000e+00</td>\n",
       "      <td>3.422826e+06</td>\n",
       "    </tr>\n",
       "    <tr>\n",
       "      <th>75%</th>\n",
       "      <td>4.076789e+01</td>\n",
       "      <td>-7.386727e+01</td>\n",
       "      <td>0.000000e+00</td>\n",
       "      <td>0.000000e+00</td>\n",
       "      <td>0.000000e+00</td>\n",
       "      <td>0.000000e+00</td>\n",
       "      <td>0.000000e+00</td>\n",
       "      <td>0.000000e+00</td>\n",
       "      <td>0.000000e+00</td>\n",
       "      <td>0.000000e+00</td>\n",
       "      <td>3.854210e+06</td>\n",
       "    </tr>\n",
       "    <tr>\n",
       "      <th>max</th>\n",
       "      <td>4.231832e+01</td>\n",
       "      <td>0.000000e+00</td>\n",
       "      <td>3.100000e+01</td>\n",
       "      <td>8.000000e+00</td>\n",
       "      <td>2.700000e+01</td>\n",
       "      <td>6.000000e+00</td>\n",
       "      <td>4.000000e+00</td>\n",
       "      <td>2.000000e+00</td>\n",
       "      <td>3.100000e+01</td>\n",
       "      <td>5.000000e+00</td>\n",
       "      <td>4.249104e+06</td>\n",
       "    </tr>\n",
       "  </tbody>\n",
       "</table>\n",
       "</div>"
      ],
      "text/plain": [
       "           LATITUDE     LONGITUDE  NUMBER OF PERSONS INJURED  \\\n",
       "count  1.415893e+06  1.415893e+06               1.612161e+06   \n",
       "mean   4.068864e+01 -7.386657e+01               2.631363e-01   \n",
       "std    1.200403e+00  2.438640e+00               6.584832e-01   \n",
       "min    0.000000e+00 -2.012371e+02               0.000000e+00   \n",
       "25%    4.066882e+01 -7.397746e+01               0.000000e+00   \n",
       "50%    4.072258e+01 -7.393002e+01               0.000000e+00   \n",
       "75%    4.076789e+01 -7.386727e+01               0.000000e+00   \n",
       "max    4.231832e+01  0.000000e+00               3.100000e+01   \n",
       "\n",
       "       NUMBER OF PERSONS KILLED  NUMBER OF PEDESTRIANS INJURED  \\\n",
       "count              1.612145e+06                   1.612178e+06   \n",
       "mean               1.185998e-03                   5.060483e-02   \n",
       "std                3.644859e-02                   2.316972e-01   \n",
       "min                0.000000e+00                   0.000000e+00   \n",
       "25%                0.000000e+00                   0.000000e+00   \n",
       "50%                0.000000e+00                   0.000000e+00   \n",
       "75%                0.000000e+00                   0.000000e+00   \n",
       "max                8.000000e+00                   2.700000e+01   \n",
       "\n",
       "       NUMBER OF PEDESTRIANS KILLED  NUMBER OF CYCLIST INJURED  \\\n",
       "count                  1.612178e+06               1.612178e+06   \n",
       "mean                   6.302034e-04               2.098590e-02   \n",
       "std                    2.577872e-02               1.445222e-01   \n",
       "min                    0.000000e+00               0.000000e+00   \n",
       "25%                    0.000000e+00               0.000000e+00   \n",
       "50%                    0.000000e+00               0.000000e+00   \n",
       "75%                    0.000000e+00               0.000000e+00   \n",
       "max                    6.000000e+00               4.000000e+00   \n",
       "\n",
       "       NUMBER OF CYCLIST KILLED  NUMBER OF MOTORIST INJURED  \\\n",
       "count              1.612178e+06                1.612178e+06   \n",
       "mean               9.242156e-05                1.916854e-01   \n",
       "std                9.677481e-03                6.206497e-01   \n",
       "min                0.000000e+00                0.000000e+00   \n",
       "25%                0.000000e+00                0.000000e+00   \n",
       "50%                0.000000e+00                0.000000e+00   \n",
       "75%                0.000000e+00                0.000000e+00   \n",
       "max                2.000000e+00                3.100000e+01   \n",
       "\n",
       "       NUMBER OF MOTORIST KILLED  COLLISION_ID  \n",
       "count               1.612178e+06  1.612178e+06  \n",
       "mean                4.633483e-04  2.765946e+06  \n",
       "std                 2.334547e-02  1.506373e+06  \n",
       "min                 0.000000e+00  2.300000e+01  \n",
       "25%                 0.000000e+00  1.014464e+06  \n",
       "50%                 0.000000e+00  3.422826e+06  \n",
       "75%                 0.000000e+00  3.854210e+06  \n",
       "max                 5.000000e+00  4.249104e+06  "
      ]
     },
     "execution_count": 7,
     "metadata": {},
     "output_type": "execute_result"
    }
   ],
   "source": [
    "df.describe()"
   ]
  },
  {
   "cell_type": "code",
   "execution_count": 8,
   "id": "12801cd3-43b0-4abf-b4b5-d8254cd05c81",
   "metadata": {},
   "outputs": [
    {
     "name": "stdout",
     "output_type": "stream",
     "text": [
      "Given dataset has 394221 duplicates\n"
     ]
    }
   ],
   "source": [
    "duples = df.duplicated().sum()\n",
    "print(f\"Given dataset has {duples} duplicates\")"
   ]
  },
  {
   "cell_type": "markdown",
   "id": "39f98c5e-8135-456c-bbad-4bb64822640a",
   "metadata": {},
   "source": [
    "# Data Cleaning"
   ]
  },
  {
   "cell_type": "code",
   "execution_count": 9,
   "id": "dc252935-d969-4bdc-9a84-317adb554385",
   "metadata": {},
   "outputs": [],
   "source": [
    "df_cleaning = df.copy()"
   ]
  },
  {
   "cell_type": "markdown",
   "id": "adff6dfb-6175-4184-ab0c-8fd562877422",
   "metadata": {},
   "source": [
    "## Datetime"
   ]
  },
  {
   "cell_type": "code",
   "execution_count": 10,
   "id": "2b2e64af-d7a0-40c1-86a9-525ae9c25677",
   "metadata": {},
   "outputs": [
    {
     "data": {
      "text/plain": [
       "0          2019-08-05T00:00:00.000\n",
       "1          2019-08-27T00:00:00.000\n",
       "2          2019-08-15T00:00:00.000\n",
       "3          2019-08-30T00:00:00.000\n",
       "4          2019-08-06T00:00:00.000\n",
       "                    ...           \n",
       "1612173    2012-07-21T00:00:00.000\n",
       "1612174    2012-07-09T00:00:00.000\n",
       "1612175    2012-07-09T00:00:00.000\n",
       "1612176    2012-07-18T00:00:00.000\n",
       "1612177    2012-07-12T00:00:00.000\n",
       "Name: ACCIDENT DATE, Length: 1612178, dtype: object"
      ]
     },
     "execution_count": 10,
     "metadata": {},
     "output_type": "execute_result"
    }
   ],
   "source": [
    "df_cleaning[\"ACCIDENT DATE\"]"
   ]
  },
  {
   "cell_type": "code",
   "execution_count": 11,
   "id": "7ae233ae-a019-4623-baa5-e188295e8483",
   "metadata": {},
   "outputs": [],
   "source": [
    "df_cleaning[\"ACCIDENT DATE\"] = pd.to_datetime(df_cleaning[\"ACCIDENT DATE\"], format=\"%Y-%m-%dT%H:%M:%S.%f\")\n",
    "df_cleaning[\"ACCIDENT DATE FORMATTED\"] = df_cleaning[\"ACCIDENT DATE\"].dt.strftime(\"%d/%m/%Y\")\n",
    "df_cleaning[\"ACCIDENT DATE\"] = df_cleaning[\"ACCIDENT DATE\"].dt.normalize()"
   ]
  },
  {
   "cell_type": "code",
   "execution_count": 12,
   "id": "c1d365ba-bd54-4fe5-b7f5-3ab1ebf9fd87",
   "metadata": {},
   "outputs": [
    {
     "data": {
      "text/plain": [
       "0   2019-08-05\n",
       "1   2019-08-27\n",
       "2   2019-08-15\n",
       "3   2019-08-30\n",
       "4   2019-08-06\n",
       "Name: ACCIDENT DATE, dtype: datetime64[ns]"
      ]
     },
     "execution_count": 12,
     "metadata": {},
     "output_type": "execute_result"
    }
   ],
   "source": [
    "df_cleaning[\"ACCIDENT DATE\"].head(5)"
   ]
  },
  {
   "cell_type": "code",
   "execution_count": 13,
   "id": "be187053-ac98-4636-b8f0-f1c679dff5f0",
   "metadata": {},
   "outputs": [
    {
     "data": {
      "text/plain": [
       "0    16:30\n",
       "1    16:02\n",
       "2    17:57\n",
       "3    21:53\n",
       "4     9:45\n",
       "Name: ACCIDENT TIME, dtype: object"
      ]
     },
     "execution_count": 13,
     "metadata": {},
     "output_type": "execute_result"
    }
   ],
   "source": [
    "df_cleaning[\"ACCIDENT TIME\"].head(5)"
   ]
  },
  {
   "cell_type": "markdown",
   "id": "7d1a11ee-a770-4302-b3d0-5ab6dcc2b881",
   "metadata": {},
   "source": [
    "## Missing boroughs, latitude, longitude and location"
   ]
  },
  {
   "cell_type": "code",
   "execution_count": 14,
   "id": "54923c11-8c54-4f11-81f0-1f690581ca2f",
   "metadata": {},
   "outputs": [
    {
     "data": {
      "text/plain": [
       "array(['QUEENS', 'BROOKLYN', 'MANHATTAN', 'BRONX', nan, 'STATEN ISLAND'],\n",
       "      dtype=object)"
      ]
     },
     "execution_count": 14,
     "metadata": {},
     "output_type": "execute_result"
    }
   ],
   "source": [
    "df_cleaning[\"BOROUGH\"].unique()"
   ]
  },
  {
   "cell_type": "code",
   "execution_count": 15,
   "id": "6e24ef48-50a0-4e0e-ad2f-ed29d3706350",
   "metadata": {},
   "outputs": [
    {
     "name": "stdout",
     "output_type": "stream",
     "text": [
      "Missing boroughs 30.06 %\n"
     ]
    }
   ],
   "source": [
    "# Check how many boroughs are missing\n",
    "missing_boroughs = df_cleaning[\"BOROUGH\"].isna().mean()\n",
    "print(f\"Missing boroughs {round(missing_boroughs*100,2)} %\")"
   ]
  },
  {
   "cell_type": "code",
   "execution_count": 16,
   "id": "32f03b40-2d56-42c8-bc23-a9a5d7ae74a4",
   "metadata": {},
   "outputs": [
    {
     "data": {
      "text/plain": [
       "LATITUDE     196285\n",
       "LONGITUDE    196285\n",
       "dtype: int64"
      ]
     },
     "execution_count": 16,
     "metadata": {},
     "output_type": "execute_result"
    }
   ],
   "source": [
    "df_cleaning[[\"LATITUDE\", \"LONGITUDE\"]].isna().sum()"
   ]
  },
  {
   "cell_type": "code",
   "execution_count": 17,
   "id": "5d318829-4538-4e63-ad62-4be8f9a61602",
   "metadata": {},
   "outputs": [
    {
     "name": "stdout",
     "output_type": "stream",
     "text": [
      "Missing both latitude and longitude: 196285\n"
     ]
    }
   ],
   "source": [
    "# Check if both - latitude and longitude is missing in observation\n",
    "missing_count = df_cleaning[df_cleaning[\"LATITUDE\"].isna() & df_cleaning[\"LONGITUDE\"].isna()].shape[0]\n",
    "print(f\"Missing both latitude and longitude: {missing_count}\")"
   ]
  },
  {
   "cell_type": "markdown",
   "id": "a7fdb699-a2d7-463b-ac08-2102d6156e1c",
   "metadata": {},
   "source": [
    "## Match coordinates with boroughs from geojson"
   ]
  },
  {
   "cell_type": "markdown",
   "id": "5b2572a8-a72f-4829-a937-009f2825f886",
   "metadata": {},
   "source": [
    "### Create geometry df"
   ]
  },
  {
   "cell_type": "code",
   "execution_count": 18,
   "id": "d9542360-dc50-466d-9dfa-9836f76e3e79",
   "metadata": {},
   "outputs": [
    {
     "name": "stdout",
     "output_type": "stream",
     "text": [
      "<class 'pandas.core.frame.DataFrame'>\n",
      "Index: 1415893 entries, 0 to 1612177\n",
      "Data columns (total 4 columns):\n",
      " #   Column          Non-Null Count    Dtype  \n",
      "---  ------          --------------    -----  \n",
      " 0   LONGITUDE       1415893 non-null  float64\n",
      " 1   LATITUDE        1415893 non-null  float64\n",
      " 2   BOROUGH         1099516 non-null  object \n",
      " 3   ORIGINAL INDEX  1415893 non-null  int64  \n",
      "dtypes: float64(2), int64(1), object(1)\n",
      "memory usage: 54.0+ MB\n"
     ]
    }
   ],
   "source": [
    "geometry_df = df_cleaning.dropna(subset=[\"LONGITUDE\", \"LATITUDE\"]).copy()\n",
    "geometry_df = geometry_df[[\"LONGITUDE\", \"LATITUDE\", \"BOROUGH\"]]\n",
    "# create a column with original index as the original one will be replaced after sjoin\n",
    "geometry_df[\"ORIGINAL INDEX\"] = geometry_df.index\n",
    "geometry_df.info()"
   ]
  },
  {
   "cell_type": "markdown",
   "id": "29d1a628-3647-4052-8d33-c4fe6a09b18d",
   "metadata": {},
   "source": [
    "### Create geometry column"
   ]
  },
  {
   "cell_type": "code",
   "execution_count": 19,
   "id": "e402ab81-41d8-4919-acfc-3ea052146950",
   "metadata": {},
   "outputs": [
    {
     "name": "stdout",
     "output_type": "stream",
     "text": [
      "<class 'pandas.core.frame.DataFrame'>\n",
      "Index: 1415893 entries, 0 to 1612177\n",
      "Data columns (total 5 columns):\n",
      " #   Column          Non-Null Count    Dtype  \n",
      "---  ------          --------------    -----  \n",
      " 0   LONGITUDE       1415893 non-null  float64\n",
      " 1   LATITUDE        1415893 non-null  float64\n",
      " 2   BOROUGH         1099516 non-null  object \n",
      " 3   ORIGINAL INDEX  1415893 non-null  int64  \n",
      " 4   GEOMETRY        1415893 non-null  object \n",
      "dtypes: float64(2), int64(1), object(2)\n",
      "memory usage: 64.8+ MB\n"
     ]
    }
   ],
   "source": [
    "create_geometry_column(geometry_df)\n",
    "geometry_df.info()"
   ]
  },
  {
   "cell_type": "markdown",
   "id": "81518070-4a47-4d86-af87-12418a631d5a",
   "metadata": {},
   "source": [
    "### Convert geometry_df into GeoDataFrame"
   ]
  },
  {
   "cell_type": "code",
   "execution_count": 20,
   "id": "65f6ab97-008d-4f8a-901a-38c03e32ca83",
   "metadata": {},
   "outputs": [],
   "source": [
    "geometry_gdf = gpd.GeoDataFrame(geometry_df, geometry=\"GEOMETRY\", crs=\"EPSG:4326\")"
   ]
  },
  {
   "cell_type": "markdown",
   "id": "f28cee7a-5309-4df1-9640-436efd0258d2",
   "metadata": {},
   "source": [
    "### Load boroughs from shapefile"
   ]
  },
  {
   "cell_type": "code",
   "execution_count": 21,
   "id": "7a47b9dd-01f5-4b80-a246-d4e13408543b",
   "metadata": {},
   "outputs": [],
   "source": [
    "# Load borough boundaries\n",
    "# https://www.nyc.gov/content/planning/pages/resources/datasets/borough-boundaries\n",
    "boroughs_gdf = gpd.read_file(\"../data/nybb.shp\")"
   ]
  },
  {
   "cell_type": "code",
   "execution_count": 22,
   "id": "91556f8f-7c60-44fc-b875-bca4c205a083",
   "metadata": {},
   "outputs": [
    {
     "name": "stdout",
     "output_type": "stream",
     "text": [
      "Index(['BoroCode', 'BoroName', 'Shape_Leng', 'Shape_Area', 'geometry'], dtype='object')\n",
      "EPSG:2263\n"
     ]
    }
   ],
   "source": [
    "print(boroughs_gdf.columns)\n",
    "print(boroughs_gdf.crs)"
   ]
  },
  {
   "cell_type": "code",
   "execution_count": 23,
   "id": "3441eab2-e46e-4194-a387-08ecd58cac65",
   "metadata": {},
   "outputs": [],
   "source": [
    "boroughs_gdf = boroughs_gdf.to_crs(epsg=4326)"
   ]
  },
  {
   "cell_type": "markdown",
   "id": "dcded5a2-efa7-4ec4-9f13-8b8d0ddd27f5",
   "metadata": {},
   "source": [
    "### Spatial join"
   ]
  },
  {
   "cell_type": "code",
   "execution_count": 24,
   "id": "6b618e48-482c-4def-82aa-7a4ca504557a",
   "metadata": {},
   "outputs": [
    {
     "name": "stdout",
     "output_type": "stream",
     "text": [
      "Index(['BoroCode', 'BoroName', 'Shape_Leng', 'Shape_Area', 'geometry'], dtype='object')\n"
     ]
    }
   ],
   "source": [
    "print(boroughs_gdf.columns)"
   ]
  },
  {
   "cell_type": "code",
   "execution_count": 25,
   "id": "adb88021-2991-48af-8505-ea74fc78ae69",
   "metadata": {},
   "outputs": [],
   "source": [
    "geometry_gdf_joined = gpd.sjoin(geometry_gdf, boroughs_gdf[[\"BoroName\", \"geometry\"]], how = \"left\", predicate = \"intersects\")"
   ]
  },
  {
   "cell_type": "code",
   "execution_count": 26,
   "id": "cb8fbb71-8802-413d-924b-089e81a214a6",
   "metadata": {},
   "outputs": [
    {
     "name": "stdout",
     "output_type": "stream",
     "text": [
      "['Queens' 'Brooklyn' 'Manhattan' 'Bronx' 'Staten Island' nan]\n"
     ]
    }
   ],
   "source": [
    "print(geometry_gdf_joined[\"BoroName\"].unique())"
   ]
  },
  {
   "cell_type": "code",
   "execution_count": 27,
   "id": "7d7d7185-03a9-4d00-a836-a881e1ae4a50",
   "metadata": {},
   "outputs": [
    {
     "data": {
      "text/plain": [
       "np.int64(9256)"
      ]
     },
     "execution_count": 27,
     "metadata": {},
     "output_type": "execute_result"
    }
   ],
   "source": [
    "geometry_gdf_joined[\"BoroName\"].isna().sum()"
   ]
  },
  {
   "cell_type": "code",
   "execution_count": 28,
   "id": "a24b5358-3ce9-4ed0-ab6b-b4a606ef9e77",
   "metadata": {},
   "outputs": [],
   "source": [
    "geometry_gdf_joined[\"BoroName\"] = geometry_gdf_joined[\"BoroName\"].fillna(\"UNKNOWN\")"
   ]
  },
  {
   "cell_type": "code",
   "execution_count": 29,
   "id": "9c820212-7e17-480b-870f-cc62b207fc1c",
   "metadata": {},
   "outputs": [
    {
     "data": {
      "text/plain": [
       "array(['Queens', 'Brooklyn', 'Manhattan', 'Bronx', 'Staten Island',\n",
       "       'UNKNOWN'], dtype=object)"
      ]
     },
     "execution_count": 29,
     "metadata": {},
     "output_type": "execute_result"
    }
   ],
   "source": [
    "geometry_gdf_joined[\"BoroName\"].unique()"
   ]
  },
  {
   "cell_type": "code",
   "execution_count": 30,
   "id": "6b664e53-a11c-4dd5-aba0-8820af6d6545",
   "metadata": {},
   "outputs": [
    {
     "data": {
      "text/html": [
       "<div>\n",
       "<style scoped>\n",
       "    .dataframe tbody tr th:only-of-type {\n",
       "        vertical-align: middle;\n",
       "    }\n",
       "\n",
       "    .dataframe tbody tr th {\n",
       "        vertical-align: top;\n",
       "    }\n",
       "\n",
       "    .dataframe thead th {\n",
       "        text-align: right;\n",
       "    }\n",
       "</style>\n",
       "<table border=\"1\" class=\"dataframe\">\n",
       "  <thead>\n",
       "    <tr style=\"text-align: right;\">\n",
       "      <th></th>\n",
       "      <th>LONGITUDE</th>\n",
       "      <th>LATITUDE</th>\n",
       "      <th>BOROUGH</th>\n",
       "      <th>ORIGINAL INDEX</th>\n",
       "      <th>GEOMETRY</th>\n",
       "      <th>index_right</th>\n",
       "      <th>BoroName</th>\n",
       "    </tr>\n",
       "  </thead>\n",
       "  <tbody>\n",
       "    <tr>\n",
       "      <th>0</th>\n",
       "      <td>-73.790184</td>\n",
       "      <td>40.676052</td>\n",
       "      <td>QUEENS</td>\n",
       "      <td>0</td>\n",
       "      <td>POINT (-73.79018 40.67605)</td>\n",
       "      <td>2.0</td>\n",
       "      <td>Queens</td>\n",
       "    </tr>\n",
       "    <tr>\n",
       "      <th>1</th>\n",
       "      <td>-73.951096</td>\n",
       "      <td>40.657780</td>\n",
       "      <td>BROOKLYN</td>\n",
       "      <td>1</td>\n",
       "      <td>POINT (-73.9511 40.65778)</td>\n",
       "      <td>4.0</td>\n",
       "      <td>Brooklyn</td>\n",
       "    </tr>\n",
       "    <tr>\n",
       "      <th>2</th>\n",
       "      <td>-73.993835</td>\n",
       "      <td>40.718143</td>\n",
       "      <td>MANHATTAN</td>\n",
       "      <td>2</td>\n",
       "      <td>POINT (-73.99384 40.71814)</td>\n",
       "      <td>3.0</td>\n",
       "      <td>Manhattan</td>\n",
       "    </tr>\n",
       "    <tr>\n",
       "      <th>3</th>\n",
       "      <td>-73.866610</td>\n",
       "      <td>40.840534</td>\n",
       "      <td>BRONX</td>\n",
       "      <td>3</td>\n",
       "      <td>POINT (-73.86661 40.84053)</td>\n",
       "      <td>1.0</td>\n",
       "      <td>Bronx</td>\n",
       "    </tr>\n",
       "    <tr>\n",
       "      <th>4</th>\n",
       "      <td>-73.975400</td>\n",
       "      <td>40.745440</td>\n",
       "      <td>MANHATTAN</td>\n",
       "      <td>4</td>\n",
       "      <td>POINT (-73.9754 40.74544)</td>\n",
       "      <td>3.0</td>\n",
       "      <td>Manhattan</td>\n",
       "    </tr>\n",
       "  </tbody>\n",
       "</table>\n",
       "</div>"
      ],
      "text/plain": [
       "   LONGITUDE   LATITUDE    BOROUGH  ORIGINAL INDEX  \\\n",
       "0 -73.790184  40.676052     QUEENS               0   \n",
       "1 -73.951096  40.657780   BROOKLYN               1   \n",
       "2 -73.993835  40.718143  MANHATTAN               2   \n",
       "3 -73.866610  40.840534      BRONX               3   \n",
       "4 -73.975400  40.745440  MANHATTAN               4   \n",
       "\n",
       "                     GEOMETRY  index_right   BoroName  \n",
       "0  POINT (-73.79018 40.67605)          2.0     Queens  \n",
       "1   POINT (-73.9511 40.65778)          4.0   Brooklyn  \n",
       "2  POINT (-73.99384 40.71814)          3.0  Manhattan  \n",
       "3  POINT (-73.86661 40.84053)          1.0      Bronx  \n",
       "4   POINT (-73.9754 40.74544)          3.0  Manhattan  "
      ]
     },
     "execution_count": 30,
     "metadata": {},
     "output_type": "execute_result"
    }
   ],
   "source": [
    "geometry_gdf_joined.head(5)"
   ]
  },
  {
   "cell_type": "markdown",
   "id": "f484364d-eb7d-4f15-81ab-f02554656be2",
   "metadata": {},
   "source": [
    "### Fill NaN with mapped boroughs"
   ]
  },
  {
   "cell_type": "code",
   "execution_count": 31,
   "id": "c9ef859b-d22f-4ce6-bc14-65c3cd7ff662",
   "metadata": {},
   "outputs": [],
   "source": [
    "df_cleaning.loc[geometry_gdf_joined[\"ORIGINAL INDEX\"], \"BOROUGH\"] = df_cleaning.loc[\n",
    "    geometry_gdf_joined[\"ORIGINAL INDEX\"], \"BOROUGH\"\n",
    "    ].combine_first(geometry_gdf_joined.set_index(\"ORIGINAL INDEX\")[\"BoroName\"])"
   ]
  },
  {
   "cell_type": "code",
   "execution_count": 32,
   "id": "e5e25c7b-0f14-486a-9faf-0a11662f9863",
   "metadata": {},
   "outputs": [
    {
     "name": "stdout",
     "output_type": "stream",
     "text": [
      "<class 'pandas.core.frame.DataFrame'>\n",
      "RangeIndex: 1612178 entries, 0 to 1612177\n",
      "Data columns (total 30 columns):\n",
      " #   Column                         Non-Null Count    Dtype         \n",
      "---  ------                         --------------    -----         \n",
      " 0   ACCIDENT DATE                  1612178 non-null  datetime64[ns]\n",
      " 1   ACCIDENT TIME                  1612178 non-null  object        \n",
      " 2   BOROUGH                        1443930 non-null  object        \n",
      " 3   ZIP CODE                       1127376 non-null  object        \n",
      " 4   LATITUDE                       1415893 non-null  float64       \n",
      " 5   LONGITUDE                      1415893 non-null  float64       \n",
      " 6   LOCATION                       1415893 non-null  object        \n",
      " 7   ON STREET NAME                 1298002 non-null  object        \n",
      " 8   CROSS STREET NAME              1079193 non-null  object        \n",
      " 9   OFF STREET NAME                219732 non-null   object        \n",
      " 10  NUMBER OF PERSONS INJURED      1612161 non-null  float64       \n",
      " 11  NUMBER OF PERSONS KILLED       1612145 non-null  float64       \n",
      " 12  NUMBER OF PEDESTRIANS INJURED  1612178 non-null  int64         \n",
      " 13  NUMBER OF PEDESTRIANS KILLED   1612178 non-null  int64         \n",
      " 14  NUMBER OF CYCLIST INJURED      1612178 non-null  int64         \n",
      " 15  NUMBER OF CYCLIST KILLED       1612178 non-null  int64         \n",
      " 16  NUMBER OF MOTORIST INJURED     1612178 non-null  int64         \n",
      " 17  NUMBER OF MOTORIST KILLED      1612178 non-null  int64         \n",
      " 18  CONTRIBUTING FACTOR VEHICLE 1  1607854 non-null  object        \n",
      " 19  CONTRIBUTING FACTOR VEHICLE 2  1396127 non-null  object        \n",
      " 20  CONTRIBUTING FACTOR VEHICLE 3  104254 non-null   object        \n",
      " 21  CONTRIBUTING FACTOR VEHICLE 4  21789 non-null    object        \n",
      " 22  CONTRIBUTING FACTOR VEHICLE 5  5622 non-null     object        \n",
      " 23  COLLISION_ID                   1612178 non-null  int64         \n",
      " 24  VEHICLE TYPE CODE 1            1606597 non-null  object        \n",
      " 25  VEHICLE TYPE CODE 2            1346858 non-null  object        \n",
      " 26  VEHICLE TYPE CODE 3            128742 non-null   object        \n",
      " 27  VEHICLE TYPE CODE 4            46009 non-null    object        \n",
      " 28  VEHICLE TYPE CODE 5            10150 non-null    object        \n",
      " 29  ACCIDENT DATE FORMATTED        1612178 non-null  object        \n",
      "dtypes: datetime64[ns](1), float64(4), int64(7), object(18)\n",
      "memory usage: 369.0+ MB\n"
     ]
    }
   ],
   "source": [
    "df_cleaning.info()"
   ]
  },
  {
   "cell_type": "code",
   "execution_count": 33,
   "id": "f7852fbf-6a4c-47b7-b711-2887c1df463e",
   "metadata": {},
   "outputs": [
    {
     "data": {
      "text/plain": [
       "array(['QUEENS', 'BROOKLYN', 'MANHATTAN', 'BRONX', 'Bronx', 'Queens',\n",
       "       'Brooklyn', 'STATEN ISLAND', nan, 'Manhattan', 'Staten Island',\n",
       "       'UNKNOWN'], dtype=object)"
      ]
     },
     "execution_count": 33,
     "metadata": {},
     "output_type": "execute_result"
    }
   ],
   "source": [
    "df_cleaning['BOROUGH'].unique()"
   ]
  },
  {
   "cell_type": "code",
   "execution_count": 34,
   "id": "7c372b5d-0615-47b7-bd87-e5bf878366df",
   "metadata": {},
   "outputs": [],
   "source": [
    "df_cleaning[\"BOROUGH\"] = df_cleaning[\"BOROUGH\"].str.upper()"
   ]
  },
  {
   "cell_type": "markdown",
   "id": "4adda5f0-9239-49b2-96f0-a102a23ad306",
   "metadata": {},
   "source": [
    "## Label NaN as \"UNKNOWN\""
   ]
  },
  {
   "cell_type": "code",
   "execution_count": 35,
   "id": "a3963c1c-3369-402f-ab8a-ec3be0e6510f",
   "metadata": {},
   "outputs": [],
   "source": [
    "cols_to_fill = [\"BOROUGH\",\"LATITUDE\",\"LONGITUDE\",\"LOCATION\"]\n",
    "df_cleaning[cols_to_fill] = df_cleaning[cols_to_fill].apply(lambda col: col.fillna(\"UNKNOWN\"))"
   ]
  },
  {
   "cell_type": "code",
   "execution_count": 36,
   "id": "18a9072e-868e-4184-8d5a-bb8578e09ca3",
   "metadata": {},
   "outputs": [
    {
     "data": {
      "text/plain": [
       "array(['QUEENS', 'BROOKLYN', 'MANHATTAN', 'BRONX', 'STATEN ISLAND',\n",
       "       'UNKNOWN'], dtype=object)"
      ]
     },
     "execution_count": 36,
     "metadata": {},
     "output_type": "execute_result"
    }
   ],
   "source": [
    "df_cleaning['BOROUGH'].unique()"
   ]
  },
  {
   "cell_type": "code",
   "execution_count": 37,
   "id": "1c6b8657-d953-41cf-b1f3-3929849a5652",
   "metadata": {},
   "outputs": [
    {
     "name": "stdout",
     "output_type": "stream",
     "text": [
      "<class 'pandas.core.frame.DataFrame'>\n",
      "RangeIndex: 1612178 entries, 0 to 1612177\n",
      "Data columns (total 30 columns):\n",
      " #   Column                         Non-Null Count    Dtype         \n",
      "---  ------                         --------------    -----         \n",
      " 0   ACCIDENT DATE                  1612178 non-null  datetime64[ns]\n",
      " 1   ACCIDENT TIME                  1612178 non-null  object        \n",
      " 2   BOROUGH                        1612178 non-null  object        \n",
      " 3   ZIP CODE                       1127376 non-null  object        \n",
      " 4   LATITUDE                       1612178 non-null  object        \n",
      " 5   LONGITUDE                      1612178 non-null  object        \n",
      " 6   LOCATION                       1612178 non-null  object        \n",
      " 7   ON STREET NAME                 1298002 non-null  object        \n",
      " 8   CROSS STREET NAME              1079193 non-null  object        \n",
      " 9   OFF STREET NAME                219732 non-null   object        \n",
      " 10  NUMBER OF PERSONS INJURED      1612161 non-null  float64       \n",
      " 11  NUMBER OF PERSONS KILLED       1612145 non-null  float64       \n",
      " 12  NUMBER OF PEDESTRIANS INJURED  1612178 non-null  int64         \n",
      " 13  NUMBER OF PEDESTRIANS KILLED   1612178 non-null  int64         \n",
      " 14  NUMBER OF CYCLIST INJURED      1612178 non-null  int64         \n",
      " 15  NUMBER OF CYCLIST KILLED       1612178 non-null  int64         \n",
      " 16  NUMBER OF MOTORIST INJURED     1612178 non-null  int64         \n",
      " 17  NUMBER OF MOTORIST KILLED      1612178 non-null  int64         \n",
      " 18  CONTRIBUTING FACTOR VEHICLE 1  1607854 non-null  object        \n",
      " 19  CONTRIBUTING FACTOR VEHICLE 2  1396127 non-null  object        \n",
      " 20  CONTRIBUTING FACTOR VEHICLE 3  104254 non-null   object        \n",
      " 21  CONTRIBUTING FACTOR VEHICLE 4  21789 non-null    object        \n",
      " 22  CONTRIBUTING FACTOR VEHICLE 5  5622 non-null     object        \n",
      " 23  COLLISION_ID                   1612178 non-null  int64         \n",
      " 24  VEHICLE TYPE CODE 1            1606597 non-null  object        \n",
      " 25  VEHICLE TYPE CODE 2            1346858 non-null  object        \n",
      " 26  VEHICLE TYPE CODE 3            128742 non-null   object        \n",
      " 27  VEHICLE TYPE CODE 4            46009 non-null    object        \n",
      " 28  VEHICLE TYPE CODE 5            10150 non-null    object        \n",
      " 29  ACCIDENT DATE FORMATTED        1612178 non-null  object        \n",
      "dtypes: datetime64[ns](1), float64(2), int64(7), object(20)\n",
      "memory usage: 369.0+ MB\n"
     ]
    }
   ],
   "source": [
    "df_cleaning.info()"
   ]
  },
  {
   "cell_type": "markdown",
   "id": "e8e40ba4-bfda-4ee8-9878-0e78e5ae2847",
   "metadata": {},
   "source": [
    "## Number of persons"
   ]
  },
  {
   "cell_type": "code",
   "execution_count": 38,
   "id": "95fbbd30-9f3e-4a95-863e-4ff6accf104c",
   "metadata": {},
   "outputs": [
    {
     "data": {
      "text/plain": [
       "array([ 0.,  1.,  3.,  2.,  4.,  7.,  5.,  6.,  8.,  9., nan, 11., 27.,\n",
       "       13., 10., 12., 17., 14., 15., 16., 20., 22., 31., 19., 18., 24.])"
      ]
     },
     "execution_count": 38,
     "metadata": {},
     "output_type": "execute_result"
    }
   ],
   "source": [
    "df_cleaning[\"NUMBER OF PERSONS INJURED\"].unique()"
   ]
  },
  {
   "cell_type": "code",
   "execution_count": 39,
   "id": "caad382c-5a6d-49c1-8cba-db26ca2bdaa5",
   "metadata": {},
   "outputs": [],
   "source": [
    "df_cleaning[\"NUMBER OF PERSONS INJURED\"] = df_cleaning[\"NUMBER OF PERSONS INJURED\"].fillna(0)"
   ]
  },
  {
   "cell_type": "code",
   "execution_count": 40,
   "id": "a35997be-7666-4662-a93b-b30bb24a598c",
   "metadata": {},
   "outputs": [
    {
     "data": {
      "text/plain": [
       "array([ 0.,  1.,  3.,  2.,  4.,  7.,  5.,  6.,  8.,  9., 11., 27., 13.,\n",
       "       10., 12., 17., 14., 15., 16., 20., 22., 31., 19., 18., 24.])"
      ]
     },
     "execution_count": 40,
     "metadata": {},
     "output_type": "execute_result"
    }
   ],
   "source": [
    "df_cleaning[\"NUMBER OF PERSONS INJURED\"].unique()"
   ]
  },
  {
   "cell_type": "code",
   "execution_count": 41,
   "id": "c1c01712-e584-4cd5-ae0b-4f9998a8c24b",
   "metadata": {},
   "outputs": [
    {
     "data": {
      "text/plain": [
       "array([ 0.,  1.,  2., nan,  8.,  4.,  5.,  3.])"
      ]
     },
     "execution_count": 41,
     "metadata": {},
     "output_type": "execute_result"
    }
   ],
   "source": [
    "df_cleaning[\"NUMBER OF PERSONS KILLED\"].unique()"
   ]
  },
  {
   "cell_type": "code",
   "execution_count": 42,
   "id": "4c534e69-f7d6-482f-bdb4-7f12646e6465",
   "metadata": {},
   "outputs": [],
   "source": [
    "df_cleaning[\"NUMBER OF PERSONS KILLED\"] = df_cleaning[\"NUMBER OF PERSONS KILLED\"].fillna(0)"
   ]
  },
  {
   "cell_type": "code",
   "execution_count": 43,
   "id": "17d39d32-9df4-4aff-9023-2164b71951b6",
   "metadata": {},
   "outputs": [],
   "source": [
    "df_cleaning[[\"NUMBER OF PERSONS INJURED\",\"NUMBER OF PERSONS KILLED\"]] = df_cleaning[[\"NUMBER OF PERSONS INJURED\",\"NUMBER OF PERSONS KILLED\"]].astype(int)"
   ]
  },
  {
   "cell_type": "code",
   "execution_count": 44,
   "id": "821fac19-0066-4963-ad3a-fa1d69cf1ada",
   "metadata": {},
   "outputs": [
    {
     "name": "stdout",
     "output_type": "stream",
     "text": [
      "<class 'pandas.core.frame.DataFrame'>\n",
      "RangeIndex: 1612178 entries, 0 to 1612177\n",
      "Data columns (total 30 columns):\n",
      " #   Column                         Non-Null Count    Dtype         \n",
      "---  ------                         --------------    -----         \n",
      " 0   ACCIDENT DATE                  1612178 non-null  datetime64[ns]\n",
      " 1   ACCIDENT TIME                  1612178 non-null  object        \n",
      " 2   BOROUGH                        1612178 non-null  object        \n",
      " 3   ZIP CODE                       1127376 non-null  object        \n",
      " 4   LATITUDE                       1612178 non-null  object        \n",
      " 5   LONGITUDE                      1612178 non-null  object        \n",
      " 6   LOCATION                       1612178 non-null  object        \n",
      " 7   ON STREET NAME                 1298002 non-null  object        \n",
      " 8   CROSS STREET NAME              1079193 non-null  object        \n",
      " 9   OFF STREET NAME                219732 non-null   object        \n",
      " 10  NUMBER OF PERSONS INJURED      1612178 non-null  int64         \n",
      " 11  NUMBER OF PERSONS KILLED       1612178 non-null  int64         \n",
      " 12  NUMBER OF PEDESTRIANS INJURED  1612178 non-null  int64         \n",
      " 13  NUMBER OF PEDESTRIANS KILLED   1612178 non-null  int64         \n",
      " 14  NUMBER OF CYCLIST INJURED      1612178 non-null  int64         \n",
      " 15  NUMBER OF CYCLIST KILLED       1612178 non-null  int64         \n",
      " 16  NUMBER OF MOTORIST INJURED     1612178 non-null  int64         \n",
      " 17  NUMBER OF MOTORIST KILLED      1612178 non-null  int64         \n",
      " 18  CONTRIBUTING FACTOR VEHICLE 1  1607854 non-null  object        \n",
      " 19  CONTRIBUTING FACTOR VEHICLE 2  1396127 non-null  object        \n",
      " 20  CONTRIBUTING FACTOR VEHICLE 3  104254 non-null   object        \n",
      " 21  CONTRIBUTING FACTOR VEHICLE 4  21789 non-null    object        \n",
      " 22  CONTRIBUTING FACTOR VEHICLE 5  5622 non-null     object        \n",
      " 23  COLLISION_ID                   1612178 non-null  int64         \n",
      " 24  VEHICLE TYPE CODE 1            1606597 non-null  object        \n",
      " 25  VEHICLE TYPE CODE 2            1346858 non-null  object        \n",
      " 26  VEHICLE TYPE CODE 3            128742 non-null   object        \n",
      " 27  VEHICLE TYPE CODE 4            46009 non-null    object        \n",
      " 28  VEHICLE TYPE CODE 5            10150 non-null    object        \n",
      " 29  ACCIDENT DATE FORMATTED        1612178 non-null  object        \n",
      "dtypes: datetime64[ns](1), int64(9), object(20)\n",
      "memory usage: 369.0+ MB\n"
     ]
    }
   ],
   "source": [
    "df_cleaning.info()"
   ]
  },
  {
   "cell_type": "code",
   "execution_count": 45,
   "id": "3453a207-a39b-4cac-8076-1c3e10a3ef89",
   "metadata": {},
   "outputs": [
    {
     "data": {
      "text/plain": [
       "array([0, 1, 2, 5, 3, 4])"
      ]
     },
     "execution_count": 45,
     "metadata": {},
     "output_type": "execute_result"
    }
   ],
   "source": [
    "df_cleaning[\"NUMBER OF MOTORIST KILLED\"].unique()"
   ]
  },
  {
   "cell_type": "markdown",
   "id": "6bfb77c8-6771-435a-aa67-6c6dc8ffca7c",
   "metadata": {},
   "source": [
    "## String formatting"
   ]
  },
  {
   "cell_type": "code",
   "execution_count": 46,
   "id": "880958e9-ded3-45a4-8e7b-92f8bfe2263d",
   "metadata": {},
   "outputs": [],
   "source": [
    "cols_to_format = [\"CONTRIBUTING FACTOR VEHICLE 1\", \"CONTRIBUTING FACTOR VEHICLE 2\", \"CONTRIBUTING FACTOR VEHICLE 3\",\n",
    "                     \"CONTRIBUTING FACTOR VEHICLE 4\", \"CONTRIBUTING FACTOR VEHICLE 5\", \"VEHICLE TYPE CODE 1\", \n",
    "                     \"VEHICLE TYPE CODE 2\",\"VEHICLE TYPE CODE 3\",\"VEHICLE TYPE CODE 4\",\"VEHICLE TYPE CODE 5\",\n",
    "                 \"ON STREET NAME\", \"CROSS STREET NAME\", \"OFF STREET NAME\"]\n",
    "df_cleaning[cols_to_format] = df_cleaning[cols_to_format].fillna(\"unknown\")\n",
    "df_cleaning[cols_to_format] = df_cleaning[cols_to_format].astype(str).apply(\n",
    "    lambda col: col.str.strip().str.lower().replace([\"unspecified\",\"\"], \"unknown\"))"
   ]
  },
  {
   "cell_type": "markdown",
   "id": "4488f799-1c87-412c-b582-67814d24336a",
   "metadata": {},
   "source": [
    "## Streets"
   ]
  },
  {
   "cell_type": "code",
   "execution_count": 47,
   "id": "a218d975-6939-4752-b9e1-9ec8e4857889",
   "metadata": {},
   "outputs": [],
   "source": [
    "on_street_typos = find_similar_phrases(df_cleaning[\"ON STREET NAME\"], 70)"
   ]
  },
  {
   "cell_type": "code",
   "execution_count": 48,
   "id": "53efd762-890c-471d-81ca-0ca22608b5bb",
   "metadata": {},
   "outputs": [],
   "source": [
    "streets_to_format = [\"ON STREET NAME\", \"CROSS STREET NAME\", \"OFF STREET NAME\"]\n",
    "# Normalization of common street abbreviations\n",
    "df_cleaning[streets_to_format] = df_cleaning[streets_to_format].apply(\n",
    "    lambda x: x.apply(normalize_street_names))"
   ]
  },
  {
   "cell_type": "markdown",
   "id": "378d59e8-8694-4a21-ad4e-374c91df7088",
   "metadata": {},
   "source": [
    "## Contributing factors"
   ]
  },
  {
   "cell_type": "code",
   "execution_count": 49,
   "id": "68eceb40-a192-4b56-800c-b78a0d1d37be",
   "metadata": {},
   "outputs": [],
   "source": [
    "cfv_typos_cols_1 = find_similar_phrases(df[\"CONTRIBUTING FACTOR VEHICLE 1\"])\n",
    "cfv_typos_cols_2 = find_similar_phrases(df[\"CONTRIBUTING FACTOR VEHICLE 2\"])\n",
    "cfv_typos_cols_3 = find_similar_phrases(df[\"CONTRIBUTING FACTOR VEHICLE 3\"])\n",
    "cfv_typos_cols_4 = find_similar_phrases(df[\"CONTRIBUTING FACTOR VEHICLE 4\"])\n",
    "cfv_typos_cols_5 = find_similar_phrases(df[\"CONTRIBUTING FACTOR VEHICLE 5\"])"
   ]
  },
  {
   "cell_type": "code",
   "execution_count": 50,
   "id": "0f3a6f68-647a-47a5-b291-8416a1b5f8a0",
   "metadata": {},
   "outputs": [
    {
     "name": "stdout",
     "output_type": "stream",
     "text": [
      "CFV 1 typos {'Reaction to Uninvolved Vehicle': ['Reaction to Other Uninvolved Vehicle'], 'Drugs (illegal)': ['Drugs (Illegal)'], 'Illnes': ['Illness'], 'Cell Phone (hand-Held)': ['Cell Phone (hand-held)'], 'Reaction to Other Uninvolved Vehicle': ['Reaction to Uninvolved Vehicle'], 'Drugs (Illegal)': ['Drugs (illegal)'], 'Illness': ['Illnes'], 'Cell Phone (hand-held)': ['Cell Phone (hand-Held)']}\n",
      "CFV 2 typos {'Reaction to Uninvolved Vehicle': ['Reaction to Other Uninvolved Vehicle'], 'Illnes': ['Illness'], 'Cell Phone (hand-Held)': ['Cell Phone (hand-held)'], 'Drugs (illegal)': ['Drugs (Illegal)'], 'Reaction to Other Uninvolved Vehicle': ['Reaction to Uninvolved Vehicle'], 'Illness': ['Illnes'], 'Drugs (Illegal)': ['Drugs (illegal)'], 'Cell Phone (hand-held)': ['Cell Phone (hand-Held)']}\n",
      "CFV 3 typos {'Reaction to Uninvolved Vehicle': ['Reaction to Other Uninvolved Vehicle'], 'Drugs (illegal)': ['Drugs (Illegal)'], 'Illnes': ['Illness'], 'Illness': ['Illnes'], 'Drugs (Illegal)': ['Drugs (illegal)'], 'Reaction to Other Uninvolved Vehicle': ['Reaction to Uninvolved Vehicle']}\n",
      "CFV 4 typos {'Drugs (illegal)': ['Drugs (Illegal)'], 'Drugs (Illegal)': ['Drugs (illegal)']}\n",
      "CFV 5 typos {}\n"
     ]
    }
   ],
   "source": [
    "print(f\"CFV 1 typos {cfv_typos_cols_1}\")\n",
    "print(f\"CFV 2 typos {cfv_typos_cols_2}\")\n",
    "print(f\"CFV 3 typos {cfv_typos_cols_3}\")\n",
    "print(f\"CFV 4 typos {cfv_typos_cols_4}\")\n",
    "print(f\"CFV 5 typos {cfv_typos_cols_5}\")"
   ]
  },
  {
   "cell_type": "markdown",
   "id": "dc6c6617-431a-43d2-bc02-56cc42298b77",
   "metadata": {},
   "source": [
    "### Corrections directory"
   ]
  },
  {
   "cell_type": "code",
   "execution_count": 51,
   "id": "bedc9509-0f70-4fb7-8814-64f5ad9d0747",
   "metadata": {},
   "outputs": [
    {
     "data": {
      "text/plain": [
       "array(['passing too closely', 'driver inattention/distraction', 'unknown',\n",
       "       'unsafe speed', 'reaction to uninvolved vehicle',\n",
       "       'following too closely', 'passing or lane usage improper',\n",
       "       'view obstructed/limited', 'unsafe lane changing',\n",
       "       'aggressive driving/road rage', 'other vehicular',\n",
       "       'driverless/runaway vehicle', 'turning improperly',\n",
       "       'failure to yield right-of-way', 'backing unsafely',\n",
       "       'brakes defective', 'drugs (illegal)', 'pavement defective',\n",
       "       'traffic control disregarded', 'lane marking improper/inadequate',\n",
       "       'tire failure/inadequate', 'failure to keep right',\n",
       "       'obstruction/debris', 'outside car distraction',\n",
       "       'alcohol involvement', 'driver inexperience', 'pavement slippery',\n",
       "       'pedestrian/bicyclist/other pedestrian error/confusion',\n",
       "       'using on board navigation device', 'lost consciousness',\n",
       "       'passenger distraction', 'oversized vehicle', 'fatigued/drowsy',\n",
       "       'illnes', 'fell asleep', 'steering failure', 'glare',\n",
       "       'physical disability', 'prescription medication', 'animals action',\n",
       "       'cell phone (hand-held)', 'cell phone (hands-free)',\n",
       "       'other lighting defects', 'listening/using headphones',\n",
       "       'traffic control device improper/non-working',\n",
       "       'accelerator defective', 'tow hitch defective',\n",
       "       'vehicle vandalism', 'other electronic device', 'tinted windows',\n",
       "       'windshield inadequate', 'eating or drinking',\n",
       "       'shoulders defective/improper', 'texting', 'headlights defective',\n",
       "       'reaction to other uninvolved vehicle', 'illness', '80', '1'],\n",
       "      dtype=object)"
      ]
     },
     "execution_count": 51,
     "metadata": {},
     "output_type": "execute_result"
    }
   ],
   "source": [
    "df_cleaning[\"CONTRIBUTING FACTOR VEHICLE 1\"].unique()"
   ]
  },
  {
   "cell_type": "code",
   "execution_count": 52,
   "id": "44e6f7e3-8e91-4c93-a947-152cf33d703c",
   "metadata": {},
   "outputs": [],
   "source": [
    "corrections_cfv = {\"reaction to other uninvolved vehicle\":\"reaction to uninvolved vehicle\", \"illnes\":\"illness\", \"nan\":\"unknown\", \n",
    "                  \"80\": \"unknown\", \"1\": \"unknown\"}"
   ]
  },
  {
   "cell_type": "code",
   "execution_count": 53,
   "id": "5c9c4952-faa8-4c05-83c7-08535bcf636a",
   "metadata": {},
   "outputs": [],
   "source": [
    "cfv_cols_to_correct = [\"CONTRIBUTING FACTOR VEHICLE 1\", \"CONTRIBUTING FACTOR VEHICLE 2\", \"CONTRIBUTING FACTOR VEHICLE 3\",\n",
    "                     \"CONTRIBUTING FACTOR VEHICLE 4\", \"CONTRIBUTING FACTOR VEHICLE 5\"]\n",
    "df_cleaning[cfv_cols_to_correct] = df_cleaning[cfv_cols_to_correct].replace(corrections_cfv)"
   ]
  },
  {
   "cell_type": "code",
   "execution_count": 54,
   "id": "1640616c-462a-46ed-a2ef-b370e34512c6",
   "metadata": {},
   "outputs": [
    {
     "name": "stdout",
     "output_type": "stream",
     "text": [
      "{}\n"
     ]
    }
   ],
   "source": [
    "cfv_typos_cols_1_cleaned = find_similar_phrases(df_cleaning[\"CONTRIBUTING FACTOR VEHICLE 1\"])\n",
    "print(cfv_typos_cols_1_cleaned)"
   ]
  },
  {
   "cell_type": "markdown",
   "id": "21a2efd1-e9af-48fd-9192-65802d785eb6",
   "metadata": {},
   "source": [
    "## Vehicle types"
   ]
  },
  {
   "cell_type": "code",
   "execution_count": 55,
   "id": "5d05b10d-f710-46b8-8f4f-8a8290453925",
   "metadata": {},
   "outputs": [
    {
     "name": "stdout",
     "output_type": "stream",
     "text": [
      "<class 'pandas.core.frame.DataFrame'>\n",
      "RangeIndex: 1612178 entries, 0 to 1612177\n",
      "Data columns (total 30 columns):\n",
      " #   Column                         Non-Null Count    Dtype         \n",
      "---  ------                         --------------    -----         \n",
      " 0   ACCIDENT DATE                  1612178 non-null  datetime64[ns]\n",
      " 1   ACCIDENT TIME                  1612178 non-null  object        \n",
      " 2   BOROUGH                        1612178 non-null  object        \n",
      " 3   ZIP CODE                       1127376 non-null  object        \n",
      " 4   LATITUDE                       1612178 non-null  object        \n",
      " 5   LONGITUDE                      1612178 non-null  object        \n",
      " 6   LOCATION                       1612178 non-null  object        \n",
      " 7   ON STREET NAME                 1612178 non-null  object        \n",
      " 8   CROSS STREET NAME              1612178 non-null  object        \n",
      " 9   OFF STREET NAME                1612178 non-null  object        \n",
      " 10  NUMBER OF PERSONS INJURED      1612178 non-null  int64         \n",
      " 11  NUMBER OF PERSONS KILLED       1612178 non-null  int64         \n",
      " 12  NUMBER OF PEDESTRIANS INJURED  1612178 non-null  int64         \n",
      " 13  NUMBER OF PEDESTRIANS KILLED   1612178 non-null  int64         \n",
      " 14  NUMBER OF CYCLIST INJURED      1612178 non-null  int64         \n",
      " 15  NUMBER OF CYCLIST KILLED       1612178 non-null  int64         \n",
      " 16  NUMBER OF MOTORIST INJURED     1612178 non-null  int64         \n",
      " 17  NUMBER OF MOTORIST KILLED      1612178 non-null  int64         \n",
      " 18  CONTRIBUTING FACTOR VEHICLE 1  1612178 non-null  object        \n",
      " 19  CONTRIBUTING FACTOR VEHICLE 2  1612178 non-null  object        \n",
      " 20  CONTRIBUTING FACTOR VEHICLE 3  1612178 non-null  object        \n",
      " 21  CONTRIBUTING FACTOR VEHICLE 4  1612178 non-null  object        \n",
      " 22  CONTRIBUTING FACTOR VEHICLE 5  1612178 non-null  object        \n",
      " 23  COLLISION_ID                   1612178 non-null  int64         \n",
      " 24  VEHICLE TYPE CODE 1            1612178 non-null  object        \n",
      " 25  VEHICLE TYPE CODE 2            1612178 non-null  object        \n",
      " 26  VEHICLE TYPE CODE 3            1612178 non-null  object        \n",
      " 27  VEHICLE TYPE CODE 4            1612178 non-null  object        \n",
      " 28  VEHICLE TYPE CODE 5            1612178 non-null  object        \n",
      " 29  ACCIDENT DATE FORMATTED        1612178 non-null  object        \n",
      "dtypes: datetime64[ns](1), int64(9), object(20)\n",
      "memory usage: 369.0+ MB\n"
     ]
    }
   ],
   "source": [
    "df_cleaning.info()"
   ]
  },
  {
   "cell_type": "code",
   "execution_count": 56,
   "id": "36044f5a-95cf-4c92-95b7-61757f7de7f9",
   "metadata": {},
   "outputs": [],
   "source": [
    "# df[\"VEHICLE TYPE CODE 1\"].unique()\n",
    "vtc1 = find_similar_phrases(df_cleaning[\"VEHICLE TYPE CODE 1\"], 80)\n",
    "vtc2 = find_similar_phrases(df_cleaning[\"VEHICLE TYPE CODE 2\"])\n",
    "vtc3 = find_similar_phrases(df_cleaning[\"VEHICLE TYPE CODE 3\"])\n",
    "vtc4 = find_similar_phrases(df_cleaning[\"VEHICLE TYPE CODE 4\"])\n",
    "vtc5 = find_similar_phrases(df_cleaning[\"VEHICLE TYPE CODE 5\"])"
   ]
  },
  {
   "cell_type": "code",
   "execution_count": 57,
   "id": "84d22af7-4b77-4bec-abe9-b137d8917e7a",
   "metadata": {},
   "outputs": [
    {
     "data": {
      "text/plain": [
       "array(['sedan', 'station wagon/sport utility vehicle', 'taxi',\n",
       "       'motorcycle', 'pick-up truck', 'bus', 'box truck', 'bike',\n",
       "       'tractor truck diesel', 'passenger vehicle', 'van',\n",
       "       'refrigerated van', 'unknown', 'e-bik', 'garbage or refuse',\n",
       "       'e-sco', 'dump', 'lift boom', 'ambul', 'ambulance', 'convertible',\n",
       "       'pick-', 'school bus', '35 ft', 'flat bed', 'fire', 'carry all',\n",
       "       'fork', 'flat rack', 'polic', 'deliv', 'tractor truck gasoline',\n",
       "       'tow truck / wrecker', 'scoot', 'pk', 'motorscooter', 'tow t',\n",
       "       'sport utility / station wagon', 'chassis cab', 'moped',\n",
       "       'bulk agriculture', 'boxtr', 'motorbike', 'tanker', 'comme',\n",
       "       'stake or rack', 'mini', 'refg', 'e bik', 'mack', 'lunch wagon',\n",
       "       'trail', 'g spc', 'fdny', '3-door', 'trlr',\n",
       "       'pickup with mounted camper', 'beverage truck', 'van t', 'cont',\n",
       "       'motorized home', 'city', 'armored truck', 'power', 'vespa',\n",
       "       'van camper', 'limo', 'tract', 'util', 'forkl', 'prks',\n",
       "       'tow truck', 'multi-wheeled vehicle', 'tk', 'mobil', 'hi ta',\n",
       "       'concrete mixer', 'ltr', 'parce', 'wineb', 'ambu', 'box t',\n",
       "       'nys a', 'mta', 'elect', 'unkno', '4 dr sedan', 'dirt',\n",
       "       'well driller', 'golf', 'ice c', 'schoo', 'white', 'utili', 'am',\n",
       "       'bicycle', 'bu', 'conv', 'dp', 'ds', 'fb', 'liver', 'cb', 'vn',\n",
       "       'mb', 'whbl', 'gg', 'tn', 'trk', 'ford', 'tr', 'mk', 'usps',\n",
       "       'ups t', 'sciss', 'll', 'md', 'fire truck', 'stree', 'sp', 'ms',\n",
       "       'truck', 'br', 'st', 'oml', 'ar', 'flat', 'pick', 'rf', 'sgws',\n",
       "       'amb', 'fr', 'psd', 'lf', 'omni', 'tt', 'cm', 'garba', 'scooter',\n",
       "       'self', 'firet', 'armor', 'tow', 'rv', 'posta', 'box', 'cargo',\n",
       "       'john', 'se', '3d', 'humme', 'renta', 'pas', 'flatb', 'picku',\n",
       "       'minicycle', '2 dr sedan', 'pedicab', 'econo', 'paylo', 'dept',\n",
       "       'us po', 'delv', 'skate', 'sanit', 'e450', 'vanette', 'delvi',\n",
       "       'uhual', 'grumm', 'tank', 'l1', 'pallet', 'open body', 'flat/',\n",
       "       'crane', 'dot t', 'com', 'rmp v', 'psh', 'van/t', '2015', 'food',\n",
       "       'horse', 'backh', 'road', 'mta b', 'tanke', 'trc', 'fuel', 'rep',\n",
       "       'comm', 'const', 'cat.', 'sprin', 'acces', 'pu', 'fedex', '3 whe',\n",
       "       'liebh', 'g com', 'usp m', 'semi', 'cab', 'santi', 'ut', 'subn',\n",
       "       'hopper', 'couri', 'ï¿½mbu', 'motor', 'c3', 'trl', 'nypd', 'unkow',\n",
       "       'mail', 'mopd', 'navig', 'unk', 'barri', 'yello', 'rescu', 'e - b',\n",
       "       'attac', 'van (', 'concr', 'movin', 'dumps', 'subur', 'passe',\n",
       "       'boom', 'livestock rack', 'motor home', 'other', 'p/sh',\n",
       "       'large com veh(6 or more tires)', 'hino', 'gator', 'glass rack',\n",
       "       'c1', 'nycha', 'trac', 'wagon', 'snow plow', 'cater',\n",
       "       'enclosed body - nonremovable enclosure', 'minibike', 'towtr',\n",
       "       'back', 'range', 'bulld', 'appor', 'kubot', 'bs', 'skid-', 'sea',\n",
       "       'u-hau', '\\x7fomm', 'omr', 'grain', 'comer', 'ltrl', 'santa',\n",
       "       'mac t', 'excav', 'pkup', 'gover', 'te', 'spc', 'a', 'trans',\n",
       "       'none', 'track', 'winne', 'nissa', 'feder', 'log', 'nyc d',\n",
       "       'me/be', 'usps2', 'sweep', 'uspos', 'cms-t', 'bicyc', 'red t',\n",
       "       'frht', 'com.', 'fed e', 'epo', 'lift', 'loade', 'chevo', 'work',\n",
       "       'ukn', 'cate', 'enclosed body - removable enclosure', 'cat 9',\n",
       "       'ebike', 'pc', 'front', 'emrgn', 'e sco', 'cmix', 'subn/', 'mark',\n",
       "       'oil t', 'fd fi', 'dunba', 'army', 'e/bik', 'coupe', 'light',\n",
       "       'hrse', 'moter', 'cat p', 'snow', 'bucke', 'bk', 'e amb', 'ems h',\n",
       "       'stak', 'hand', 'ns am', 'posto', 'wheel', 'lp', '(ceme', 'f550',\n",
       "       'camp', 'gray', 'fd tr', 'r/v c', 'ba', 'fork-', 'spc p', 'comb',\n",
       "       'help', 'r/v', 'dema-', 'fd ny', 'heavy', 'bobca', 'bed t',\n",
       "       'omnib', 'diese', 'semi-', 'mc', '12 pa', 'ems a', 'chevy',\n",
       "       'budge', 'freig', 'dumpt', 'rmp', 'comix', 'pl', 'nyc a', 'dot r',\n",
       "       'amabu', 'mopad', 'pump', 'vc', 'inter', '2 ton', 'marke', 'nyc m',\n",
       "       'hwy c', '15 pa', 'tow-t', 'uhaul', 'refri', 'wd', 'omt', 'commm',\n",
       "       'gr', 'veriz', 'pm', 'ryder', 'mh', 'lw', 'limou', 'icecr',\n",
       "       'cushm', 'ulili', 'traff', 'spec', 'smart', 'vol', 'suv', 'free',\n",
       "       'co', 'livery vehicle', 'u.s.', 'en', 'passa', 'aport', 'ho', 'ss',\n",
       "       'small com veh(4 tires)', 'repai', '4ds', 'esu t', 'sw', '4d',\n",
       "       'kenwo', 'state', 'vab', 'fr`', 'nyc f', 'psr', 'trlpm', 'vt',\n",
       "       'ladde', 'com t', 'nyc b', 'vang', 'e one', 'ip', 'cemen', 'st150',\n",
       "       'ge/sc', 'mcy b', 'elec.', 'tram', 'del', 'rmb', 'tcn', 'jeep',\n",
       "       '1', 'geico', 'tf', 'scoo', 'ld', '4 run', 'mtr s', 'trac.',\n",
       "       'conve', 'olc', 'sub', '4dsd', 'pois', 'mta c', 'gokar', 'e- bi',\n",
       "       'e.m.s', '985', 'ems b', 'engin'], dtype=object)"
      ]
     },
     "execution_count": 57,
     "metadata": {},
     "output_type": "execute_result"
    }
   ],
   "source": [
    "df_cleaning[\"VEHICLE TYPE CODE 1\"].unique()"
   ]
  },
  {
   "cell_type": "code",
   "execution_count": 58,
   "id": "65055e9d-878d-4a2e-8510-d62ac11ae8b1",
   "metadata": {},
   "outputs": [
    {
     "name": "stdout",
     "output_type": "stream",
     "text": [
      "VTC 1 typos {'bus': ['bu', 'bs'], 'bike': ['e bik', 'ebike'], 'van': ['vang', 'vn'], 'unknown': ['unkno', 'unkow'], 'e-bik': ['ebike', 'e/bik'], 'e-sco': ['e sco'], 'dump': ['dumps', 'dumpt'], 'ambul': ['ambu', 'amabu'], 'pick-': ['pick', 'picku'], 'fire': ['firet'], 'fork': ['forkl', 'fork-'], 'deliv': ['delv', 'delvi'], 'scoot': ['scoo', 'scooter', 'schoo'], 'moped': ['mopd', 'mopad'], 'boxtr': ['box t'], 'tanker': ['tanke', 'tank'], 'comme': ['comm', 'comer', 'commm'], 'e bik': ['bike', 'ebike', 'e- bi'], 'g spc': ['spc p'], 'fdny': ['fd ny'], 'trlr': ['trl'], 'van t': ['van ('], 'cont': ['const'], 'motorized home': ['motor home'], 'limo': ['limou'], 'tract': ['trac', 'track', 'trac.'], 'util': ['utili'], 'forkl': ['fork', 'fork-'], 'tk': ['trk'], 'ltr': ['ltrl', 'tr'], 'wineb': ['winne'], 'ambu': ['ambul', 'amabu', 'amb'], 'box t': ['boxtr'], 'nys a': ['ns am', 'nyc a'], 'elect': ['elec.'], 'unkno': ['unknown', 'unkow'], '4 dr sedan': ['2 dr sedan'], 'schoo': ['scoo', 'scoot'], 'utili': ['util', 'ulili'], 'am': ['amb'], 'bicycle': ['bicyc'], 'bu': ['bus'], 'conv': ['conve'], 'ds': ['4ds'], 'cb': ['cab'], 'vn': ['van'], 'mb': ['amb', 'rmb'], 'tn': ['tcn'], 'trk': ['tk', 'tr'], 'tr': ['ltr', 'trk', 'trc', 'trl'], 'usps': ['usps2', 'uspos'], 'sp': ['spc'], 'truck': ['track'], 'flat': ['flatb', 'flat/'], 'pick': ['pick-', 'picku'], 'amb': ['ambu', 'am', 'mb'], 'fr': ['fr`'], 'omni': ['omnib'], 'cm': ['com'], 'scooter': ['scoot'], 'firet': ['fire'], 'rv': ['r/v'], 'posta': ['posto'], 'se': ['sea'], 'flatb': ['flat', 'flat/'], 'picku': ['pick', 'pick-'], '2 dr sedan': ['4 dr sedan'], 'delv': ['deliv', 'delvi', 'del'], 'skate': ['state'], 'sanit': ['santi', 'santa'], 'delvi': ['delv', 'deliv'], 'uhual': ['uhaul'], 'tank': ['tanke', 'tanker'], 'flat/': ['flat', 'flatb'], 'crane': ['range'], 'dot t': ['dot r'], 'com': ['comm', 'com.', 'comb', 'cm'], 'psh': ['p/sh'], 'horse': ['hrse'], 'backh': ['back'], 'mta b': ['mta c'], 'tanke': ['tanker', 'tank'], 'trc': ['trac', 'tr'], 'comm': ['comme', 'commm', 'com'], 'const': ['cont'], 'fedex': ['feder'], 'g com': ['com t'], 'semi': ['semi-'], 'cab': ['cb'], 'santi': ['sanit', 'santa'], 'subn': ['subn/', 'sub'], 'motor': ['moter'], 'trl': ['trlr', 'ltrl', 'tr'], 'unkow': ['unknown', 'unkno'], 'mopd': ['moped', 'mopad'], 'van (': ['van t'], 'dumps': ['dump', 'dumpt'], 'passe': ['passa'], 'motor home': ['motorized home'], 'other': ['moter'], 'p/sh': ['psh'], 'trac': ['tract', 'track', 'trac.', 'trc'], 'cater': ['cate'], 'enclosed body - nonremovable enclosure': ['enclosed body - removable enclosure'], 'towtr': ['tow-t'], 'back': ['backh'], 'range': ['crane'], 'appor': ['aport'], 'bs': ['bus'], 'sea': ['se'], 'u-hau': ['uhaul'], 'comer': ['comme'], 'ltrl': ['ltr', 'trl'], 'santa': ['sanit', 'santi'], 'spc': ['spec', 'sp', 'pc'], 'track': ['trac', 'tract', 'truck', 'trac.'], 'winne': ['wineb'], 'feder': ['fedex'], 'nyc d': ['fd ny', 'nyc a', 'nyc m', 'nyc f'], 'usps2': ['usps', 'uspos'], 'uspos': ['usps', 'usps2'], 'bicyc': ['bicycle'], 'red t': ['bed t'], 'com.': ['com'], 'loade': ['ladde'], 'chevo': ['chevy'], 'cate': ['cater'], 'enclosed body - removable enclosure': ['enclosed body - nonremovable enclosure'], 'ebike': ['bike', 'e-bik', 'e bik', 'e/bik'], 'pc': ['spc'], 'e sco': ['e-sco'], 'cmix': ['comix'], 'subn/': ['subn'], 'mark': ['marke'], 'e/bik': ['e-bik', 'ebike'], 'hrse': ['horse'], 'moter': ['motor', 'other'], 'ns am': ['nys a'], 'posto': ['posta'], '(ceme': ['cemen'], 'fork-': ['fork', 'forkl'], 'spc p': ['g spc'], 'comb': ['com'], 'r/v': ['rv'], 'fd ny': ['fdny', 'nyc d', 'nyc f'], 'heavy': ['chevy'], 'bed t': ['red t'], 'omnib': ['omni'], 'semi-': ['semi'], '12 pa': ['15 pa'], 'ems a': ['ems b'], 'chevy': ['chevo', 'heavy'], 'dumpt': ['dump', 'dumps'], 'comix': ['cmix'], 'nyc a': ['nys a', 'nyc d', 'nyc m', 'nyc f'], 'dot r': ['dot t'], 'amabu': ['ambu', 'ambul'], 'mopad': ['mopd', 'moped'], 'marke': ['mark'], 'nyc m': ['nyc d', 'nyc a', 'nyc f', 'nyc b'], '15 pa': ['12 pa'], 'tow-t': ['towtr'], 'uhaul': ['uhual', 'u-hau'], 'commm': ['comm', 'comme'], 'limou': ['limo'], 'ulili': ['utili'], 'spec': ['spc'], 'co': ['com'], 'passa': ['passe'], 'aport': ['appor'], '4ds': ['4dsd', 'ds', '4d'], '4d': ['4ds'], 'state': ['skate'], 'fr`': ['fr'], 'nyc f': ['nyc d', 'fd ny', 'nyc a', 'nyc m'], 'ladde': ['loade'], 'com t': ['g com'], 'nyc b': ['nyc d', 'nyc a', 'nyc m', 'nyc f'], 'vang': ['van'], 'cemen': ['(ceme'], 'elec.': ['elect'], 'del': ['delv'], 'rmb': ['mb'], 'tcn': ['tn'], 'scoo': ['scoot', 'schoo'], 'trac.': ['trac', 'tract', 'track'], 'conve': ['conv'], 'sub': ['subn'], '4dsd': ['4ds'], 'mta c': ['mta b'], 'e- bi': ['e bik'], 'ems b': ['ems a']}\n"
     ]
    }
   ],
   "source": [
    "print(f\"VTC 1 typos {vtc1}\")"
   ]
  },
  {
   "cell_type": "markdown",
   "id": "e3596e4c-b6be-4202-9ff4-22db09b4fc56",
   "metadata": {},
   "source": [
    "### Vehicle type correction using mapping utils.py"
   ]
  },
  {
   "cell_type": "code",
   "execution_count": 59,
   "id": "c76bf4d8-fe38-4a85-9623-985fed5901d1",
   "metadata": {},
   "outputs": [],
   "source": [
    "type_cols_to_correct = [\"VEHICLE TYPE CODE 1\", \"VEHICLE TYPE CODE 2\", \"VEHICLE TYPE CODE 3\", \"VEHICLE TYPE CODE 4\", \"VEHICLE TYPE CODE 5\"]"
   ]
  },
  {
   "cell_type": "code",
   "execution_count": 60,
   "id": "f8eb9334-dc8b-4949-b82c-f230588a8e43",
   "metadata": {},
   "outputs": [],
   "source": [
    "corrected_types_df = map_vehicle_type(\n",
    "    df_cleaning,\n",
    "    type_cols_to_correct,\n",
    "    generalized=True,\n",
    "    raw_mapping=raw_mapping,\n",
    "    generalized_mapping=generalized_mapping\n",
    ")"
   ]
  },
  {
   "cell_type": "code",
   "execution_count": 61,
   "id": "bb54d79b-32d2-458d-a2a1-7581d490e349",
   "metadata": {},
   "outputs": [
    {
     "data": {
      "text/plain": [
       "array(['unknown', 'suv', 'taxi / livery', 'motorcycle', 'pickup', 'truck',\n",
       "       'car', 'van', 'emergency / government',\n",
       "       'construction / industrial', 'commercial / special purpose',\n",
       "       'rv / motorhome', 'bus', 'other'], dtype=object)"
      ]
     },
     "execution_count": 61,
     "metadata": {},
     "output_type": "execute_result"
    }
   ],
   "source": [
    "corrected_types_df[\"VEHICLE TYPE CODE 1\"].unique()"
   ]
  },
  {
   "cell_type": "code",
   "execution_count": 62,
   "id": "b4c1bd1b-0da0-48ef-94b9-e15521b72ff8",
   "metadata": {},
   "outputs": [],
   "source": [
    "def check_dict(list, dict):\n",
    "    not_included = []\n",
    "    for i in list: \n",
    "        if not i in (dict):\n",
    "            not_included.append(i)\n",
    "    return not_included"
   ]
  },
  {
   "cell_type": "code",
   "execution_count": 70,
   "id": "424f27b5-a45e-4e94-b6e4-91ef0baa2600",
   "metadata": {},
   "outputs": [
    {
     "name": "stdout",
     "output_type": "stream",
     "text": [
      "[]\n"
     ]
    }
   ],
   "source": [
    "print(check_dict(corrected_types_df[\"VEHICLE TYPE CODE 1\"].unique(), generalized_mapping))"
   ]
  },
  {
   "cell_type": "code",
   "execution_count": 72,
   "id": "d98a0606-1811-4fc5-88f2-38f7c71deda0",
   "metadata": {},
   "outputs": [
    {
     "name": "stdout",
     "output_type": "stream",
     "text": [
      "<class 'pandas.core.frame.DataFrame'>\n",
      "RangeIndex: 1612178 entries, 0 to 1612177\n",
      "Data columns (total 30 columns):\n",
      " #   Column                         Non-Null Count    Dtype         \n",
      "---  ------                         --------------    -----         \n",
      " 0   ACCIDENT DATE                  1612178 non-null  datetime64[ns]\n",
      " 1   ACCIDENT TIME                  1612178 non-null  object        \n",
      " 2   BOROUGH                        1612178 non-null  object        \n",
      " 3   ZIP CODE                       1127376 non-null  object        \n",
      " 4   LATITUDE                       1612178 non-null  object        \n",
      " 5   LONGITUDE                      1612178 non-null  object        \n",
      " 6   LOCATION                       1612178 non-null  object        \n",
      " 7   ON STREET NAME                 1612178 non-null  object        \n",
      " 8   CROSS STREET NAME              1612178 non-null  object        \n",
      " 9   OFF STREET NAME                1612178 non-null  object        \n",
      " 10  NUMBER OF PERSONS INJURED      1612178 non-null  int64         \n",
      " 11  NUMBER OF PERSONS KILLED       1612178 non-null  int64         \n",
      " 12  NUMBER OF PEDESTRIANS INJURED  1612178 non-null  int64         \n",
      " 13  NUMBER OF PEDESTRIANS KILLED   1612178 non-null  int64         \n",
      " 14  NUMBER OF CYCLIST INJURED      1612178 non-null  int64         \n",
      " 15  NUMBER OF CYCLIST KILLED       1612178 non-null  int64         \n",
      " 16  NUMBER OF MOTORIST INJURED     1612178 non-null  int64         \n",
      " 17  NUMBER OF MOTORIST KILLED      1612178 non-null  int64         \n",
      " 18  CONTRIBUTING FACTOR VEHICLE 1  1612178 non-null  object        \n",
      " 19  CONTRIBUTING FACTOR VEHICLE 2  1612178 non-null  object        \n",
      " 20  CONTRIBUTING FACTOR VEHICLE 3  1612178 non-null  object        \n",
      " 21  CONTRIBUTING FACTOR VEHICLE 4  1612178 non-null  object        \n",
      " 22  CONTRIBUTING FACTOR VEHICLE 5  1612178 non-null  object        \n",
      " 23  COLLISION_ID                   1612178 non-null  int64         \n",
      " 24  VEHICLE TYPE CODE 1            1612178 non-null  object        \n",
      " 25  VEHICLE TYPE CODE 2            1612178 non-null  object        \n",
      " 26  VEHICLE TYPE CODE 3            1612178 non-null  object        \n",
      " 27  VEHICLE TYPE CODE 4            1612178 non-null  object        \n",
      " 28  VEHICLE TYPE CODE 5            1612178 non-null  object        \n",
      " 29  ACCIDENT DATE FORMATTED        1612178 non-null  object        \n",
      "dtypes: datetime64[ns](1), int64(9), object(20)\n",
      "memory usage: 369.0+ MB\n"
     ]
    }
   ],
   "source": [
    "corrected_types_df.info()"
   ]
  },
  {
   "cell_type": "markdown",
   "id": "9a126feb-e206-479c-aa21-05e4e5d43e26",
   "metadata": {},
   "source": [
    "## Duplicates"
   ]
  },
  {
   "cell_type": "code",
   "execution_count": 73,
   "id": "f3fc34ed-18d2-48f0-980d-34af389ac28b",
   "metadata": {},
   "outputs": [
    {
     "data": {
      "text/plain": [
       "np.int64(394221)"
      ]
     },
     "execution_count": 73,
     "metadata": {},
     "output_type": "execute_result"
    }
   ],
   "source": [
    "corrected_types_df.duplicated().sum()"
   ]
  },
  {
   "cell_type": "code",
   "execution_count": 74,
   "id": "befb5e73-16df-4b88-b608-06088b59c236",
   "metadata": {},
   "outputs": [],
   "source": [
    "corrected_types_df = corrected_types_df.drop_duplicates()"
   ]
  },
  {
   "cell_type": "code",
   "execution_count": 75,
   "id": "40b513ac-846a-4c7f-a7fa-53b08e483126",
   "metadata": {},
   "outputs": [
    {
     "data": {
      "text/plain": [
       "np.int64(0)"
      ]
     },
     "execution_count": 75,
     "metadata": {},
     "output_type": "execute_result"
    }
   ],
   "source": [
    "corrected_types_df.duplicated().sum()"
   ]
  },
  {
   "cell_type": "markdown",
   "id": "73c5d156-9f57-43aa-aa80-a5aa37a6f5a6",
   "metadata": {},
   "source": [
    "## Export data"
   ]
  },
  {
   "cell_type": "code",
   "execution_count": 76,
   "id": "586b015a-9aa6-4bf8-8f29-60f7be1293a6",
   "metadata": {},
   "outputs": [],
   "source": [
    "corrected_types_df.to_csv(\"../data/nypd-motor-vehicle-collisions-cleaned.csv\", index=False)"
   ]
  }
 ],
 "metadata": {
  "kernelspec": {
   "display_name": "Python 3 (ipykernel)",
   "language": "python",
   "name": "python3"
  },
  "language_info": {
   "codemirror_mode": {
    "name": "ipython",
    "version": 3
   },
   "file_extension": ".py",
   "mimetype": "text/x-python",
   "name": "python",
   "nbconvert_exporter": "python",
   "pygments_lexer": "ipython3",
   "version": "3.12.1"
  }
 },
 "nbformat": 4,
 "nbformat_minor": 5
}
