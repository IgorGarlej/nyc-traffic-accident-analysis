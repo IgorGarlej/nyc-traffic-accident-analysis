{
 "cells": [
  {
   "cell_type": "markdown",
   "id": "9ac36bce-616d-4db0-95a6-ccc39c4cbd87",
   "metadata": {},
   "source": [
    "# 1. Imports"
   ]
  },
  {
   "cell_type": "code",
   "execution_count": 1,
   "id": "123e3cc5-5e5d-49f0-af69-fec86e427e08",
   "metadata": {},
   "outputs": [],
   "source": [
    "import pandas as pd\n",
    "import geopandas as gpd\n",
    "import numpy as np\n",
    "import sys\n",
    "import os\n",
    "sys.path.append(os.path.abspath(\"..\"))\n",
    "from utils import DataFetcher, DataPreparation, Visualization, find_similar_phrases, StreetNormalizer, load_mappings, map_vehicle_type"
   ]
  },
  {
   "cell_type": "markdown",
   "id": "a1ff992f-20dd-4610-b2da-a8701e5b7239",
   "metadata": {},
   "source": [
    "# 2. Data load"
   ]
  },
  {
   "cell_type": "markdown",
   "id": "a2e4856a-375a-4426-89d0-f1e01e9db3de",
   "metadata": {},
   "source": [
    "## 2.1 DataFrame creation"
   ]
  },
  {
   "cell_type": "code",
   "execution_count": 2,
   "id": "b26d88d0-4f42-4b18-ba9e-9c9b1df333e0",
   "metadata": {},
   "outputs": [],
   "source": [
    "# Path variables\n",
    "csv_path = \"../data/nypd-motor-vehicle-collisions.csv\"\n",
    "config_file = \"../config/config.json\""
   ]
  },
  {
   "cell_type": "code",
   "execution_count": 3,
   "id": "9fea107e-efe6-4928-a24a-61d5b5d19375",
   "metadata": {},
   "outputs": [],
   "source": [
    "df = DataFetcher.get_data(csv_path, config_file)"
   ]
  },
  {
   "cell_type": "markdown",
   "id": "ad8a180b-9c61-4d4c-8e41-05f271f3774c",
   "metadata": {},
   "source": [
    "## 2.2 Brief summary"
   ]
  },
  {
   "cell_type": "code",
   "execution_count": 4,
   "id": "b042192d-1160-4673-8d65-f0d8f4b2b5b6",
   "metadata": {},
   "outputs": [
    {
     "data": {
      "text/plain": [
       "BOROUGH                          string[python]\n",
       "LATITUDE                                float32\n",
       "LONGITUDE                               float32\n",
       "ON STREET NAME                   string[python]\n",
       "CROSS STREET NAME                string[python]\n",
       "OFF STREET NAME                  string[python]\n",
       "NUMBER OF PERSONS INJURED                 Int16\n",
       "NUMBER OF PERSONS KILLED                  Int16\n",
       "CONTRIBUTING FACTOR VEHICLE 1    string[python]\n",
       "CONTRIBUTING FACTOR VEHICLE 2    string[python]\n",
       "CONTRIBUTING FACTOR VEHICLE 3    string[python]\n",
       "CONTRIBUTING FACTOR VEHICLE 4    string[python]\n",
       "CONTRIBUTING FACTOR VEHICLE 5    string[python]\n",
       "COLLISION_ID                     string[python]\n",
       "VEHICLE TYPE CODE 1              string[python]\n",
       "VEHICLE TYPE CODE 2              string[python]\n",
       "VEHICLE TYPE CODE 3              string[python]\n",
       "VEHICLE TYPE CODE 4              string[python]\n",
       "VEHICLE TYPE CODE 5              string[python]\n",
       "dtype: object"
      ]
     },
     "execution_count": 4,
     "metadata": {},
     "output_type": "execute_result"
    }
   ],
   "source": [
    "df.dtypes"
   ]
  },
  {
   "cell_type": "code",
   "execution_count": 5,
   "id": "762f33ce-0541-473d-a9f2-3c7665ac7466",
   "metadata": {},
   "outputs": [
    {
     "name": "stdout",
     "output_type": "stream",
     "text": [
      "COLLISION_ID                           0\n",
      "NUMBER OF PERSONS INJURED             17\n",
      "NUMBER OF PERSONS KILLED              33\n",
      "CONTRIBUTING FACTOR VEHICLE 1       4324\n",
      "VEHICLE TYPE CODE 1                 5581\n",
      "LATITUDE                          196285\n",
      "LONGITUDE                         196285\n",
      "CONTRIBUTING FACTOR VEHICLE 2     216051\n",
      "VEHICLE TYPE CODE 2               265320\n",
      "ON STREET NAME                    314176\n",
      "BOROUGH                           484625\n",
      "CROSS STREET NAME                 532985\n",
      "OFF STREET NAME                  1392446\n",
      "VEHICLE TYPE CODE 3              1483436\n",
      "CONTRIBUTING FACTOR VEHICLE 3    1507924\n",
      "VEHICLE TYPE CODE 4              1566169\n",
      "CONTRIBUTING FACTOR VEHICLE 4    1590389\n",
      "VEHICLE TYPE CODE 5              1602028\n",
      "CONTRIBUTING FACTOR VEHICLE 5    1606556\n",
      "dtype: int64\n"
     ]
    }
   ],
   "source": [
    "summary = DataFetcher.show_null_values_summary(df)\n",
    "print(summary)"
   ]
  },
  {
   "cell_type": "markdown",
   "id": "87a45e4e-a2be-4ee5-9c5f-156e585ee998",
   "metadata": {},
   "source": [
    "# 3. Dataset information"
   ]
  },
  {
   "cell_type": "code",
   "execution_count": 6,
   "id": "4b100296-a528-4377-be5b-38ed14072376",
   "metadata": {},
   "outputs": [
    {
     "data": {
      "text/plain": [
       "(1612178, 19)"
      ]
     },
     "execution_count": 6,
     "metadata": {},
     "output_type": "execute_result"
    }
   ],
   "source": [
    "df.shape"
   ]
  },
  {
   "cell_type": "code",
   "execution_count": 7,
   "id": "7fe3673b-384a-4252-b701-f8e223930e8e",
   "metadata": {},
   "outputs": [
    {
     "data": {
      "text/plain": [
       "Index(['BOROUGH', 'LATITUDE', 'LONGITUDE', 'ON STREET NAME',\n",
       "       'CROSS STREET NAME', 'OFF STREET NAME', 'NUMBER OF PERSONS INJURED',\n",
       "       'NUMBER OF PERSONS KILLED', 'CONTRIBUTING FACTOR VEHICLE 1',\n",
       "       'CONTRIBUTING FACTOR VEHICLE 2', 'CONTRIBUTING FACTOR VEHICLE 3',\n",
       "       'CONTRIBUTING FACTOR VEHICLE 4', 'CONTRIBUTING FACTOR VEHICLE 5',\n",
       "       'COLLISION_ID', 'VEHICLE TYPE CODE 1', 'VEHICLE TYPE CODE 2',\n",
       "       'VEHICLE TYPE CODE 3', 'VEHICLE TYPE CODE 4', 'VEHICLE TYPE CODE 5'],\n",
       "      dtype='object')"
      ]
     },
     "execution_count": 7,
     "metadata": {},
     "output_type": "execute_result"
    }
   ],
   "source": [
    "df.columns"
   ]
  },
  {
   "cell_type": "code",
   "execution_count": 8,
   "id": "ec860e34-963b-457e-a328-7201764d66b0",
   "metadata": {},
   "outputs": [
    {
     "data": {
      "text/html": [
       "<div>\n",
       "<style scoped>\n",
       "    .dataframe tbody tr th:only-of-type {\n",
       "        vertical-align: middle;\n",
       "    }\n",
       "\n",
       "    .dataframe tbody tr th {\n",
       "        vertical-align: top;\n",
       "    }\n",
       "\n",
       "    .dataframe thead th {\n",
       "        text-align: right;\n",
       "    }\n",
       "</style>\n",
       "<table border=\"1\" class=\"dataframe\">\n",
       "  <thead>\n",
       "    <tr style=\"text-align: right;\">\n",
       "      <th></th>\n",
       "      <th>BOROUGH</th>\n",
       "      <th>LATITUDE</th>\n",
       "      <th>LONGITUDE</th>\n",
       "      <th>ON STREET NAME</th>\n",
       "      <th>CROSS STREET NAME</th>\n",
       "      <th>OFF STREET NAME</th>\n",
       "      <th>NUMBER OF PERSONS INJURED</th>\n",
       "      <th>NUMBER OF PERSONS KILLED</th>\n",
       "      <th>CONTRIBUTING FACTOR VEHICLE 1</th>\n",
       "      <th>CONTRIBUTING FACTOR VEHICLE 2</th>\n",
       "      <th>CONTRIBUTING FACTOR VEHICLE 3</th>\n",
       "      <th>CONTRIBUTING FACTOR VEHICLE 4</th>\n",
       "      <th>CONTRIBUTING FACTOR VEHICLE 5</th>\n",
       "      <th>COLLISION_ID</th>\n",
       "      <th>VEHICLE TYPE CODE 1</th>\n",
       "      <th>VEHICLE TYPE CODE 2</th>\n",
       "      <th>VEHICLE TYPE CODE 3</th>\n",
       "      <th>VEHICLE TYPE CODE 4</th>\n",
       "      <th>VEHICLE TYPE CODE 5</th>\n",
       "    </tr>\n",
       "  </thead>\n",
       "  <tbody>\n",
       "    <tr>\n",
       "      <th>0</th>\n",
       "      <td>QUEENS</td>\n",
       "      <td>40.676052</td>\n",
       "      <td>-73.790184</td>\n",
       "      <td>&lt;NA&gt;</td>\n",
       "      <td>&lt;NA&gt;</td>\n",
       "      <td>150-08    123 AVENUE</td>\n",
       "      <td>0</td>\n",
       "      <td>0</td>\n",
       "      <td>Passing Too Closely</td>\n",
       "      <td>Unspecified</td>\n",
       "      <td>&lt;NA&gt;</td>\n",
       "      <td>&lt;NA&gt;</td>\n",
       "      <td>&lt;NA&gt;</td>\n",
       "      <td>4184637</td>\n",
       "      <td>Sedan</td>\n",
       "      <td>Pick-up Truck</td>\n",
       "      <td>&lt;NA&gt;</td>\n",
       "      <td>&lt;NA&gt;</td>\n",
       "      <td>&lt;NA&gt;</td>\n",
       "    </tr>\n",
       "    <tr>\n",
       "      <th>1</th>\n",
       "      <td>BROOKLYN</td>\n",
       "      <td>40.657780</td>\n",
       "      <td>-73.951096</td>\n",
       "      <td>&lt;NA&gt;</td>\n",
       "      <td>&lt;NA&gt;</td>\n",
       "      <td>288       HAWTHORNE STREET</td>\n",
       "      <td>0</td>\n",
       "      <td>0</td>\n",
       "      <td>Passing Too Closely</td>\n",
       "      <td>Unspecified</td>\n",
       "      <td>&lt;NA&gt;</td>\n",
       "      <td>&lt;NA&gt;</td>\n",
       "      <td>&lt;NA&gt;</td>\n",
       "      <td>4195773</td>\n",
       "      <td>Station Wagon/Sport Utility Vehicle</td>\n",
       "      <td>Station Wagon/Sport Utility Vehicle</td>\n",
       "      <td>&lt;NA&gt;</td>\n",
       "      <td>&lt;NA&gt;</td>\n",
       "      <td>&lt;NA&gt;</td>\n",
       "    </tr>\n",
       "    <tr>\n",
       "      <th>2</th>\n",
       "      <td>MANHATTAN</td>\n",
       "      <td>40.718143</td>\n",
       "      <td>-73.993835</td>\n",
       "      <td>CHRYSTIE STREET</td>\n",
       "      <td>GRAND STREET</td>\n",
       "      <td>&lt;NA&gt;</td>\n",
       "      <td>1</td>\n",
       "      <td>0</td>\n",
       "      <td>Driver Inattention/Distraction</td>\n",
       "      <td>&lt;NA&gt;</td>\n",
       "      <td>&lt;NA&gt;</td>\n",
       "      <td>&lt;NA&gt;</td>\n",
       "      <td>&lt;NA&gt;</td>\n",
       "      <td>4202457</td>\n",
       "      <td>Sedan</td>\n",
       "      <td>&lt;NA&gt;</td>\n",
       "      <td>&lt;NA&gt;</td>\n",
       "      <td>&lt;NA&gt;</td>\n",
       "      <td>&lt;NA&gt;</td>\n",
       "    </tr>\n",
       "    <tr>\n",
       "      <th>3</th>\n",
       "      <td>BRONX</td>\n",
       "      <td>40.840534</td>\n",
       "      <td>-73.866608</td>\n",
       "      <td>&lt;NA&gt;</td>\n",
       "      <td>&lt;NA&gt;</td>\n",
       "      <td>1837      EAST TREMONT AVENUE</td>\n",
       "      <td>0</td>\n",
       "      <td>0</td>\n",
       "      <td>Unspecified</td>\n",
       "      <td>Unspecified</td>\n",
       "      <td>&lt;NA&gt;</td>\n",
       "      <td>&lt;NA&gt;</td>\n",
       "      <td>&lt;NA&gt;</td>\n",
       "      <td>4198749</td>\n",
       "      <td>Taxi</td>\n",
       "      <td>Station Wagon/Sport Utility Vehicle</td>\n",
       "      <td>&lt;NA&gt;</td>\n",
       "      <td>&lt;NA&gt;</td>\n",
       "      <td>&lt;NA&gt;</td>\n",
       "    </tr>\n",
       "    <tr>\n",
       "      <th>4</th>\n",
       "      <td>MANHATTAN</td>\n",
       "      <td>40.745441</td>\n",
       "      <td>-73.975403</td>\n",
       "      <td>EAST 35 STREET</td>\n",
       "      <td>2 AVENUE</td>\n",
       "      <td>&lt;NA&gt;</td>\n",
       "      <td>1</td>\n",
       "      <td>0</td>\n",
       "      <td>Driver Inattention/Distraction</td>\n",
       "      <td>Driver Inattention/Distraction</td>\n",
       "      <td>&lt;NA&gt;</td>\n",
       "      <td>&lt;NA&gt;</td>\n",
       "      <td>&lt;NA&gt;</td>\n",
       "      <td>4183798</td>\n",
       "      <td>Station Wagon/Sport Utility Vehicle</td>\n",
       "      <td>Bike</td>\n",
       "      <td>&lt;NA&gt;</td>\n",
       "      <td>&lt;NA&gt;</td>\n",
       "      <td>&lt;NA&gt;</td>\n",
       "    </tr>\n",
       "  </tbody>\n",
       "</table>\n",
       "</div>"
      ],
      "text/plain": [
       "     BOROUGH   LATITUDE  LONGITUDE                    ON STREET NAME  \\\n",
       "0     QUEENS  40.676052 -73.790184                              <NA>   \n",
       "1   BROOKLYN  40.657780 -73.951096                              <NA>   \n",
       "2  MANHATTAN  40.718143 -73.993835  CHRYSTIE STREET                    \n",
       "3      BRONX  40.840534 -73.866608                              <NA>   \n",
       "4  MANHATTAN  40.745441 -73.975403  EAST 35 STREET                     \n",
       "\n",
       "  CROSS STREET NAME                           OFF STREET NAME  \\\n",
       "0              <NA>  150-08    123 AVENUE                       \n",
       "1              <NA>  288       HAWTHORNE STREET                 \n",
       "2      GRAND STREET                                      <NA>   \n",
       "3              <NA>  1837      EAST TREMONT AVENUE              \n",
       "4          2 AVENUE                                      <NA>   \n",
       "\n",
       "   NUMBER OF PERSONS INJURED  NUMBER OF PERSONS KILLED  \\\n",
       "0                          0                         0   \n",
       "1                          0                         0   \n",
       "2                          1                         0   \n",
       "3                          0                         0   \n",
       "4                          1                         0   \n",
       "\n",
       "    CONTRIBUTING FACTOR VEHICLE 1   CONTRIBUTING FACTOR VEHICLE 2  \\\n",
       "0             Passing Too Closely                     Unspecified   \n",
       "1             Passing Too Closely                     Unspecified   \n",
       "2  Driver Inattention/Distraction                            <NA>   \n",
       "3                     Unspecified                     Unspecified   \n",
       "4  Driver Inattention/Distraction  Driver Inattention/Distraction   \n",
       "\n",
       "  CONTRIBUTING FACTOR VEHICLE 3 CONTRIBUTING FACTOR VEHICLE 4  \\\n",
       "0                          <NA>                          <NA>   \n",
       "1                          <NA>                          <NA>   \n",
       "2                          <NA>                          <NA>   \n",
       "3                          <NA>                          <NA>   \n",
       "4                          <NA>                          <NA>   \n",
       "\n",
       "  CONTRIBUTING FACTOR VEHICLE 5 COLLISION_ID  \\\n",
       "0                          <NA>      4184637   \n",
       "1                          <NA>      4195773   \n",
       "2                          <NA>      4202457   \n",
       "3                          <NA>      4198749   \n",
       "4                          <NA>      4183798   \n",
       "\n",
       "                   VEHICLE TYPE CODE 1                  VEHICLE TYPE CODE 2  \\\n",
       "0                                Sedan                        Pick-up Truck   \n",
       "1  Station Wagon/Sport Utility Vehicle  Station Wagon/Sport Utility Vehicle   \n",
       "2                                Sedan                                 <NA>   \n",
       "3                                 Taxi  Station Wagon/Sport Utility Vehicle   \n",
       "4  Station Wagon/Sport Utility Vehicle                                 Bike   \n",
       "\n",
       "  VEHICLE TYPE CODE 3 VEHICLE TYPE CODE 4 VEHICLE TYPE CODE 5  \n",
       "0                <NA>                <NA>                <NA>  \n",
       "1                <NA>                <NA>                <NA>  \n",
       "2                <NA>                <NA>                <NA>  \n",
       "3                <NA>                <NA>                <NA>  \n",
       "4                <NA>                <NA>                <NA>  "
      ]
     },
     "execution_count": 8,
     "metadata": {},
     "output_type": "execute_result"
    }
   ],
   "source": [
    "df.head()"
   ]
  },
  {
   "cell_type": "code",
   "execution_count": 9,
   "id": "00929492-6256-4e99-bbf3-00853ec3e8b5",
   "metadata": {
    "scrolled": true
   },
   "outputs": [
    {
     "name": "stdout",
     "output_type": "stream",
     "text": [
      "<class 'pandas.core.frame.DataFrame'>\n",
      "RangeIndex: 1612178 entries, 0 to 1612177\n",
      "Data columns (total 19 columns):\n",
      " #   Column                         Non-Null Count    Dtype  \n",
      "---  ------                         --------------    -----  \n",
      " 0   BOROUGH                        1127553 non-null  string \n",
      " 1   LATITUDE                       1415893 non-null  float32\n",
      " 2   LONGITUDE                      1415893 non-null  float32\n",
      " 3   ON STREET NAME                 1298002 non-null  string \n",
      " 4   CROSS STREET NAME              1079193 non-null  string \n",
      " 5   OFF STREET NAME                219732 non-null   string \n",
      " 6   NUMBER OF PERSONS INJURED      1612161 non-null  Int16  \n",
      " 7   NUMBER OF PERSONS KILLED       1612145 non-null  Int16  \n",
      " 8   CONTRIBUTING FACTOR VEHICLE 1  1607854 non-null  string \n",
      " 9   CONTRIBUTING FACTOR VEHICLE 2  1396127 non-null  string \n",
      " 10  CONTRIBUTING FACTOR VEHICLE 3  104254 non-null   string \n",
      " 11  CONTRIBUTING FACTOR VEHICLE 4  21789 non-null    string \n",
      " 12  CONTRIBUTING FACTOR VEHICLE 5  5622 non-null     string \n",
      " 13  COLLISION_ID                   1612178 non-null  string \n",
      " 14  VEHICLE TYPE CODE 1            1606597 non-null  string \n",
      " 15  VEHICLE TYPE CODE 2            1346858 non-null  string \n",
      " 16  VEHICLE TYPE CODE 3            128742 non-null   string \n",
      " 17  VEHICLE TYPE CODE 4            46009 non-null    string \n",
      " 18  VEHICLE TYPE CODE 5            10150 non-null    string \n",
      "dtypes: Int16(2), float32(2), string(15)\n",
      "memory usage: 206.0 MB\n"
     ]
    }
   ],
   "source": [
    "df.info()"
   ]
  },
  {
   "cell_type": "code",
   "execution_count": 10,
   "id": "ea370155-2789-4ad7-8619-f83951ebc2a4",
   "metadata": {},
   "outputs": [
    {
     "data": {
      "text/html": [
       "<div>\n",
       "<style scoped>\n",
       "    .dataframe tbody tr th:only-of-type {\n",
       "        vertical-align: middle;\n",
       "    }\n",
       "\n",
       "    .dataframe tbody tr th {\n",
       "        vertical-align: top;\n",
       "    }\n",
       "\n",
       "    .dataframe thead th {\n",
       "        text-align: right;\n",
       "    }\n",
       "</style>\n",
       "<table border=\"1\" class=\"dataframe\">\n",
       "  <thead>\n",
       "    <tr style=\"text-align: right;\">\n",
       "      <th></th>\n",
       "      <th>LATITUDE</th>\n",
       "      <th>LONGITUDE</th>\n",
       "      <th>NUMBER OF PERSONS INJURED</th>\n",
       "      <th>NUMBER OF PERSONS KILLED</th>\n",
       "    </tr>\n",
       "  </thead>\n",
       "  <tbody>\n",
       "    <tr>\n",
       "      <th>count</th>\n",
       "      <td>1.415893e+06</td>\n",
       "      <td>1.415893e+06</td>\n",
       "      <td>1612161.0</td>\n",
       "      <td>1612145.0</td>\n",
       "    </tr>\n",
       "    <tr>\n",
       "      <th>mean</th>\n",
       "      <td>4.068864e+01</td>\n",
       "      <td>-7.386655e+01</td>\n",
       "      <td>0.263136</td>\n",
       "      <td>0.001186</td>\n",
       "    </tr>\n",
       "    <tr>\n",
       "      <th>std</th>\n",
       "      <td>1.200403e+00</td>\n",
       "      <td>2.438640e+00</td>\n",
       "      <td>0.658483</td>\n",
       "      <td>0.036449</td>\n",
       "    </tr>\n",
       "    <tr>\n",
       "      <th>min</th>\n",
       "      <td>0.000000e+00</td>\n",
       "      <td>-2.012371e+02</td>\n",
       "      <td>0.0</td>\n",
       "      <td>0.0</td>\n",
       "    </tr>\n",
       "    <tr>\n",
       "      <th>25%</th>\n",
       "      <td>4.066882e+01</td>\n",
       "      <td>-7.397746e+01</td>\n",
       "      <td>0.0</td>\n",
       "      <td>0.0</td>\n",
       "    </tr>\n",
       "    <tr>\n",
       "      <th>50%</th>\n",
       "      <td>4.072258e+01</td>\n",
       "      <td>-7.393002e+01</td>\n",
       "      <td>0.0</td>\n",
       "      <td>0.0</td>\n",
       "    </tr>\n",
       "    <tr>\n",
       "      <th>75%</th>\n",
       "      <td>4.076789e+01</td>\n",
       "      <td>-7.386727e+01</td>\n",
       "      <td>0.0</td>\n",
       "      <td>0.0</td>\n",
       "    </tr>\n",
       "    <tr>\n",
       "      <th>max</th>\n",
       "      <td>4.231832e+01</td>\n",
       "      <td>0.000000e+00</td>\n",
       "      <td>31.0</td>\n",
       "      <td>8.0</td>\n",
       "    </tr>\n",
       "  </tbody>\n",
       "</table>\n",
       "</div>"
      ],
      "text/plain": [
       "           LATITUDE     LONGITUDE  NUMBER OF PERSONS INJURED  \\\n",
       "count  1.415893e+06  1.415893e+06                  1612161.0   \n",
       "mean   4.068864e+01 -7.386655e+01                   0.263136   \n",
       "std    1.200403e+00  2.438640e+00                   0.658483   \n",
       "min    0.000000e+00 -2.012371e+02                        0.0   \n",
       "25%    4.066882e+01 -7.397746e+01                        0.0   \n",
       "50%    4.072258e+01 -7.393002e+01                        0.0   \n",
       "75%    4.076789e+01 -7.386727e+01                        0.0   \n",
       "max    4.231832e+01  0.000000e+00                       31.0   \n",
       "\n",
       "       NUMBER OF PERSONS KILLED  \n",
       "count                 1612145.0  \n",
       "mean                   0.001186  \n",
       "std                    0.036449  \n",
       "min                         0.0  \n",
       "25%                         0.0  \n",
       "50%                         0.0  \n",
       "75%                         0.0  \n",
       "max                         8.0  "
      ]
     },
     "execution_count": 10,
     "metadata": {},
     "output_type": "execute_result"
    }
   ],
   "source": [
    "df.describe()"
   ]
  },
  {
   "cell_type": "code",
   "execution_count": 11,
   "id": "12801cd3-43b0-4abf-b4b5-d8254cd05c81",
   "metadata": {},
   "outputs": [
    {
     "name": "stdout",
     "output_type": "stream",
     "text": [
      "Given dataset has 394221 duplicates\n"
     ]
    }
   ],
   "source": [
    "duples = df.duplicated().sum()\n",
    "print(f\"Given dataset has {duples} duplicates\")"
   ]
  },
  {
   "cell_type": "markdown",
   "id": "39f98c5e-8135-456c-bbad-4bb64822640a",
   "metadata": {},
   "source": [
    "# 4. Data Cleaning"
   ]
  },
  {
   "cell_type": "markdown",
   "id": "049f223c-a329-447c-ac2e-454bd2894188",
   "metadata": {},
   "source": [
    "## 4.1. DataPreparation class init"
   ]
  },
  {
   "cell_type": "code",
   "execution_count": 12,
   "id": "dc252935-d969-4bdc-9a84-317adb554385",
   "metadata": {},
   "outputs": [],
   "source": [
    "preparation = DataPreparation(df)"
   ]
  },
  {
   "cell_type": "markdown",
   "id": "0f0abfa8-6524-400d-80ac-7884983baa14",
   "metadata": {},
   "source": [
    "## 4.2. Column standarization"
   ]
  },
  {
   "cell_type": "code",
   "execution_count": 13,
   "id": "b751237b-ff77-4218-8c74-4d82d79f34b4",
   "metadata": {},
   "outputs": [],
   "source": [
    "text_cols = ['ON STREET NAME','CROSS STREET NAME', 'OFF STREET NAME', 'CONTRIBUTING FACTOR VEHICLE 1',\n",
    "             'CONTRIBUTING FACTOR VEHICLE 2', 'CONTRIBUTING FACTOR VEHICLE 3','CONTRIBUTING FACTOR VEHICLE 4',\n",
    "             'CONTRIBUTING FACTOR VEHICLE 5', 'COLLISION_ID', 'VEHICLE TYPE CODE 1', 'VEHICLE TYPE CODE 2',\n",
    "             'VEHICLE TYPE CODE 3', 'VEHICLE TYPE CODE 4', 'VEHICLE TYPE CODE 5']\n",
    "number_cols =['NUMBER OF PERSONS INJURED', 'NUMBER OF PERSONS KILLED']"
   ]
  },
  {
   "cell_type": "code",
   "execution_count": 14,
   "id": "4fec17e3-0a91-4956-b411-9337ca7a3f3e",
   "metadata": {},
   "outputs": [],
   "source": [
    "preparation.standarize_text(text_cols)"
   ]
  },
  {
   "cell_type": "code",
   "execution_count": 15,
   "id": "2a9eeafd-b486-4f37-abe1-e433ba5bf5e0",
   "metadata": {},
   "outputs": [],
   "source": [
    "preparation.standarize_numbers(number_cols)"
   ]
  },
  {
   "cell_type": "markdown",
   "id": "7d1a11ee-a770-4302-b3d0-5ab6dcc2b881",
   "metadata": {},
   "source": [
    "## 4.3. Boroughs"
   ]
  },
  {
   "cell_type": "code",
   "execution_count": 16,
   "id": "54923c11-8c54-4f11-81f0-1f690581ca2f",
   "metadata": {},
   "outputs": [
    {
     "data": {
      "image/png": "[encoded data removed]",
      "text/plain": [
       "<Figure size 1000x600 with 1 Axes>"
      ]
     },
     "metadata": {},
     "output_type": "display_data"
    }
   ],
   "source": [
    "# Unique values in BOROUGH column\n",
    "Visualization.show_unique_observations(preparation.df, \"BOROUGH\")"
   ]
  },
  {
   "cell_type": "code",
   "execution_count": 17,
   "id": "7a6c9ca1-4d4c-49b0-aa2e-33b4fdeff106",
   "metadata": {},
   "outputs": [
    {
     "name": "stdout",
     "output_type": "stream",
     "text": [
      "Missing boroughs: 30.06%\n"
     ]
    }
   ],
   "source": [
    "preparation.count_missing_boroughs()"
   ]
  },
  {
   "cell_type": "markdown",
   "id": "4ccab84c-5d4b-4f43-9c79-3ed89ec82d4d",
   "metadata": {},
   "source": [
    "### 4.3.1 Filling missing boroughs from shapefile"
   ]
  },
  {
   "cell_type": "code",
   "execution_count": 18,
   "id": "6ab62b35-946f-4da9-a74a-0df198db7201",
   "metadata": {},
   "outputs": [],
   "source": [
    "preparation.fill_missing_boroughs()"
   ]
  },
  {
   "cell_type": "code",
   "execution_count": 19,
   "id": "00615984-96bd-4529-b557-930b08f7b676",
   "metadata": {},
   "outputs": [],
   "source": [
    "preparation.standarize_text([\"BOROUGH\"])"
   ]
  },
  {
   "cell_type": "code",
   "execution_count": 20,
   "id": "04d24da9-0a2a-4b74-b72f-ee9c243b7762",
   "metadata": {},
   "outputs": [
    {
     "data": {
      "image/png": "[encoded data removed]",
      "text/plain": [
       "<Figure size 1000x600 with 1 Axes>"
      ]
     },
     "metadata": {},
     "output_type": "display_data"
    }
   ],
   "source": [
    "# Unique values in BOROUGH column\n",
    "Visualization.show_unique_observations(preparation.df, \"BOROUGH\")"
   ]
  },
  {
   "cell_type": "code",
   "execution_count": 21,
   "id": "0800999e-cffb-4160-abe8-4e001a04b2f9",
   "metadata": {},
   "outputs": [
    {
     "name": "stdout",
     "output_type": "stream",
     "text": [
      "Missing boroughs: 0.0%\n"
     ]
    }
   ],
   "source": [
    "preparation.count_missing_boroughs()"
   ]
  },
  {
   "cell_type": "markdown",
   "id": "4adda5f0-9239-49b2-96f0-a102a23ad306",
   "metadata": {},
   "source": [
    "## 4.4 Latitude and longitude"
   ]
  },
  {
   "cell_type": "code",
   "execution_count": 22,
   "id": "a3963c1c-3369-402f-ab8a-ec3be0e6510f",
   "metadata": {},
   "outputs": [],
   "source": [
    "cols_to_fill = [\"LATITUDE\",\"LONGITUDE\"]\n",
    "preparation.df[cols_to_fill] = preparation.df[cols_to_fill].apply(lambda col: col.fillna(\"unknown\"))"
   ]
  },
  {
   "cell_type": "markdown",
   "id": "e8e40ba4-bfda-4ee8-9878-0e78e5ae2847",
   "metadata": {},
   "source": [
    "## 4.5 Number of persons"
   ]
  },
  {
   "cell_type": "code",
   "execution_count": 25,
   "id": "17d39d32-9df4-4aff-9023-2164b71951b6",
   "metadata": {},
   "outputs": [
    {
     "data": {
      "image/png": "[encoded data removed]",
      "text/plain": [
       "<Figure size 1000x600 with 1 Axes>"
      ]
     },
     "metadata": {},
     "output_type": "display_data"
    },
    {
     "data": {
      "image/png": "[encoded data removed]",
      "text/plain": [
       "<Figure size 1000x600 with 1 Axes>"
      ]
     },
     "metadata": {},
     "output_type": "display_data"
    }
   ],
   "source": [
    "Visualization.show_unique_observations(preparation.df, \"NUMBER OF PERSONS INJURED\")\n",
    "Visualization.show_unique_observations(preparation.df, \"NUMBER OF PERSONS KILLED\")"
   ]
  },
  {
   "cell_type": "markdown",
   "id": "4488f799-1c87-412c-b582-67814d24336a",
   "metadata": {},
   "source": [
    "## 4.6 Streets"
   ]
  },
  {
   "cell_type": "code",
   "execution_count": 26,
   "id": "53efd762-890c-471d-81ca-0ca22608b5bb",
   "metadata": {},
   "outputs": [],
   "source": [
    "streets_to_format = [\"ON STREET NAME\", \"CROSS STREET NAME\", \"OFF STREET NAME\"]"
   ]
  },
  {
   "cell_type": "code",
   "execution_count": 27,
   "id": "5cd7c227-e975-4952-9cb2-d21639c6d87c",
   "metadata": {},
   "outputs": [],
   "source": [
    "# Normalization of common street abbreviations\n",
    "normalizer = StreetNormalizer()\n",
    "preparation.df = normalizer.normalize_df_cols(preparation.df, streets_to_format)"
   ]
  },
  {
   "cell_type": "markdown",
   "id": "378d59e8-8694-4a21-ad4e-374c91df7088",
   "metadata": {},
   "source": [
    "## 4.7 Contributing factors"
   ]
  },
  {
   "cell_type": "code",
   "execution_count": 28,
   "id": "68eceb40-a192-4b56-800c-b78a0d1d37be",
   "metadata": {},
   "outputs": [],
   "source": [
    "cfv_typos_cols_1 = find_similar_phrases(preparation.df[\"CONTRIBUTING FACTOR VEHICLE 1\"])\n",
    "cfv_typos_cols_2 = find_similar_phrases(preparation.df[\"CONTRIBUTING FACTOR VEHICLE 2\"])\n",
    "cfv_typos_cols_3 = find_similar_phrases(preparation.df[\"CONTRIBUTING FACTOR VEHICLE 3\"])\n",
    "cfv_typos_cols_4 = find_similar_phrases(preparation.df[\"CONTRIBUTING FACTOR VEHICLE 4\"])\n",
    "cfv_typos_cols_5 = find_similar_phrases(preparation.df[\"CONTRIBUTING FACTOR VEHICLE 5\"])"
   ]
  },
  {
   "cell_type": "code",
   "execution_count": 29,
   "id": "0f3a6f68-647a-47a5-b291-8416a1b5f8a0",
   "metadata": {},
   "outputs": [
    {
     "name": "stdout",
     "output_type": "stream",
     "text": [
      "CFV 1 typos {'reaction to uninvolved vehicle': ['reaction to other uninvolved vehicle'], 'illnes': ['illness'], 'reaction to other uninvolved vehicle': ['reaction to uninvolved vehicle'], 'illness': ['illnes']}\n",
      "CFV 2 typos {'reaction to uninvolved vehicle': ['reaction to other uninvolved vehicle'], 'illnes': ['illness'], 'reaction to other uninvolved vehicle': ['reaction to uninvolved vehicle'], 'illness': ['illnes']}\n",
      "CFV 3 typos {'reaction to uninvolved vehicle': ['reaction to other uninvolved vehicle'], 'illnes': ['illness'], 'illness': ['illnes'], 'reaction to other uninvolved vehicle': ['reaction to uninvolved vehicle']}\n",
      "CFV 4 typos {}\n",
      "CFV 5 typos {}\n"
     ]
    }
   ],
   "source": [
    "print(f\"CFV 1 typos {cfv_typos_cols_1}\")\n",
    "print(f\"CFV 2 typos {cfv_typos_cols_2}\")\n",
    "print(f\"CFV 3 typos {cfv_typos_cols_3}\")\n",
    "print(f\"CFV 4 typos {cfv_typos_cols_4}\")\n",
    "print(f\"CFV 5 typos {cfv_typos_cols_5}\")"
   ]
  },
  {
   "cell_type": "markdown",
   "id": "dc6c6617-431a-43d2-bc02-56cc42298b77",
   "metadata": {},
   "source": [
    "### 4.7.1 Corrections directory"
   ]
  },
  {
   "cell_type": "code",
   "execution_count": 30,
   "id": "44e6f7e3-8e91-4c93-a947-152cf33d703c",
   "metadata": {},
   "outputs": [],
   "source": [
    "corrections_cfv = {\"reaction to other uninvolved vehicle\":\"reaction to uninvolved vehicle\", \"illnes\":\"illness\", \"nan\":\"unknown\", \n",
    "                  \"80\": \"unknown\", \"1\": \"unknown\"}"
   ]
  },
  {
   "cell_type": "markdown",
   "id": "6dca604e-7719-4565-b05a-aea3591673df",
   "metadata": {},
   "source": [
    "### 4.7.2 Typo corrections"
   ]
  },
  {
   "cell_type": "code",
   "execution_count": 31,
   "id": "5c9c4952-faa8-4c05-83c7-08535bcf636a",
   "metadata": {},
   "outputs": [],
   "source": [
    "cfv_cols_to_correct = [\"CONTRIBUTING FACTOR VEHICLE 1\", \"CONTRIBUTING FACTOR VEHICLE 2\", \"CONTRIBUTING FACTOR VEHICLE 3\",\n",
    "                     \"CONTRIBUTING FACTOR VEHICLE 4\", \"CONTRIBUTING FACTOR VEHICLE 5\"]\n",
    "preparation.df[cfv_cols_to_correct] = preparation.df[cfv_cols_to_correct].replace(corrections_cfv)"
   ]
  },
  {
   "cell_type": "code",
   "execution_count": 32,
   "id": "1640616c-462a-46ed-a2ef-b370e34512c6",
   "metadata": {},
   "outputs": [
    {
     "name": "stdout",
     "output_type": "stream",
     "text": [
      "{}\n"
     ]
    }
   ],
   "source": [
    "cfv_typos_cols_1_cleaned = find_similar_phrases(preparation.df[\"CONTRIBUTING FACTOR VEHICLE 1\"])\n",
    "print(cfv_typos_cols_1_cleaned)"
   ]
  },
  {
   "cell_type": "markdown",
   "id": "21a2efd1-e9af-48fd-9192-65802d785eb6",
   "metadata": {},
   "source": [
    "## 4.8 Vehicle types"
   ]
  },
  {
   "cell_type": "markdown",
   "id": "409f20d3-60c9-4da9-8d8c-8f2d764d7ae0",
   "metadata": {},
   "source": [
    "### 4.8.1 Similar words overview"
   ]
  },
  {
   "cell_type": "code",
   "execution_count": 33,
   "id": "36044f5a-95cf-4c92-95b7-61757f7de7f9",
   "metadata": {},
   "outputs": [],
   "source": [
    "vtc1 = find_similar_phrases(preparation.df[\"VEHICLE TYPE CODE 1\"], 80)"
   ]
  },
  {
   "cell_type": "code",
   "execution_count": 34,
   "id": "65055e9d-878d-4a2e-8510-d62ac11ae8b1",
   "metadata": {},
   "outputs": [],
   "source": [
    "#for key, values in vtc1.items():\n",
    "#    print(f\"{key}: {\", \".join(values)}\")"
   ]
  },
  {
   "cell_type": "code",
   "execution_count": 35,
   "id": "c76bf4d8-fe38-4a85-9623-985fed5901d1",
   "metadata": {},
   "outputs": [],
   "source": [
    "type_cols_to_correct = [\"VEHICLE TYPE CODE 1\", \"VEHICLE TYPE CODE 2\", \"VEHICLE TYPE CODE 3\", \"VEHICLE TYPE CODE 4\", \"VEHICLE TYPE CODE 5\"]"
   ]
  },
  {
   "cell_type": "markdown",
   "id": "46e75abe-d275-452a-b20d-9539fd35108a",
   "metadata": {},
   "source": [
    "### 4.8.2 Load mappings from JSON file"
   ]
  },
  {
   "cell_type": "code",
   "execution_count": 36,
   "id": "9dbb25f0-f4e2-4d3d-92c5-fd35cdafd748",
   "metadata": {},
   "outputs": [],
   "source": [
    "raw_mapping, generalized_mapping = load_mappings()"
   ]
  },
  {
   "cell_type": "code",
   "execution_count": 37,
   "id": "3dc0b179-8439-4c70-8441-7e4a6f597fd8",
   "metadata": {},
   "outputs": [
    {
     "name": "stdout",
     "output_type": "stream",
     "text": [
      "Raw Mapping: True\n",
      "Generalized Mapping: True\n"
     ]
    }
   ],
   "source": [
    "print(\"Raw Mapping:\", raw_mapping is not None)\n",
    "print(\"Generalized Mapping:\", generalized_mapping is not None)"
   ]
  },
  {
   "cell_type": "markdown",
   "id": "e254e0a5-19f7-4265-8144-c07e2849f577",
   "metadata": {},
   "source": [
    "### 4.8.3 Map vehicle types"
   ]
  },
  {
   "cell_type": "code",
   "execution_count": 38,
   "id": "f8eb9334-dc8b-4949-b82c-f230588a8e43",
   "metadata": {},
   "outputs": [],
   "source": [
    "preparation.df = map_vehicle_type(\n",
    "    preparation.df,\n",
    "    type_cols_to_correct,\n",
    "    generalized=True,\n",
    "    raw_mapping=raw_mapping,\n",
    "    generalized_mapping=generalized_mapping\n",
    ")"
   ]
  },
  {
   "cell_type": "code",
   "execution_count": 39,
   "id": "bb54d79b-32d2-458d-a2a1-7581d490e349",
   "metadata": {},
   "outputs": [
    {
     "data": {
      "image/png": "[encoded data removed]",
      "text/plain": [
       "<Figure size 1000x600 with 1 Axes>"
      ]
     },
     "metadata": {},
     "output_type": "display_data"
    }
   ],
   "source": [
    "Visualization.show_unique_observations(preparation.df, \"VEHICLE TYPE CODE 1\")"
   ]
  },
  {
   "cell_type": "code",
   "execution_count": 40,
   "id": "b4c1bd1b-0da0-48ef-94b9-e15521b72ff8",
   "metadata": {},
   "outputs": [],
   "source": [
    "def check_dict(list, dict):\n",
    "    not_included = []\n",
    "    for i in list: \n",
    "        if not i in (dict):\n",
    "            not_included.append(i)\n",
    "    return not_included"
   ]
  },
  {
   "cell_type": "code",
   "execution_count": 41,
   "id": "424f27b5-a45e-4e94-b6e4-91ef0baa2600",
   "metadata": {},
   "outputs": [
    {
     "name": "stdout",
     "output_type": "stream",
     "text": [
      "[]\n"
     ]
    }
   ],
   "source": [
    "print(check_dict(preparation.df[\"VEHICLE TYPE CODE 1\"].unique(), generalized_mapping))"
   ]
  },
  {
   "cell_type": "markdown",
   "id": "9a126feb-e206-479c-aa21-05e4e5d43e26",
   "metadata": {},
   "source": [
    "## 4.9 Duplicates"
   ]
  },
  {
   "cell_type": "code",
   "execution_count": 43,
   "id": "f3fc34ed-18d2-48f0-980d-34af389ac28b",
   "metadata": {},
   "outputs": [
    {
     "data": {
      "text/plain": [
       "np.int64(394221)"
      ]
     },
     "execution_count": 43,
     "metadata": {},
     "output_type": "execute_result"
    }
   ],
   "source": [
    "preparation.df.duplicated().sum()"
   ]
  },
  {
   "cell_type": "code",
   "execution_count": 44,
   "id": "befb5e73-16df-4b88-b608-06088b59c236",
   "metadata": {},
   "outputs": [],
   "source": [
    "preparation.clean_data()"
   ]
  },
  {
   "cell_type": "code",
   "execution_count": 46,
   "id": "40b513ac-846a-4c7f-a7fa-53b08e483126",
   "metadata": {},
   "outputs": [
    {
     "data": {
      "text/plain": [
       "np.int64(0)"
      ]
     },
     "execution_count": 46,
     "metadata": {},
     "output_type": "execute_result"
    }
   ],
   "source": [
    "preparation.df.duplicated().sum()"
   ]
  },
  {
   "cell_type": "markdown",
   "id": "73c5d156-9f57-43aa-aa80-a5aa37a6f5a6",
   "metadata": {},
   "source": [
    "# 5. Export data"
   ]
  },
  {
   "cell_type": "code",
   "execution_count": 47,
   "id": "586b015a-9aa6-4bf8-8f29-60f7be1293a6",
   "metadata": {},
   "outputs": [],
   "source": [
    "preparation.save_data(\"../data/nypd-motor-vehicle-collisions-cleaned.csv\")"
   ]
  }
 ],
 "metadata": {
  "kernelspec": {
   "display_name": "Python 3 (ipykernel)",
   "language": "python",
   "name": "python3"
  },
  "language_info": {
   "codemirror_mode": {
    "name": "ipython",
    "version": 3
   },
   "file_extension": ".py",
   "mimetype": "text/x-python",
   "name": "python",
   "nbconvert_exporter": "python",
   "pygments_lexer": "ipython3",
   "version": "3.12.1"
  }
 },
 "nbformat": 4,
 "nbformat_minor": 5
}
