{
 "cells": [
  {
   "cell_type": "code",
   "execution_count": 41,
   "id": "123e3cc5-5e5d-49f0-af69-fec86e427e08",
   "metadata": {},
   "outputs": [],
   "source": [
    "import pandas as pd\n",
    "import numpy as np\n",
    "import sys\n",
    "import os\n",
    "sys.path.append(os.path.abspath(\"..\"))\n",
    "from utils import find_similar_phrases"
   ]
  },
  {
   "cell_type": "markdown",
   "id": "a1ff992f-20dd-4610-b2da-a8701e5b7239",
   "metadata": {},
   "source": [
    "# Data load"
   ]
  },
  {
   "cell_type": "code",
   "execution_count": 4,
   "id": "b26d88d0-4f42-4b18-ba9e-9c9b1df333e0",
   "metadata": {},
   "outputs": [],
   "source": [
    "# Loading data\n",
    "df = pd.read_csv(\"../data/nypd-motor-vehicle-collisions.csv\", low_memory=False)"
   ]
  },
  {
   "cell_type": "markdown",
   "id": "87a45e4e-a2be-4ee5-9c5f-156e585ee998",
   "metadata": {},
   "source": [
    "# Dataset information"
   ]
  },
  {
   "cell_type": "code",
   "execution_count": 5,
   "id": "4b100296-a528-4377-be5b-38ed14072376",
   "metadata": {},
   "outputs": [
    {
     "name": "stdout",
     "output_type": "stream",
     "text": [
      "(1612178, 29)\n"
     ]
    }
   ],
   "source": [
    "print(df.shape)"
   ]
  },
  {
   "cell_type": "code",
   "execution_count": 6,
   "id": "7fe3673b-384a-4252-b701-f8e223930e8e",
   "metadata": {},
   "outputs": [
    {
     "name": "stdout",
     "output_type": "stream",
     "text": [
      "Index(['ACCIDENT DATE', 'ACCIDENT TIME', 'BOROUGH', 'ZIP CODE', 'LATITUDE',\n",
      "       'LONGITUDE', 'LOCATION', 'ON STREET NAME', 'CROSS STREET NAME',\n",
      "       'OFF STREET NAME', 'NUMBER OF PERSONS INJURED',\n",
      "       'NUMBER OF PERSONS KILLED', 'NUMBER OF PEDESTRIANS INJURED',\n",
      "       'NUMBER OF PEDESTRIANS KILLED', 'NUMBER OF CYCLIST INJURED',\n",
      "       'NUMBER OF CYCLIST KILLED', 'NUMBER OF MOTORIST INJURED',\n",
      "       'NUMBER OF MOTORIST KILLED', 'CONTRIBUTING FACTOR VEHICLE 1',\n",
      "       'CONTRIBUTING FACTOR VEHICLE 2', 'CONTRIBUTING FACTOR VEHICLE 3',\n",
      "       'CONTRIBUTING FACTOR VEHICLE 4', 'CONTRIBUTING FACTOR VEHICLE 5',\n",
      "       'COLLISION_ID', 'VEHICLE TYPE CODE 1', 'VEHICLE TYPE CODE 2',\n",
      "       'VEHICLE TYPE CODE 3', 'VEHICLE TYPE CODE 4', 'VEHICLE TYPE CODE 5'],\n",
      "      dtype='object')\n"
     ]
    }
   ],
   "source": [
    "print(df.columns)"
   ]
  },
  {
   "cell_type": "code",
   "execution_count": 7,
   "id": "ec860e34-963b-457e-a328-7201764d66b0",
   "metadata": {},
   "outputs": [
    {
     "data": {
      "text/html": [
       "<div>\n",
       "<style scoped>\n",
       "    .dataframe tbody tr th:only-of-type {\n",
       "        vertical-align: middle;\n",
       "    }\n",
       "\n",
       "    .dataframe tbody tr th {\n",
       "        vertical-align: top;\n",
       "    }\n",
       "\n",
       "    .dataframe thead th {\n",
       "        text-align: right;\n",
       "    }\n",
       "</style>\n",
       "<table border=\"1\" class=\"dataframe\">\n",
       "  <thead>\n",
       "    <tr style=\"text-align: right;\">\n",
       "      <th></th>\n",
       "      <th>ACCIDENT DATE</th>\n",
       "      <th>ACCIDENT TIME</th>\n",
       "      <th>BOROUGH</th>\n",
       "      <th>ZIP CODE</th>\n",
       "      <th>LATITUDE</th>\n",
       "      <th>LONGITUDE</th>\n",
       "      <th>LOCATION</th>\n",
       "      <th>ON STREET NAME</th>\n",
       "      <th>CROSS STREET NAME</th>\n",
       "      <th>OFF STREET NAME</th>\n",
       "      <th>...</th>\n",
       "      <th>CONTRIBUTING FACTOR VEHICLE 2</th>\n",
       "      <th>CONTRIBUTING FACTOR VEHICLE 3</th>\n",
       "      <th>CONTRIBUTING FACTOR VEHICLE 4</th>\n",
       "      <th>CONTRIBUTING FACTOR VEHICLE 5</th>\n",
       "      <th>COLLISION_ID</th>\n",
       "      <th>VEHICLE TYPE CODE 1</th>\n",
       "      <th>VEHICLE TYPE CODE 2</th>\n",
       "      <th>VEHICLE TYPE CODE 3</th>\n",
       "      <th>VEHICLE TYPE CODE 4</th>\n",
       "      <th>VEHICLE TYPE CODE 5</th>\n",
       "    </tr>\n",
       "  </thead>\n",
       "  <tbody>\n",
       "    <tr>\n",
       "      <th>0</th>\n",
       "      <td>2019-08-05T00:00:00.000</td>\n",
       "      <td>16:30</td>\n",
       "      <td>QUEENS</td>\n",
       "      <td>11434</td>\n",
       "      <td>40.676052</td>\n",
       "      <td>-73.790184</td>\n",
       "      <td>{'type': 'Point', 'coordinates': [-73.790184, ...</td>\n",
       "      <td>NaN</td>\n",
       "      <td>NaN</td>\n",
       "      <td>150-08    123 AVENUE</td>\n",
       "      <td>...</td>\n",
       "      <td>Unspecified</td>\n",
       "      <td>NaN</td>\n",
       "      <td>NaN</td>\n",
       "      <td>NaN</td>\n",
       "      <td>4184637</td>\n",
       "      <td>Sedan</td>\n",
       "      <td>Pick-up Truck</td>\n",
       "      <td>NaN</td>\n",
       "      <td>NaN</td>\n",
       "      <td>NaN</td>\n",
       "    </tr>\n",
       "    <tr>\n",
       "      <th>1</th>\n",
       "      <td>2019-08-27T00:00:00.000</td>\n",
       "      <td>16:02</td>\n",
       "      <td>BROOKLYN</td>\n",
       "      <td>11225</td>\n",
       "      <td>40.657780</td>\n",
       "      <td>-73.951096</td>\n",
       "      <td>{'type': 'Point', 'coordinates': [-73.951096, ...</td>\n",
       "      <td>NaN</td>\n",
       "      <td>NaN</td>\n",
       "      <td>288       HAWTHORNE STREET</td>\n",
       "      <td>...</td>\n",
       "      <td>Unspecified</td>\n",
       "      <td>NaN</td>\n",
       "      <td>NaN</td>\n",
       "      <td>NaN</td>\n",
       "      <td>4195773</td>\n",
       "      <td>Station Wagon/Sport Utility Vehicle</td>\n",
       "      <td>Station Wagon/Sport Utility Vehicle</td>\n",
       "      <td>NaN</td>\n",
       "      <td>NaN</td>\n",
       "      <td>NaN</td>\n",
       "    </tr>\n",
       "    <tr>\n",
       "      <th>2</th>\n",
       "      <td>2019-08-15T00:00:00.000</td>\n",
       "      <td>17:57</td>\n",
       "      <td>MANHATTAN</td>\n",
       "      <td>10002</td>\n",
       "      <td>40.718143</td>\n",
       "      <td>-73.993835</td>\n",
       "      <td>{'type': 'Point', 'coordinates': [-73.993835, ...</td>\n",
       "      <td>CHRYSTIE STREET</td>\n",
       "      <td>GRAND STREET</td>\n",
       "      <td>NaN</td>\n",
       "      <td>...</td>\n",
       "      <td>NaN</td>\n",
       "      <td>NaN</td>\n",
       "      <td>NaN</td>\n",
       "      <td>NaN</td>\n",
       "      <td>4202457</td>\n",
       "      <td>Sedan</td>\n",
       "      <td>NaN</td>\n",
       "      <td>NaN</td>\n",
       "      <td>NaN</td>\n",
       "      <td>NaN</td>\n",
       "    </tr>\n",
       "    <tr>\n",
       "      <th>3</th>\n",
       "      <td>2019-08-30T00:00:00.000</td>\n",
       "      <td>21:53</td>\n",
       "      <td>BRONX</td>\n",
       "      <td>10460</td>\n",
       "      <td>40.840534</td>\n",
       "      <td>-73.866610</td>\n",
       "      <td>{'type': 'Point', 'coordinates': [-73.86661, 4...</td>\n",
       "      <td>NaN</td>\n",
       "      <td>NaN</td>\n",
       "      <td>1837      EAST TREMONT AVENUE</td>\n",
       "      <td>...</td>\n",
       "      <td>Unspecified</td>\n",
       "      <td>NaN</td>\n",
       "      <td>NaN</td>\n",
       "      <td>NaN</td>\n",
       "      <td>4198749</td>\n",
       "      <td>Taxi</td>\n",
       "      <td>Station Wagon/Sport Utility Vehicle</td>\n",
       "      <td>NaN</td>\n",
       "      <td>NaN</td>\n",
       "      <td>NaN</td>\n",
       "    </tr>\n",
       "    <tr>\n",
       "      <th>4</th>\n",
       "      <td>2019-08-06T00:00:00.000</td>\n",
       "      <td>9:45</td>\n",
       "      <td>MANHATTAN</td>\n",
       "      <td>10016</td>\n",
       "      <td>40.745440</td>\n",
       "      <td>-73.975400</td>\n",
       "      <td>{'type': 'Point', 'coordinates': [-73.9754, 40...</td>\n",
       "      <td>EAST 35 STREET</td>\n",
       "      <td>2 AVENUE</td>\n",
       "      <td>NaN</td>\n",
       "      <td>...</td>\n",
       "      <td>Driver Inattention/Distraction</td>\n",
       "      <td>NaN</td>\n",
       "      <td>NaN</td>\n",
       "      <td>NaN</td>\n",
       "      <td>4183798</td>\n",
       "      <td>Station Wagon/Sport Utility Vehicle</td>\n",
       "      <td>Bike</td>\n",
       "      <td>NaN</td>\n",
       "      <td>NaN</td>\n",
       "      <td>NaN</td>\n",
       "    </tr>\n",
       "  </tbody>\n",
       "</table>\n",
       "<p>5 rows × 29 columns</p>\n",
       "</div>"
      ],
      "text/plain": [
       "             ACCIDENT DATE ACCIDENT TIME    BOROUGH ZIP CODE   LATITUDE  \\\n",
       "0  2019-08-05T00:00:00.000         16:30     QUEENS    11434  40.676052   \n",
       "1  2019-08-27T00:00:00.000         16:02   BROOKLYN    11225  40.657780   \n",
       "2  2019-08-15T00:00:00.000         17:57  MANHATTAN    10002  40.718143   \n",
       "3  2019-08-30T00:00:00.000         21:53      BRONX    10460  40.840534   \n",
       "4  2019-08-06T00:00:00.000          9:45  MANHATTAN    10016  40.745440   \n",
       "\n",
       "   LONGITUDE                                           LOCATION  \\\n",
       "0 -73.790184  {'type': 'Point', 'coordinates': [-73.790184, ...   \n",
       "1 -73.951096  {'type': 'Point', 'coordinates': [-73.951096, ...   \n",
       "2 -73.993835  {'type': 'Point', 'coordinates': [-73.993835, ...   \n",
       "3 -73.866610  {'type': 'Point', 'coordinates': [-73.86661, 4...   \n",
       "4 -73.975400  {'type': 'Point', 'coordinates': [-73.9754, 40...   \n",
       "\n",
       "                     ON STREET NAME CROSS STREET NAME  \\\n",
       "0                               NaN               NaN   \n",
       "1                               NaN               NaN   \n",
       "2  CHRYSTIE STREET                       GRAND STREET   \n",
       "3                               NaN               NaN   \n",
       "4  EAST 35 STREET                            2 AVENUE   \n",
       "\n",
       "                            OFF STREET NAME  ...  \\\n",
       "0  150-08    123 AVENUE                      ...   \n",
       "1  288       HAWTHORNE STREET                ...   \n",
       "2                                       NaN  ...   \n",
       "3  1837      EAST TREMONT AVENUE             ...   \n",
       "4                                       NaN  ...   \n",
       "\n",
       "    CONTRIBUTING FACTOR VEHICLE 2  CONTRIBUTING FACTOR VEHICLE 3  \\\n",
       "0                     Unspecified                            NaN   \n",
       "1                     Unspecified                            NaN   \n",
       "2                             NaN                            NaN   \n",
       "3                     Unspecified                            NaN   \n",
       "4  Driver Inattention/Distraction                            NaN   \n",
       "\n",
       "   CONTRIBUTING FACTOR VEHICLE 4  CONTRIBUTING FACTOR VEHICLE 5  COLLISION_ID  \\\n",
       "0                            NaN                            NaN       4184637   \n",
       "1                            NaN                            NaN       4195773   \n",
       "2                            NaN                            NaN       4202457   \n",
       "3                            NaN                            NaN       4198749   \n",
       "4                            NaN                            NaN       4183798   \n",
       "\n",
       "                   VEHICLE TYPE CODE 1                  VEHICLE TYPE CODE 2  \\\n",
       "0                                Sedan                        Pick-up Truck   \n",
       "1  Station Wagon/Sport Utility Vehicle  Station Wagon/Sport Utility Vehicle   \n",
       "2                                Sedan                                  NaN   \n",
       "3                                 Taxi  Station Wagon/Sport Utility Vehicle   \n",
       "4  Station Wagon/Sport Utility Vehicle                                 Bike   \n",
       "\n",
       "   VEHICLE TYPE CODE 3 VEHICLE TYPE CODE 4 VEHICLE TYPE CODE 5  \n",
       "0                  NaN                 NaN                 NaN  \n",
       "1                  NaN                 NaN                 NaN  \n",
       "2                  NaN                 NaN                 NaN  \n",
       "3                  NaN                 NaN                 NaN  \n",
       "4                  NaN                 NaN                 NaN  \n",
       "\n",
       "[5 rows x 29 columns]"
      ]
     },
     "execution_count": 7,
     "metadata": {},
     "output_type": "execute_result"
    }
   ],
   "source": [
    "df.head()"
   ]
  },
  {
   "cell_type": "code",
   "execution_count": 8,
   "id": "00929492-6256-4e99-bbf3-00853ec3e8b5",
   "metadata": {
    "scrolled": true
   },
   "outputs": [
    {
     "name": "stdout",
     "output_type": "stream",
     "text": [
      "<class 'pandas.core.frame.DataFrame'>\n",
      "RangeIndex: 1612178 entries, 0 to 1612177\n",
      "Data columns (total 29 columns):\n",
      " #   Column                         Non-Null Count    Dtype  \n",
      "---  ------                         --------------    -----  \n",
      " 0   ACCIDENT DATE                  1612178 non-null  object \n",
      " 1   ACCIDENT TIME                  1612178 non-null  object \n",
      " 2   BOROUGH                        1127553 non-null  object \n",
      " 3   ZIP CODE                       1127376 non-null  object \n",
      " 4   LATITUDE                       1415893 non-null  float64\n",
      " 5   LONGITUDE                      1415893 non-null  float64\n",
      " 6   LOCATION                       1415893 non-null  object \n",
      " 7   ON STREET NAME                 1298002 non-null  object \n",
      " 8   CROSS STREET NAME              1079193 non-null  object \n",
      " 9   OFF STREET NAME                219732 non-null   object \n",
      " 10  NUMBER OF PERSONS INJURED      1612161 non-null  float64\n",
      " 11  NUMBER OF PERSONS KILLED       1612145 non-null  float64\n",
      " 12  NUMBER OF PEDESTRIANS INJURED  1612178 non-null  int64  \n",
      " 13  NUMBER OF PEDESTRIANS KILLED   1612178 non-null  int64  \n",
      " 14  NUMBER OF CYCLIST INJURED      1612178 non-null  int64  \n",
      " 15  NUMBER OF CYCLIST KILLED       1612178 non-null  int64  \n",
      " 16  NUMBER OF MOTORIST INJURED     1612178 non-null  int64  \n",
      " 17  NUMBER OF MOTORIST KILLED      1612178 non-null  int64  \n",
      " 18  CONTRIBUTING FACTOR VEHICLE 1  1607854 non-null  object \n",
      " 19  CONTRIBUTING FACTOR VEHICLE 2  1396127 non-null  object \n",
      " 20  CONTRIBUTING FACTOR VEHICLE 3  104254 non-null   object \n",
      " 21  CONTRIBUTING FACTOR VEHICLE 4  21789 non-null    object \n",
      " 22  CONTRIBUTING FACTOR VEHICLE 5  5622 non-null     object \n",
      " 23  COLLISION_ID                   1612178 non-null  int64  \n",
      " 24  VEHICLE TYPE CODE 1            1606597 non-null  object \n",
      " 25  VEHICLE TYPE CODE 2            1346858 non-null  object \n",
      " 26  VEHICLE TYPE CODE 3            128742 non-null   object \n",
      " 27  VEHICLE TYPE CODE 4            46009 non-null    object \n",
      " 28  VEHICLE TYPE CODE 5            10150 non-null    object \n",
      "dtypes: float64(4), int64(7), object(18)\n",
      "memory usage: 356.7+ MB\n"
     ]
    }
   ],
   "source": [
    "df.info()"
   ]
  },
  {
   "cell_type": "code",
   "execution_count": 9,
   "id": "ea370155-2789-4ad7-8619-f83951ebc2a4",
   "metadata": {},
   "outputs": [
    {
     "data": {
      "text/html": [
       "<div>\n",
       "<style scoped>\n",
       "    .dataframe tbody tr th:only-of-type {\n",
       "        vertical-align: middle;\n",
       "    }\n",
       "\n",
       "    .dataframe tbody tr th {\n",
       "        vertical-align: top;\n",
       "    }\n",
       "\n",
       "    .dataframe thead th {\n",
       "        text-align: right;\n",
       "    }\n",
       "</style>\n",
       "<table border=\"1\" class=\"dataframe\">\n",
       "  <thead>\n",
       "    <tr style=\"text-align: right;\">\n",
       "      <th></th>\n",
       "      <th>LATITUDE</th>\n",
       "      <th>LONGITUDE</th>\n",
       "      <th>NUMBER OF PERSONS INJURED</th>\n",
       "      <th>NUMBER OF PERSONS KILLED</th>\n",
       "      <th>NUMBER OF PEDESTRIANS INJURED</th>\n",
       "      <th>NUMBER OF PEDESTRIANS KILLED</th>\n",
       "      <th>NUMBER OF CYCLIST INJURED</th>\n",
       "      <th>NUMBER OF CYCLIST KILLED</th>\n",
       "      <th>NUMBER OF MOTORIST INJURED</th>\n",
       "      <th>NUMBER OF MOTORIST KILLED</th>\n",
       "      <th>COLLISION_ID</th>\n",
       "    </tr>\n",
       "  </thead>\n",
       "  <tbody>\n",
       "    <tr>\n",
       "      <th>count</th>\n",
       "      <td>1.415893e+06</td>\n",
       "      <td>1.415893e+06</td>\n",
       "      <td>1.612161e+06</td>\n",
       "      <td>1.612145e+06</td>\n",
       "      <td>1.612178e+06</td>\n",
       "      <td>1.612178e+06</td>\n",
       "      <td>1.612178e+06</td>\n",
       "      <td>1.612178e+06</td>\n",
       "      <td>1.612178e+06</td>\n",
       "      <td>1.612178e+06</td>\n",
       "      <td>1.612178e+06</td>\n",
       "    </tr>\n",
       "    <tr>\n",
       "      <th>mean</th>\n",
       "      <td>4.068864e+01</td>\n",
       "      <td>-7.386657e+01</td>\n",
       "      <td>2.631363e-01</td>\n",
       "      <td>1.185998e-03</td>\n",
       "      <td>5.060483e-02</td>\n",
       "      <td>6.302034e-04</td>\n",
       "      <td>2.098590e-02</td>\n",
       "      <td>9.242156e-05</td>\n",
       "      <td>1.916854e-01</td>\n",
       "      <td>4.633483e-04</td>\n",
       "      <td>2.765946e+06</td>\n",
       "    </tr>\n",
       "    <tr>\n",
       "      <th>std</th>\n",
       "      <td>1.200403e+00</td>\n",
       "      <td>2.438640e+00</td>\n",
       "      <td>6.584832e-01</td>\n",
       "      <td>3.644859e-02</td>\n",
       "      <td>2.316972e-01</td>\n",
       "      <td>2.577872e-02</td>\n",
       "      <td>1.445222e-01</td>\n",
       "      <td>9.677481e-03</td>\n",
       "      <td>6.206497e-01</td>\n",
       "      <td>2.334547e-02</td>\n",
       "      <td>1.506373e+06</td>\n",
       "    </tr>\n",
       "    <tr>\n",
       "      <th>min</th>\n",
       "      <td>0.000000e+00</td>\n",
       "      <td>-2.012371e+02</td>\n",
       "      <td>0.000000e+00</td>\n",
       "      <td>0.000000e+00</td>\n",
       "      <td>0.000000e+00</td>\n",
       "      <td>0.000000e+00</td>\n",
       "      <td>0.000000e+00</td>\n",
       "      <td>0.000000e+00</td>\n",
       "      <td>0.000000e+00</td>\n",
       "      <td>0.000000e+00</td>\n",
       "      <td>2.300000e+01</td>\n",
       "    </tr>\n",
       "    <tr>\n",
       "      <th>25%</th>\n",
       "      <td>4.066882e+01</td>\n",
       "      <td>-7.397746e+01</td>\n",
       "      <td>0.000000e+00</td>\n",
       "      <td>0.000000e+00</td>\n",
       "      <td>0.000000e+00</td>\n",
       "      <td>0.000000e+00</td>\n",
       "      <td>0.000000e+00</td>\n",
       "      <td>0.000000e+00</td>\n",
       "      <td>0.000000e+00</td>\n",
       "      <td>0.000000e+00</td>\n",
       "      <td>1.014464e+06</td>\n",
       "    </tr>\n",
       "    <tr>\n",
       "      <th>50%</th>\n",
       "      <td>4.072258e+01</td>\n",
       "      <td>-7.393002e+01</td>\n",
       "      <td>0.000000e+00</td>\n",
       "      <td>0.000000e+00</td>\n",
       "      <td>0.000000e+00</td>\n",
       "      <td>0.000000e+00</td>\n",
       "      <td>0.000000e+00</td>\n",
       "      <td>0.000000e+00</td>\n",
       "      <td>0.000000e+00</td>\n",
       "      <td>0.000000e+00</td>\n",
       "      <td>3.422826e+06</td>\n",
       "    </tr>\n",
       "    <tr>\n",
       "      <th>75%</th>\n",
       "      <td>4.076789e+01</td>\n",
       "      <td>-7.386727e+01</td>\n",
       "      <td>0.000000e+00</td>\n",
       "      <td>0.000000e+00</td>\n",
       "      <td>0.000000e+00</td>\n",
       "      <td>0.000000e+00</td>\n",
       "      <td>0.000000e+00</td>\n",
       "      <td>0.000000e+00</td>\n",
       "      <td>0.000000e+00</td>\n",
       "      <td>0.000000e+00</td>\n",
       "      <td>3.854210e+06</td>\n",
       "    </tr>\n",
       "    <tr>\n",
       "      <th>max</th>\n",
       "      <td>4.231832e+01</td>\n",
       "      <td>0.000000e+00</td>\n",
       "      <td>3.100000e+01</td>\n",
       "      <td>8.000000e+00</td>\n",
       "      <td>2.700000e+01</td>\n",
       "      <td>6.000000e+00</td>\n",
       "      <td>4.000000e+00</td>\n",
       "      <td>2.000000e+00</td>\n",
       "      <td>3.100000e+01</td>\n",
       "      <td>5.000000e+00</td>\n",
       "      <td>4.249104e+06</td>\n",
       "    </tr>\n",
       "  </tbody>\n",
       "</table>\n",
       "</div>"
      ],
      "text/plain": [
       "           LATITUDE     LONGITUDE  NUMBER OF PERSONS INJURED  \\\n",
       "count  1.415893e+06  1.415893e+06               1.612161e+06   \n",
       "mean   4.068864e+01 -7.386657e+01               2.631363e-01   \n",
       "std    1.200403e+00  2.438640e+00               6.584832e-01   \n",
       "min    0.000000e+00 -2.012371e+02               0.000000e+00   \n",
       "25%    4.066882e+01 -7.397746e+01               0.000000e+00   \n",
       "50%    4.072258e+01 -7.393002e+01               0.000000e+00   \n",
       "75%    4.076789e+01 -7.386727e+01               0.000000e+00   \n",
       "max    4.231832e+01  0.000000e+00               3.100000e+01   \n",
       "\n",
       "       NUMBER OF PERSONS KILLED  NUMBER OF PEDESTRIANS INJURED  \\\n",
       "count              1.612145e+06                   1.612178e+06   \n",
       "mean               1.185998e-03                   5.060483e-02   \n",
       "std                3.644859e-02                   2.316972e-01   \n",
       "min                0.000000e+00                   0.000000e+00   \n",
       "25%                0.000000e+00                   0.000000e+00   \n",
       "50%                0.000000e+00                   0.000000e+00   \n",
       "75%                0.000000e+00                   0.000000e+00   \n",
       "max                8.000000e+00                   2.700000e+01   \n",
       "\n",
       "       NUMBER OF PEDESTRIANS KILLED  NUMBER OF CYCLIST INJURED  \\\n",
       "count                  1.612178e+06               1.612178e+06   \n",
       "mean                   6.302034e-04               2.098590e-02   \n",
       "std                    2.577872e-02               1.445222e-01   \n",
       "min                    0.000000e+00               0.000000e+00   \n",
       "25%                    0.000000e+00               0.000000e+00   \n",
       "50%                    0.000000e+00               0.000000e+00   \n",
       "75%                    0.000000e+00               0.000000e+00   \n",
       "max                    6.000000e+00               4.000000e+00   \n",
       "\n",
       "       NUMBER OF CYCLIST KILLED  NUMBER OF MOTORIST INJURED  \\\n",
       "count              1.612178e+06                1.612178e+06   \n",
       "mean               9.242156e-05                1.916854e-01   \n",
       "std                9.677481e-03                6.206497e-01   \n",
       "min                0.000000e+00                0.000000e+00   \n",
       "25%                0.000000e+00                0.000000e+00   \n",
       "50%                0.000000e+00                0.000000e+00   \n",
       "75%                0.000000e+00                0.000000e+00   \n",
       "max                2.000000e+00                3.100000e+01   \n",
       "\n",
       "       NUMBER OF MOTORIST KILLED  COLLISION_ID  \n",
       "count               1.612178e+06  1.612178e+06  \n",
       "mean                4.633483e-04  2.765946e+06  \n",
       "std                 2.334547e-02  1.506373e+06  \n",
       "min                 0.000000e+00  2.300000e+01  \n",
       "25%                 0.000000e+00  1.014464e+06  \n",
       "50%                 0.000000e+00  3.422826e+06  \n",
       "75%                 0.000000e+00  3.854210e+06  \n",
       "max                 5.000000e+00  4.249104e+06  "
      ]
     },
     "execution_count": 9,
     "metadata": {},
     "output_type": "execute_result"
    }
   ],
   "source": [
    "df.describe()"
   ]
  },
  {
   "cell_type": "markdown",
   "id": "39f98c5e-8135-456c-bbad-4bb64822640a",
   "metadata": {},
   "source": [
    "# Data Cleaning"
   ]
  },
  {
   "cell_type": "markdown",
   "id": "15e4b164-c1d4-4ee0-8669-d1272960a8a4",
   "metadata": {},
   "source": [
    "## Deleting unnecessary columns"
   ]
  },
  {
   "cell_type": "code",
   "execution_count": 10,
   "id": "1ea9eee7-ef39-4733-9083-4a4181f40fd5",
   "metadata": {},
   "outputs": [],
   "source": [
    "del df[\"ZIP CODE\"]"
   ]
  },
  {
   "cell_type": "markdown",
   "id": "adff6dfb-6175-4184-ab0c-8fd562877422",
   "metadata": {},
   "source": [
    "## Datetime"
   ]
  },
  {
   "cell_type": "code",
   "execution_count": 11,
   "id": "2b2e64af-d7a0-40c1-86a9-525ae9c25677",
   "metadata": {},
   "outputs": [
    {
     "data": {
      "text/plain": [
       "0          2019-08-05T00:00:00.000\n",
       "1          2019-08-27T00:00:00.000\n",
       "2          2019-08-15T00:00:00.000\n",
       "3          2019-08-30T00:00:00.000\n",
       "4          2019-08-06T00:00:00.000\n",
       "                    ...           \n",
       "1612173    2012-07-21T00:00:00.000\n",
       "1612174    2012-07-09T00:00:00.000\n",
       "1612175    2012-07-09T00:00:00.000\n",
       "1612176    2012-07-18T00:00:00.000\n",
       "1612177    2012-07-12T00:00:00.000\n",
       "Name: ACCIDENT DATE, Length: 1612178, dtype: object"
      ]
     },
     "execution_count": 11,
     "metadata": {},
     "output_type": "execute_result"
    }
   ],
   "source": [
    "df[\"ACCIDENT DATE\"]"
   ]
  },
  {
   "cell_type": "code",
   "execution_count": 12,
   "id": "7ae233ae-a019-4623-baa5-e188295e8483",
   "metadata": {},
   "outputs": [],
   "source": [
    "df[\"ACCIDENT DATE\"] = pd.to_datetime(df[\"ACCIDENT DATE\"], format=\"%Y-%m-%dT%H:%M:%S.%f\")\n",
    "df[\"ACCIDENT DATE FORMATTED\"] = df[\"ACCIDENT DATE\"].dt.strftime(\"%d/%m/%Y\")\n",
    "df[\"ACCIDENT DATE\"] = df[\"ACCIDENT DATE\"].dt.normalize()"
   ]
  },
  {
   "cell_type": "code",
   "execution_count": 13,
   "id": "be187053-ac98-4636-b8f0-f1c679dff5f0",
   "metadata": {},
   "outputs": [
    {
     "data": {
      "text/plain": [
       "0          16:30\n",
       "1          16:02\n",
       "2          17:57\n",
       "3          21:53\n",
       "4           9:45\n",
       "           ...  \n",
       "1612173    22:46\n",
       "1612174    16:45\n",
       "1612175    14:35\n",
       "1612176     9:20\n",
       "1612177     3:10\n",
       "Name: ACCIDENT TIME, Length: 1612178, dtype: object"
      ]
     },
     "execution_count": 13,
     "metadata": {},
     "output_type": "execute_result"
    }
   ],
   "source": [
    "df[\"ACCIDENT TIME\"]"
   ]
  },
  {
   "cell_type": "markdown",
   "id": "7d1a11ee-a770-4302-b3d0-5ab6dcc2b881",
   "metadata": {},
   "source": [
    "## Missing boroughs, latitude, longitude and location"
   ]
  },
  {
   "cell_type": "code",
   "execution_count": 14,
   "id": "54923c11-8c54-4f11-81f0-1f690581ca2f",
   "metadata": {},
   "outputs": [
    {
     "data": {
      "text/plain": [
       "array(['QUEENS', 'BROOKLYN', 'MANHATTAN', 'BRONX', nan, 'STATEN ISLAND'],\n",
       "      dtype=object)"
      ]
     },
     "execution_count": 14,
     "metadata": {},
     "output_type": "execute_result"
    }
   ],
   "source": [
    "df[\"BOROUGH\"].unique()"
   ]
  },
  {
   "cell_type": "code",
   "execution_count": 15,
   "id": "6e24ef48-50a0-4e0e-ad2f-ed29d3706350",
   "metadata": {},
   "outputs": [
    {
     "name": "stdout",
     "output_type": "stream",
     "text": [
      "Missing boroughs 30.06 %\n"
     ]
    }
   ],
   "source": [
    "# Check how many boroughs are missing\n",
    "missing_boroughs = df[\"BOROUGH\"].isna().mean()\n",
    "print(f\"Missing boroughs {round(missing_boroughs*100,2)} %\")"
   ]
  },
  {
   "cell_type": "code",
   "execution_count": 16,
   "id": "32f03b40-2d56-42c8-bc23-a9a5d7ae74a4",
   "metadata": {},
   "outputs": [
    {
     "data": {
      "text/plain": [
       "LATITUDE     196285\n",
       "LONGITUDE    196285\n",
       "dtype: int64"
      ]
     },
     "execution_count": 16,
     "metadata": {},
     "output_type": "execute_result"
    }
   ],
   "source": [
    "df[[\"LATITUDE\", \"LONGITUDE\"]].isna().sum()"
   ]
  },
  {
   "cell_type": "markdown",
   "id": "4adda5f0-9239-49b2-96f0-a102a23ad306",
   "metadata": {},
   "source": [
    "## Label NaN as \"Unknown\""
   ]
  },
  {
   "cell_type": "code",
   "execution_count": 17,
   "id": "a3963c1c-3369-402f-ab8a-ec3be0e6510f",
   "metadata": {},
   "outputs": [],
   "source": [
    "cols_to_fill = [\"BOROUGH\",\"LATITUDE\",\"LONGITUDE\",\"LOCATION\"]\n",
    "df[cols_to_fill] = df[cols_to_fill].apply(lambda col: col.fillna(\"UNKNOWN\"))"
   ]
  },
  {
   "cell_type": "code",
   "execution_count": 18,
   "id": "3ef6dfe8-3799-4788-9a48-d11ccb1a27ca",
   "metadata": {},
   "outputs": [
    {
     "data": {
      "text/html": [
       "<div>\n",
       "<style scoped>\n",
       "    .dataframe tbody tr th:only-of-type {\n",
       "        vertical-align: middle;\n",
       "    }\n",
       "\n",
       "    .dataframe tbody tr th {\n",
       "        vertical-align: top;\n",
       "    }\n",
       "\n",
       "    .dataframe thead th {\n",
       "        text-align: right;\n",
       "    }\n",
       "</style>\n",
       "<table border=\"1\" class=\"dataframe\">\n",
       "  <thead>\n",
       "    <tr style=\"text-align: right;\">\n",
       "      <th></th>\n",
       "      <th>ACCIDENT DATE</th>\n",
       "      <th>ACCIDENT TIME</th>\n",
       "      <th>BOROUGH</th>\n",
       "      <th>LATITUDE</th>\n",
       "      <th>LONGITUDE</th>\n",
       "      <th>LOCATION</th>\n",
       "      <th>ON STREET NAME</th>\n",
       "      <th>CROSS STREET NAME</th>\n",
       "      <th>OFF STREET NAME</th>\n",
       "      <th>NUMBER OF PERSONS INJURED</th>\n",
       "      <th>...</th>\n",
       "      <th>CONTRIBUTING FACTOR VEHICLE 3</th>\n",
       "      <th>CONTRIBUTING FACTOR VEHICLE 4</th>\n",
       "      <th>CONTRIBUTING FACTOR VEHICLE 5</th>\n",
       "      <th>COLLISION_ID</th>\n",
       "      <th>VEHICLE TYPE CODE 1</th>\n",
       "      <th>VEHICLE TYPE CODE 2</th>\n",
       "      <th>VEHICLE TYPE CODE 3</th>\n",
       "      <th>VEHICLE TYPE CODE 4</th>\n",
       "      <th>VEHICLE TYPE CODE 5</th>\n",
       "      <th>ACCIDENT DATE FORMATTED</th>\n",
       "    </tr>\n",
       "  </thead>\n",
       "  <tbody>\n",
       "    <tr>\n",
       "      <th>0</th>\n",
       "      <td>2019-08-05</td>\n",
       "      <td>16:30</td>\n",
       "      <td>QUEENS</td>\n",
       "      <td>40.676052</td>\n",
       "      <td>-73.790184</td>\n",
       "      <td>{'type': 'Point', 'coordinates': [-73.790184, ...</td>\n",
       "      <td>NaN</td>\n",
       "      <td>NaN</td>\n",
       "      <td>150-08    123 AVENUE</td>\n",
       "      <td>0.0</td>\n",
       "      <td>...</td>\n",
       "      <td>NaN</td>\n",
       "      <td>NaN</td>\n",
       "      <td>NaN</td>\n",
       "      <td>4184637</td>\n",
       "      <td>Sedan</td>\n",
       "      <td>Pick-up Truck</td>\n",
       "      <td>NaN</td>\n",
       "      <td>NaN</td>\n",
       "      <td>NaN</td>\n",
       "      <td>05/08/2019</td>\n",
       "    </tr>\n",
       "    <tr>\n",
       "      <th>1</th>\n",
       "      <td>2019-08-27</td>\n",
       "      <td>16:02</td>\n",
       "      <td>BROOKLYN</td>\n",
       "      <td>40.65778</td>\n",
       "      <td>-73.951096</td>\n",
       "      <td>{'type': 'Point', 'coordinates': [-73.951096, ...</td>\n",
       "      <td>NaN</td>\n",
       "      <td>NaN</td>\n",
       "      <td>288       HAWTHORNE STREET</td>\n",
       "      <td>0.0</td>\n",
       "      <td>...</td>\n",
       "      <td>NaN</td>\n",
       "      <td>NaN</td>\n",
       "      <td>NaN</td>\n",
       "      <td>4195773</td>\n",
       "      <td>Station Wagon/Sport Utility Vehicle</td>\n",
       "      <td>Station Wagon/Sport Utility Vehicle</td>\n",
       "      <td>NaN</td>\n",
       "      <td>NaN</td>\n",
       "      <td>NaN</td>\n",
       "      <td>27/08/2019</td>\n",
       "    </tr>\n",
       "    <tr>\n",
       "      <th>2</th>\n",
       "      <td>2019-08-15</td>\n",
       "      <td>17:57</td>\n",
       "      <td>MANHATTAN</td>\n",
       "      <td>40.718143</td>\n",
       "      <td>-73.993835</td>\n",
       "      <td>{'type': 'Point', 'coordinates': [-73.993835, ...</td>\n",
       "      <td>CHRYSTIE STREET</td>\n",
       "      <td>GRAND STREET</td>\n",
       "      <td>NaN</td>\n",
       "      <td>1.0</td>\n",
       "      <td>...</td>\n",
       "      <td>NaN</td>\n",
       "      <td>NaN</td>\n",
       "      <td>NaN</td>\n",
       "      <td>4202457</td>\n",
       "      <td>Sedan</td>\n",
       "      <td>NaN</td>\n",
       "      <td>NaN</td>\n",
       "      <td>NaN</td>\n",
       "      <td>NaN</td>\n",
       "      <td>15/08/2019</td>\n",
       "    </tr>\n",
       "    <tr>\n",
       "      <th>3</th>\n",
       "      <td>2019-08-30</td>\n",
       "      <td>21:53</td>\n",
       "      <td>BRONX</td>\n",
       "      <td>40.840534</td>\n",
       "      <td>-73.86661</td>\n",
       "      <td>{'type': 'Point', 'coordinates': [-73.86661, 4...</td>\n",
       "      <td>NaN</td>\n",
       "      <td>NaN</td>\n",
       "      <td>1837      EAST TREMONT AVENUE</td>\n",
       "      <td>0.0</td>\n",
       "      <td>...</td>\n",
       "      <td>NaN</td>\n",
       "      <td>NaN</td>\n",
       "      <td>NaN</td>\n",
       "      <td>4198749</td>\n",
       "      <td>Taxi</td>\n",
       "      <td>Station Wagon/Sport Utility Vehicle</td>\n",
       "      <td>NaN</td>\n",
       "      <td>NaN</td>\n",
       "      <td>NaN</td>\n",
       "      <td>30/08/2019</td>\n",
       "    </tr>\n",
       "    <tr>\n",
       "      <th>4</th>\n",
       "      <td>2019-08-06</td>\n",
       "      <td>9:45</td>\n",
       "      <td>MANHATTAN</td>\n",
       "      <td>40.74544</td>\n",
       "      <td>-73.9754</td>\n",
       "      <td>{'type': 'Point', 'coordinates': [-73.9754, 40...</td>\n",
       "      <td>EAST 35 STREET</td>\n",
       "      <td>2 AVENUE</td>\n",
       "      <td>NaN</td>\n",
       "      <td>1.0</td>\n",
       "      <td>...</td>\n",
       "      <td>NaN</td>\n",
       "      <td>NaN</td>\n",
       "      <td>NaN</td>\n",
       "      <td>4183798</td>\n",
       "      <td>Station Wagon/Sport Utility Vehicle</td>\n",
       "      <td>Bike</td>\n",
       "      <td>NaN</td>\n",
       "      <td>NaN</td>\n",
       "      <td>NaN</td>\n",
       "      <td>06/08/2019</td>\n",
       "    </tr>\n",
       "  </tbody>\n",
       "</table>\n",
       "<p>5 rows × 29 columns</p>\n",
       "</div>"
      ],
      "text/plain": [
       "  ACCIDENT DATE ACCIDENT TIME    BOROUGH   LATITUDE  LONGITUDE  \\\n",
       "0    2019-08-05         16:30     QUEENS  40.676052 -73.790184   \n",
       "1    2019-08-27         16:02   BROOKLYN   40.65778 -73.951096   \n",
       "2    2019-08-15         17:57  MANHATTAN  40.718143 -73.993835   \n",
       "3    2019-08-30         21:53      BRONX  40.840534  -73.86661   \n",
       "4    2019-08-06          9:45  MANHATTAN   40.74544   -73.9754   \n",
       "\n",
       "                                            LOCATION  \\\n",
       "0  {'type': 'Point', 'coordinates': [-73.790184, ...   \n",
       "1  {'type': 'Point', 'coordinates': [-73.951096, ...   \n",
       "2  {'type': 'Point', 'coordinates': [-73.993835, ...   \n",
       "3  {'type': 'Point', 'coordinates': [-73.86661, 4...   \n",
       "4  {'type': 'Point', 'coordinates': [-73.9754, 40...   \n",
       "\n",
       "                     ON STREET NAME CROSS STREET NAME  \\\n",
       "0                               NaN               NaN   \n",
       "1                               NaN               NaN   \n",
       "2  CHRYSTIE STREET                       GRAND STREET   \n",
       "3                               NaN               NaN   \n",
       "4  EAST 35 STREET                            2 AVENUE   \n",
       "\n",
       "                            OFF STREET NAME  NUMBER OF PERSONS INJURED  ...  \\\n",
       "0  150-08    123 AVENUE                                            0.0  ...   \n",
       "1  288       HAWTHORNE STREET                                      0.0  ...   \n",
       "2                                       NaN                        1.0  ...   \n",
       "3  1837      EAST TREMONT AVENUE                                   0.0  ...   \n",
       "4                                       NaN                        1.0  ...   \n",
       "\n",
       "   CONTRIBUTING FACTOR VEHICLE 3  CONTRIBUTING FACTOR VEHICLE 4  \\\n",
       "0                            NaN                            NaN   \n",
       "1                            NaN                            NaN   \n",
       "2                            NaN                            NaN   \n",
       "3                            NaN                            NaN   \n",
       "4                            NaN                            NaN   \n",
       "\n",
       "   CONTRIBUTING FACTOR VEHICLE 5  COLLISION_ID  \\\n",
       "0                            NaN       4184637   \n",
       "1                            NaN       4195773   \n",
       "2                            NaN       4202457   \n",
       "3                            NaN       4198749   \n",
       "4                            NaN       4183798   \n",
       "\n",
       "                   VEHICLE TYPE CODE 1                  VEHICLE TYPE CODE 2  \\\n",
       "0                                Sedan                        Pick-up Truck   \n",
       "1  Station Wagon/Sport Utility Vehicle  Station Wagon/Sport Utility Vehicle   \n",
       "2                                Sedan                                  NaN   \n",
       "3                                 Taxi  Station Wagon/Sport Utility Vehicle   \n",
       "4  Station Wagon/Sport Utility Vehicle                                 Bike   \n",
       "\n",
       "   VEHICLE TYPE CODE 3 VEHICLE TYPE CODE 4 VEHICLE TYPE CODE 5  \\\n",
       "0                  NaN                 NaN                 NaN   \n",
       "1                  NaN                 NaN                 NaN   \n",
       "2                  NaN                 NaN                 NaN   \n",
       "3                  NaN                 NaN                 NaN   \n",
       "4                  NaN                 NaN                 NaN   \n",
       "\n",
       "  ACCIDENT DATE FORMATTED  \n",
       "0              05/08/2019  \n",
       "1              27/08/2019  \n",
       "2              15/08/2019  \n",
       "3              30/08/2019  \n",
       "4              06/08/2019  \n",
       "\n",
       "[5 rows x 29 columns]"
      ]
     },
     "execution_count": 18,
     "metadata": {},
     "output_type": "execute_result"
    }
   ],
   "source": [
    "df.head(5)"
   ]
  },
  {
   "cell_type": "markdown",
   "id": "e8e40ba4-bfda-4ee8-9878-0e78e5ae2847",
   "metadata": {},
   "source": [
    "## Number of persons"
   ]
  },
  {
   "cell_type": "code",
   "execution_count": 19,
   "id": "95fbbd30-9f3e-4a95-863e-4ff6accf104c",
   "metadata": {},
   "outputs": [
    {
     "data": {
      "text/plain": [
       "array([ 0.,  1.,  3.,  2.,  4.,  7.,  5.,  6.,  8.,  9., nan, 11., 27.,\n",
       "       13., 10., 12., 17., 14., 15., 16., 20., 22., 31., 19., 18., 24.])"
      ]
     },
     "execution_count": 19,
     "metadata": {},
     "output_type": "execute_result"
    }
   ],
   "source": [
    "df[\"NUMBER OF PERSONS INJURED\"].unique()"
   ]
  },
  {
   "cell_type": "code",
   "execution_count": 20,
   "id": "caad382c-5a6d-49c1-8cba-db26ca2bdaa5",
   "metadata": {},
   "outputs": [],
   "source": [
    "df[\"NUMBER OF PERSONS INJURED\"] = df[\"NUMBER OF PERSONS INJURED\"].astype(\"Int64\")"
   ]
  },
  {
   "cell_type": "code",
   "execution_count": 21,
   "id": "a35997be-7666-4662-a93b-b30bb24a598c",
   "metadata": {},
   "outputs": [
    {
     "data": {
      "text/plain": [
       "<IntegerArray>\n",
       "[   0,    1,    3,    2,    4,    7,    5,    6,    8,    9, <NA>,   11,   27,\n",
       "   13,   10,   12,   17,   14,   15,   16,   20,   22,   31,   19,   18,   24]\n",
       "Length: 26, dtype: Int64"
      ]
     },
     "execution_count": 21,
     "metadata": {},
     "output_type": "execute_result"
    }
   ],
   "source": [
    "df[\"NUMBER OF PERSONS INJURED\"].unique()"
   ]
  },
  {
   "cell_type": "code",
   "execution_count": 22,
   "id": "c1c01712-e584-4cd5-ae0b-4f9998a8c24b",
   "metadata": {},
   "outputs": [
    {
     "data": {
      "text/plain": [
       "array([ 0.,  1.,  2., nan,  8.,  4.,  5.,  3.])"
      ]
     },
     "execution_count": 22,
     "metadata": {},
     "output_type": "execute_result"
    }
   ],
   "source": [
    "df[\"NUMBER OF PERSONS KILLED\"].unique()"
   ]
  },
  {
   "cell_type": "code",
   "execution_count": 23,
   "id": "4c534e69-f7d6-482f-bdb4-7f12646e6465",
   "metadata": {},
   "outputs": [],
   "source": [
    "df[\"NUMBER OF PERSONS KILLED\"] = df[\"NUMBER OF PERSONS KILLED\"].astype(\"Int64\")"
   ]
  },
  {
   "cell_type": "code",
   "execution_count": 24,
   "id": "db964f8a-77a8-4646-8a28-36e9656aae00",
   "metadata": {},
   "outputs": [
    {
     "name": "stdout",
     "output_type": "stream",
     "text": [
      "<class 'pandas.core.frame.DataFrame'>\n",
      "RangeIndex: 1612178 entries, 0 to 1612177\n",
      "Data columns (total 29 columns):\n",
      " #   Column                         Non-Null Count    Dtype         \n",
      "---  ------                         --------------    -----         \n",
      " 0   ACCIDENT DATE                  1612178 non-null  datetime64[ns]\n",
      " 1   ACCIDENT TIME                  1612178 non-null  object        \n",
      " 2   BOROUGH                        1612178 non-null  object        \n",
      " 3   LATITUDE                       1612178 non-null  object        \n",
      " 4   LONGITUDE                      1612178 non-null  object        \n",
      " 5   LOCATION                       1612178 non-null  object        \n",
      " 6   ON STREET NAME                 1298002 non-null  object        \n",
      " 7   CROSS STREET NAME              1079193 non-null  object        \n",
      " 8   OFF STREET NAME                219732 non-null   object        \n",
      " 9   NUMBER OF PERSONS INJURED      1612161 non-null  Int64         \n",
      " 10  NUMBER OF PERSONS KILLED       1612145 non-null  Int64         \n",
      " 11  NUMBER OF PEDESTRIANS INJURED  1612178 non-null  int64         \n",
      " 12  NUMBER OF PEDESTRIANS KILLED   1612178 non-null  int64         \n",
      " 13  NUMBER OF CYCLIST INJURED      1612178 non-null  int64         \n",
      " 14  NUMBER OF CYCLIST KILLED       1612178 non-null  int64         \n",
      " 15  NUMBER OF MOTORIST INJURED     1612178 non-null  int64         \n",
      " 16  NUMBER OF MOTORIST KILLED      1612178 non-null  int64         \n",
      " 17  CONTRIBUTING FACTOR VEHICLE 1  1607854 non-null  object        \n",
      " 18  CONTRIBUTING FACTOR VEHICLE 2  1396127 non-null  object        \n",
      " 19  CONTRIBUTING FACTOR VEHICLE 3  104254 non-null   object        \n",
      " 20  CONTRIBUTING FACTOR VEHICLE 4  21789 non-null    object        \n",
      " 21  CONTRIBUTING FACTOR VEHICLE 5  5622 non-null     object        \n",
      " 22  COLLISION_ID                   1612178 non-null  int64         \n",
      " 23  VEHICLE TYPE CODE 1            1606597 non-null  object        \n",
      " 24  VEHICLE TYPE CODE 2            1346858 non-null  object        \n",
      " 25  VEHICLE TYPE CODE 3            128742 non-null   object        \n",
      " 26  VEHICLE TYPE CODE 4            46009 non-null    object        \n",
      " 27  VEHICLE TYPE CODE 5            10150 non-null    object        \n",
      " 28  ACCIDENT DATE FORMATTED        1612178 non-null  object        \n",
      "dtypes: Int64(2), datetime64[ns](1), int64(7), object(19)\n",
      "memory usage: 359.8+ MB\n"
     ]
    }
   ],
   "source": [
    "df.info()\n"
   ]
  },
  {
   "cell_type": "code",
   "execution_count": 25,
   "id": "3453a207-a39b-4cac-8076-1c3e10a3ef89",
   "metadata": {},
   "outputs": [
    {
     "data": {
      "text/plain": [
       "array([0, 1, 2, 5, 3, 4])"
      ]
     },
     "execution_count": 25,
     "metadata": {},
     "output_type": "execute_result"
    }
   ],
   "source": [
    "df[\"NUMBER OF MOTORIST KILLED\"].unique()"
   ]
  },
  {
   "cell_type": "markdown",
   "id": "6bfb77c8-6771-435a-aa67-6c6dc8ffca7c",
   "metadata": {},
   "source": [
    "## String formatting"
   ]
  },
  {
   "cell_type": "code",
   "execution_count": 26,
   "id": "880958e9-ded3-45a4-8e7b-92f8bfe2263d",
   "metadata": {},
   "outputs": [],
   "source": [
    "cols_to_format = [\"CONTRIBUTING FACTOR VEHICLE 1\", \"CONTRIBUTING FACTOR VEHICLE 2\", \"CONTRIBUTING FACTOR VEHICLE 3\",\n",
    "                     \"CONTRIBUTING FACTOR VEHICLE 4\", \"CONTRIBUTING FACTOR VEHICLE 5\", \"VEHICLE TYPE CODE 1\", \n",
    "                     \"VEHICLE TYPE CODE 2\",\"VEHICLE TYPE CODE 3\",\"VEHICLE TYPE CODE 4\",\"VEHICLE TYPE CODE 5\",\n",
    "                 \"ON STREET NAME\", \"CROSS STREET NAME\", \"OFF STREET NAME\"]\n",
    "df[cols_to_format] = df[cols_to_format].astype(str).apply(\n",
    "    lambda col: col.str.strip().str.lower())"
   ]
  },
  {
   "cell_type": "code",
   "execution_count": 59,
   "id": "68eceb40-a192-4b56-800c-b78a0d1d37be",
   "metadata": {},
   "outputs": [],
   "source": [
    "cfv_typos_cols_1 = find_similar_phrases(df[\"CONTRIBUTING FACTOR VEHICLE 1\"])\n",
    "cfv_typos_cols_2 = find_similar_phrases(df[\"CONTRIBUTING FACTOR VEHICLE 2\"])\n",
    "cfv_typos_cols_3 = find_similar_phrases(df[\"CONTRIBUTING FACTOR VEHICLE 3\"])\n",
    "cfv_typos_cols_4 = find_similar_phrases(df[\"CONTRIBUTING FACTOR VEHICLE 4\"])\n",
    "cfv_typos_cols_5 = find_similar_phrases(df[\"CONTRIBUTING FACTOR VEHICLE 5\"])"
   ]
  },
  {
   "cell_type": "code",
   "execution_count": 66,
   "id": "0f3a6f68-647a-47a5-b291-8416a1b5f8a0",
   "metadata": {},
   "outputs": [
    {
     "name": "stdout",
     "output_type": "stream",
     "text": [
      "CFV 1 typos {'reaction to uninvolved vehicle': ['reaction to other uninvolved vehicle'], 'illnes': ['illness'], 'reaction to other uninvolved vehicle': ['reaction to uninvolved vehicle'], 'illness': ['illnes']}\n",
      "CFV 2 typos {'reaction to uninvolved vehicle': ['reaction to other uninvolved vehicle'], 'illnes': ['illness'], 'reaction to other uninvolved vehicle': ['reaction to uninvolved vehicle'], 'illness': ['illnes']}\n",
      "CFV 3 typos {'reaction to uninvolved vehicle': ['reaction to other uninvolved vehicle'], 'illnes': ['illness'], 'illness': ['illnes'], 'reaction to other uninvolved vehicle': ['reaction to uninvolved vehicle']}\n",
      "CFV 4 typos {}\n",
      "CFV 5 typos {}\n"
     ]
    }
   ],
   "source": [
    "print(f\"CFV 1 typos {cfv_typos_cols_1}\")\n",
    "print(f\"CFV 2 typos {cfv_typos_cols_2}\")\n",
    "print(f\"CFV 3 typos {cfv_typos_cols_3}\")\n",
    "print(f\"CFV 4 typos {cfv_typos_cols_4}\")\n",
    "print(f\"CFV 5 typos {cfv_typos_cols_5}\")"
   ]
  },
  {
   "cell_type": "markdown",
   "id": "dc6c6617-431a-43d2-bc02-56cc42298b77",
   "metadata": {},
   "source": [
    "### Corrections directory"
   ]
  },
  {
   "cell_type": "code",
   "execution_count": 68,
   "id": "44e6f7e3-8e91-4c93-a947-152cf33d703c",
   "metadata": {},
   "outputs": [],
   "source": [
    "corrections_cfv = {\"reaction to other uninvolved vehicle\":\"reaction to uninvolved vehicle\", \"illnes\":\"illness\"}"
   ]
  },
  {
   "cell_type": "code",
   "execution_count": 69,
   "id": "5c9c4952-faa8-4c05-83c7-08535bcf636a",
   "metadata": {},
   "outputs": [],
   "source": [
    "cfv_cols_to_correct = [\"CONTRIBUTING FACTOR VEHICLE 1\", \"CONTRIBUTING FACTOR VEHICLE 2\", \"CONTRIBUTING FACTOR VEHICLE 3\",\n",
    "                     \"CONTRIBUTING FACTOR VEHICLE 4\", \"CONTRIBUTING FACTOR VEHICLE 5\"]\n",
    "df[cfv_cols_to_correct] = df[cfv_cols_to_correct].replace(corrections_cfv)"
   ]
  },
  {
   "cell_type": "code",
   "execution_count": 70,
   "id": "1640616c-462a-46ed-a2ef-b370e34512c6",
   "metadata": {},
   "outputs": [
    {
     "name": "stdout",
     "output_type": "stream",
     "text": [
      "{}\n"
     ]
    }
   ],
   "source": [
    "cfv_typos_cols_1_cleaned = find_similar_phrases(df[\"CONTRIBUTING FACTOR VEHICLE 1\"])\n",
    "print(cfv_typos_cols_1_cleaned)"
   ]
  },
  {
   "cell_type": "code",
   "execution_count": null,
   "id": "5d05b10d-f710-46b8-8f4f-8a8290453925",
   "metadata": {},
   "outputs": [],
   "source": []
  }
 ],
 "metadata": {
  "kernelspec": {
   "display_name": "Python 3 (ipykernel)",
   "language": "python",
   "name": "python3"
  },
  "language_info": {
   "codemirror_mode": {
    "name": "ipython",
    "version": 3
   },
   "file_extension": ".py",
   "mimetype": "text/x-python",
   "name": "python",
   "nbconvert_exporter": "python",
   "pygments_lexer": "ipython3",
   "version": "3.12.1"
  }
 },
 "nbformat": 4,
 "nbformat_minor": 5
}
