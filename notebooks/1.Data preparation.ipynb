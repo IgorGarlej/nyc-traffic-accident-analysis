{
 "cells": [
  {
   "cell_type": "code",
   "execution_count": 140,
   "id": "123e3cc5-5e5d-49f0-af69-fec86e427e08",
   "metadata": {},
   "outputs": [
    {
     "ename": "ImportError",
     "evalue": "cannot import name 'normalize_street_names' from 'utils' (C:\\Users\\igarl\\Desktop\\DA_Project\\utils.py)",
     "output_type": "error",
     "traceback": [
      "\u001b[31m---------------------------------------------------------------------------\u001b[39m",
      "\u001b[31mImportError\u001b[39m                               Traceback (most recent call last)",
      "\u001b[36mCell\u001b[39m\u001b[36m \u001b[39m\u001b[32mIn[140]\u001b[39m\u001b[32m, line 8\u001b[39m\n\u001b[32m      6\u001b[39m \u001b[38;5;28;01mimport\u001b[39;00m\u001b[38;5;250m \u001b[39m\u001b[34;01mos\u001b[39;00m\n\u001b[32m      7\u001b[39m sys.path.append(os.path.abspath(\u001b[33m\"\u001b[39m\u001b[33m..\u001b[39m\u001b[33m\"\u001b[39m))\n\u001b[32m----> \u001b[39m\u001b[32m8\u001b[39m \u001b[38;5;28;01mfrom\u001b[39;00m\u001b[38;5;250m \u001b[39m\u001b[34;01mutils\u001b[39;00m\u001b[38;5;250m \u001b[39m\u001b[38;5;28;01mimport\u001b[39;00m create_geometry_column, find_similar_phrases, normalize_street_names\n",
      "\u001b[31mImportError\u001b[39m: cannot import name 'normalize_street_names' from 'utils' (C:\\Users\\igarl\\Desktop\\DA_Project\\utils.py)"
     ]
    }
   ],
   "source": [
    "import pandas as pd\n",
    "import geopandas as gpd\n",
    "import numpy as np\n",
    "import matplotlib as plt\n",
    "import sys\n",
    "import os\n",
    "sys.path.append(os.path.abspath(\"..\"))\n",
    "from utils import create_geometry_column, find_similar_phrases, normalize_street_names"
   ]
  },
  {
   "cell_type": "markdown",
   "id": "a1ff992f-20dd-4610-b2da-a8701e5b7239",
   "metadata": {},
   "source": [
    "# Data load"
   ]
  },
  {
   "cell_type": "code",
   "execution_count": null,
   "id": "b26d88d0-4f42-4b18-ba9e-9c9b1df333e0",
   "metadata": {},
   "outputs": [],
   "source": [
    "# Loading data\n",
    "df = pd.read_csv(\"../data/nypd-motor-vehicle-collisions.csv\", low_memory=False)"
   ]
  },
  {
   "cell_type": "markdown",
   "id": "87a45e4e-a2be-4ee5-9c5f-156e585ee998",
   "metadata": {},
   "source": [
    "# Dataset information"
   ]
  },
  {
   "cell_type": "code",
   "execution_count": null,
   "id": "4b100296-a528-4377-be5b-38ed14072376",
   "metadata": {},
   "outputs": [],
   "source": [
    "print(df.shape)"
   ]
  },
  {
   "cell_type": "code",
   "execution_count": null,
   "id": "7fe3673b-384a-4252-b701-f8e223930e8e",
   "metadata": {},
   "outputs": [],
   "source": [
    "print(df.columns)"
   ]
  },
  {
   "cell_type": "code",
   "execution_count": null,
   "id": "ec860e34-963b-457e-a328-7201764d66b0",
   "metadata": {},
   "outputs": [],
   "source": [
    "df.head()"
   ]
  },
  {
   "cell_type": "code",
   "execution_count": null,
   "id": "00929492-6256-4e99-bbf3-00853ec3e8b5",
   "metadata": {
    "scrolled": true
   },
   "outputs": [],
   "source": [
    "df.info()"
   ]
  },
  {
   "cell_type": "code",
   "execution_count": null,
   "id": "ea370155-2789-4ad7-8619-f83951ebc2a4",
   "metadata": {},
   "outputs": [],
   "source": [
    "df.describe()"
   ]
  },
  {
   "cell_type": "markdown",
   "id": "39f98c5e-8135-456c-bbad-4bb64822640a",
   "metadata": {},
   "source": [
    "# Data Cleaning"
   ]
  },
  {
   "cell_type": "markdown",
   "id": "15e4b164-c1d4-4ee0-8669-d1272960a8a4",
   "metadata": {},
   "source": [
    "## Deleting unnecessary columns"
   ]
  },
  {
   "cell_type": "code",
   "execution_count": null,
   "id": "1ea9eee7-ef39-4733-9083-4a4181f40fd5",
   "metadata": {},
   "outputs": [],
   "source": [
    "del df[\"ZIP CODE\"]"
   ]
  },
  {
   "cell_type": "markdown",
   "id": "adff6dfb-6175-4184-ab0c-8fd562877422",
   "metadata": {},
   "source": [
    "## Datetime"
   ]
  },
  {
   "cell_type": "code",
   "execution_count": null,
   "id": "2b2e64af-d7a0-40c1-86a9-525ae9c25677",
   "metadata": {},
   "outputs": [],
   "source": [
    "df[\"ACCIDENT DATE\"]"
   ]
  },
  {
   "cell_type": "code",
   "execution_count": null,
   "id": "7ae233ae-a019-4623-baa5-e188295e8483",
   "metadata": {},
   "outputs": [],
   "source": [
    "df[\"ACCIDENT DATE\"] = pd.to_datetime(df[\"ACCIDENT DATE\"], format=\"%Y-%m-%dT%H:%M:%S.%f\")\n",
    "df[\"ACCIDENT DATE FORMATTED\"] = df[\"ACCIDENT DATE\"].dt.strftime(\"%d/%m/%Y\")\n",
    "df[\"ACCIDENT DATE\"] = df[\"ACCIDENT DATE\"].dt.normalize()"
   ]
  },
  {
   "cell_type": "code",
   "execution_count": null,
   "id": "c1d365ba-bd54-4fe5-b7f5-3ab1ebf9fd87",
   "metadata": {},
   "outputs": [],
   "source": [
    "df[\"ACCIDENT DATE\"].head(5)"
   ]
  },
  {
   "cell_type": "code",
   "execution_count": null,
   "id": "be187053-ac98-4636-b8f0-f1c679dff5f0",
   "metadata": {},
   "outputs": [],
   "source": [
    "df[\"ACCIDENT TIME\"].head(5)"
   ]
  },
  {
   "cell_type": "markdown",
   "id": "7d1a11ee-a770-4302-b3d0-5ab6dcc2b881",
   "metadata": {},
   "source": [
    "## Missing boroughs, latitude, longitude and location"
   ]
  },
  {
   "cell_type": "code",
   "execution_count": null,
   "id": "54923c11-8c54-4f11-81f0-1f690581ca2f",
   "metadata": {},
   "outputs": [],
   "source": [
    "df[\"BOROUGH\"].unique()"
   ]
  },
  {
   "cell_type": "code",
   "execution_count": null,
   "id": "6e24ef48-50a0-4e0e-ad2f-ed29d3706350",
   "metadata": {},
   "outputs": [],
   "source": [
    "# Check how many boroughs are missing\n",
    "missing_boroughs = df[\"BOROUGH\"].isna().mean()\n",
    "print(f\"Missing boroughs {round(missing_boroughs*100,2)} %\")"
   ]
  },
  {
   "cell_type": "code",
   "execution_count": null,
   "id": "32f03b40-2d56-42c8-bc23-a9a5d7ae74a4",
   "metadata": {},
   "outputs": [],
   "source": [
    "df[[\"LATITUDE\", \"LONGITUDE\"]].isna().sum()"
   ]
  },
  {
   "cell_type": "code",
   "execution_count": null,
   "id": "5d318829-4538-4e63-ad62-4be8f9a61602",
   "metadata": {},
   "outputs": [],
   "source": [
    "# Check if both - latitude and longitude is missing in observation\n",
    "missing_count = df[df[\"LATITUDE\"].isna() & df[\"LONGITUDE\"].isna()].shape[0]\n",
    "print(f\"Missing both latitude and longitude: {missing_count}\")"
   ]
  },
  {
   "cell_type": "markdown",
   "id": "a7fdb699-a2d7-463b-ac08-2102d6156e1c",
   "metadata": {},
   "source": [
    "## Match coordinates with boroughs from geojson"
   ]
  },
  {
   "cell_type": "markdown",
   "id": "5b2572a8-a72f-4829-a937-009f2825f886",
   "metadata": {},
   "source": [
    "### Create geometry df"
   ]
  },
  {
   "cell_type": "code",
   "execution_count": null,
   "id": "d9542360-dc50-466d-9dfa-9836f76e3e79",
   "metadata": {},
   "outputs": [],
   "source": [
    "geometry_df = df.dropna(subset=[\"LONGITUDE\", \"LATITUDE\"]).copy()\n",
    "geometry_df = geometry_df[[\"LONGITUDE\", \"LATITUDE\", \"BOROUGH\"]]\n",
    "# create a column with original index as the original one will be replaced after sjoin\n",
    "geometry_df[\"ORIGINAL INDEX\"] = geometry_df.index\n",
    "geometry_df.info()"
   ]
  },
  {
   "cell_type": "markdown",
   "id": "29d1a628-3647-4052-8d33-c4fe6a09b18d",
   "metadata": {},
   "source": [
    "### Create geometry column"
   ]
  },
  {
   "cell_type": "code",
   "execution_count": null,
   "id": "e402ab81-41d8-4919-acfc-3ea052146950",
   "metadata": {},
   "outputs": [],
   "source": [
    "create_geometry_column(geometry_df)\n",
    "geometry_df.info()"
   ]
  },
  {
   "cell_type": "markdown",
   "id": "81518070-4a47-4d86-af87-12418a631d5a",
   "metadata": {},
   "source": [
    "### Convert geometry_df into GeoDataFrame"
   ]
  },
  {
   "cell_type": "code",
   "execution_count": null,
   "id": "65f6ab97-008d-4f8a-901a-38c03e32ca83",
   "metadata": {},
   "outputs": [],
   "source": [
    "geometry_gdf = gpd.GeoDataFrame(geometry_df, geometry=\"GEOMETRY\", crs=\"EPSG:4326\")"
   ]
  },
  {
   "cell_type": "markdown",
   "id": "f28cee7a-5309-4df1-9640-436efd0258d2",
   "metadata": {},
   "source": [
    "### Load boroughs from geojson"
   ]
  },
  {
   "cell_type": "code",
   "execution_count": null,
   "id": "7a47b9dd-01f5-4b80-a246-d4e13408543b",
   "metadata": {},
   "outputs": [],
   "source": [
    "# Load borough boundaries\n",
    "# https://www.nyc.gov/content/planning/pages/resources/datasets/borough-boundaries\n",
    "boroughs_gdf = gpd.read_file(\"../data/nybb.shp\")"
   ]
  },
  {
   "cell_type": "code",
   "execution_count": null,
   "id": "91556f8f-7c60-44fc-b875-bca4c205a083",
   "metadata": {},
   "outputs": [],
   "source": [
    "print(boroughs_gdf.columns)\n",
    "print(boroughs_gdf.crs)"
   ]
  },
  {
   "cell_type": "code",
   "execution_count": null,
   "id": "3441eab2-e46e-4194-a387-08ecd58cac65",
   "metadata": {},
   "outputs": [],
   "source": [
    "boroughs_gdf = boroughs_gdf.to_crs(epsg=4326)"
   ]
  },
  {
   "cell_type": "markdown",
   "id": "dcded5a2-efa7-4ec4-9f13-8b8d0ddd27f5",
   "metadata": {},
   "source": [
    "### Spatial join"
   ]
  },
  {
   "cell_type": "code",
   "execution_count": null,
   "id": "6b618e48-482c-4def-82aa-7a4ca504557a",
   "metadata": {},
   "outputs": [],
   "source": [
    "print(boroughs_gdf.columns)"
   ]
  },
  {
   "cell_type": "code",
   "execution_count": null,
   "id": "adb88021-2991-48af-8505-ea74fc78ae69",
   "metadata": {},
   "outputs": [],
   "source": [
    "geometry_gdf_joined = gpd.sjoin(geometry_gdf, boroughs_gdf[[\"BoroName\", \"geometry\"]], how = \"left\", predicate = \"intersects\")"
   ]
  },
  {
   "cell_type": "code",
   "execution_count": null,
   "id": "cb8fbb71-8802-413d-924b-089e81a214a6",
   "metadata": {},
   "outputs": [],
   "source": [
    "print(geometry_gdf_joined[\"BoroName\"].unique())"
   ]
  },
  {
   "cell_type": "code",
   "execution_count": null,
   "id": "7d7d7185-03a9-4d00-a836-a881e1ae4a50",
   "metadata": {},
   "outputs": [],
   "source": [
    "geometry_gdf_joined[\"BoroName\"].isna().sum()"
   ]
  },
  {
   "cell_type": "code",
   "execution_count": null,
   "id": "a24b5358-3ce9-4ed0-ab6b-b4a606ef9e77",
   "metadata": {},
   "outputs": [],
   "source": [
    "geometry_gdf_joined[\"BoroName\"] = geometry_gdf_joined[\"BoroName\"].fillna(\"Unknown\")"
   ]
  },
  {
   "cell_type": "code",
   "execution_count": null,
   "id": "9c820212-7e17-480b-870f-cc62b207fc1c",
   "metadata": {},
   "outputs": [],
   "source": [
    "geometry_gdf_joined[\"BoroName\"].unique()"
   ]
  },
  {
   "cell_type": "code",
   "execution_count": null,
   "id": "2c2f0604-2fae-47cd-94d7-6a7457d6c485",
   "metadata": {},
   "outputs": [],
   "source": [
    "geometry_gdf_joined[\"BoroName\"] = geometry_gdf_joined[\"BoroName\"].astype(str).str.upper()"
   ]
  },
  {
   "cell_type": "code",
   "execution_count": null,
   "id": "6b664e53-a11c-4dd5-aba0-8820af6d6545",
   "metadata": {},
   "outputs": [],
   "source": [
    "geometry_gdf_joined.head(5)"
   ]
  },
  {
   "cell_type": "markdown",
   "id": "f484364d-eb7d-4f15-81ab-f02554656be2",
   "metadata": {},
   "source": [
    "### Fill NaN with mapped boroughs"
   ]
  },
  {
   "cell_type": "code",
   "execution_count": null,
   "id": "c9ef859b-d22f-4ce6-bc14-65c3cd7ff662",
   "metadata": {},
   "outputs": [],
   "source": [
    "df.loc[geometry_gdf_joined[\"ORIGINAL INDEX\"], \"BOROUGH\"] = df.loc[\n",
    "    geometry_gdf_joined[\"ORIGINAL INDEX\"], \"BOROUGH\"\n",
    "    ].combine_first(geometry_gdf_joined.set_index(\"ORIGINAL INDEX\")[\"BoroName\"])"
   ]
  },
  {
   "cell_type": "code",
   "execution_count": null,
   "id": "e5e25c7b-0f14-486a-9faf-0a11662f9863",
   "metadata": {},
   "outputs": [],
   "source": [
    "df.info()"
   ]
  },
  {
   "cell_type": "code",
   "execution_count": null,
   "id": "f7852fbf-6a4c-47b7-b711-2887c1df463e",
   "metadata": {},
   "outputs": [],
   "source": [
    "df['BOROUGH'].unique()"
   ]
  },
  {
   "cell_type": "markdown",
   "id": "4adda5f0-9239-49b2-96f0-a102a23ad306",
   "metadata": {},
   "source": [
    "## Label NaN as \"Unknown\""
   ]
  },
  {
   "cell_type": "code",
   "execution_count": null,
   "id": "a3963c1c-3369-402f-ab8a-ec3be0e6510f",
   "metadata": {},
   "outputs": [],
   "source": [
    "cols_to_fill = [\"BOROUGH\",\"LATITUDE\",\"LONGITUDE\",\"LOCATION\"]\n",
    "df[cols_to_fill] = df[cols_to_fill].apply(lambda col: col.fillna(\"UNKNOWN\"))"
   ]
  },
  {
   "cell_type": "code",
   "execution_count": null,
   "id": "18a9072e-868e-4184-8d5a-bb8578e09ca3",
   "metadata": {},
   "outputs": [],
   "source": [
    "df['BOROUGH'].unique()"
   ]
  },
  {
   "cell_type": "code",
   "execution_count": null,
   "id": "1c6b8657-d953-41cf-b1f3-3929849a5652",
   "metadata": {},
   "outputs": [],
   "source": [
    "df.info()"
   ]
  },
  {
   "cell_type": "markdown",
   "id": "e8e40ba4-bfda-4ee8-9878-0e78e5ae2847",
   "metadata": {},
   "source": [
    "## Number of persons"
   ]
  },
  {
   "cell_type": "code",
   "execution_count": null,
   "id": "95fbbd30-9f3e-4a95-863e-4ff6accf104c",
   "metadata": {},
   "outputs": [],
   "source": [
    "df[\"NUMBER OF PERSONS INJURED\"].unique()"
   ]
  },
  {
   "cell_type": "code",
   "execution_count": null,
   "id": "caad382c-5a6d-49c1-8cba-db26ca2bdaa5",
   "metadata": {},
   "outputs": [],
   "source": [
    "df[\"NUMBER OF PERSONS INJURED\"] = df[\"NUMBER OF PERSONS INJURED\"].astype(\"Int64\")"
   ]
  },
  {
   "cell_type": "code",
   "execution_count": null,
   "id": "a35997be-7666-4662-a93b-b30bb24a598c",
   "metadata": {},
   "outputs": [],
   "source": [
    "df[\"NUMBER OF PERSONS INJURED\"].unique()"
   ]
  },
  {
   "cell_type": "code",
   "execution_count": null,
   "id": "c1c01712-e584-4cd5-ae0b-4f9998a8c24b",
   "metadata": {},
   "outputs": [],
   "source": [
    "df[\"NUMBER OF PERSONS KILLED\"].unique()"
   ]
  },
  {
   "cell_type": "code",
   "execution_count": null,
   "id": "4c534e69-f7d6-482f-bdb4-7f12646e6465",
   "metadata": {},
   "outputs": [],
   "source": [
    "df[\"NUMBER OF PERSONS KILLED\"] = df[\"NUMBER OF PERSONS KILLED\"].astype(\"Int64\")"
   ]
  },
  {
   "cell_type": "code",
   "execution_count": null,
   "id": "db964f8a-77a8-4646-8a28-36e9656aae00",
   "metadata": {},
   "outputs": [],
   "source": [
    "df.info()\n"
   ]
  },
  {
   "cell_type": "code",
   "execution_count": null,
   "id": "3453a207-a39b-4cac-8076-1c3e10a3ef89",
   "metadata": {},
   "outputs": [],
   "source": [
    "df[\"NUMBER OF MOTORIST KILLED\"].unique()"
   ]
  },
  {
   "cell_type": "markdown",
   "id": "6bfb77c8-6771-435a-aa67-6c6dc8ffca7c",
   "metadata": {},
   "source": [
    "## String formatting"
   ]
  },
  {
   "cell_type": "code",
   "execution_count": null,
   "id": "880958e9-ded3-45a4-8e7b-92f8bfe2263d",
   "metadata": {},
   "outputs": [],
   "source": [
    "cols_to_format = [\"CONTRIBUTING FACTOR VEHICLE 1\", \"CONTRIBUTING FACTOR VEHICLE 2\", \"CONTRIBUTING FACTOR VEHICLE 3\",\n",
    "                     \"CONTRIBUTING FACTOR VEHICLE 4\", \"CONTRIBUTING FACTOR VEHICLE 5\", \"VEHICLE TYPE CODE 1\", \n",
    "                     \"VEHICLE TYPE CODE 2\",\"VEHICLE TYPE CODE 3\",\"VEHICLE TYPE CODE 4\",\"VEHICLE TYPE CODE 5\",\n",
    "                 \"ON STREET NAME\", \"CROSS STREET NAME\", \"OFF STREET NAME\"]\n",
    "df[cols_to_format] = df[cols_to_format].astype(str).apply(\n",
    "    lambda col: col.str.strip().str.lower())"
   ]
  },
  {
   "cell_type": "markdown",
   "id": "4488f799-1c87-412c-b582-67814d24336a",
   "metadata": {},
   "source": [
    "## Streets"
   ]
  },
  {
   "cell_type": "code",
   "execution_count": null,
   "id": "a218d975-6939-4752-b9e1-9ec8e4857889",
   "metadata": {},
   "outputs": [],
   "source": [
    "on_street_typos = find_similar_phrases(df[\"ON STREET NAME\"], 70)"
   ]
  },
  {
   "cell_type": "code",
   "execution_count": null,
   "id": "4c7f405b-335d-4e4a-8a94-c3fe75485ec1",
   "metadata": {},
   "outputs": [],
   "source": [
    "print(on_street_typos)"
   ]
  },
  {
   "cell_type": "code",
   "execution_count": null,
   "id": "53efd762-890c-471d-81ca-0ca22608b5bb",
   "metadata": {},
   "outputs": [],
   "source": [
    "streets_to_format = [\"ON STREET NAME\", \"CROSS STREET NAME\", \"OFF STREET NAME\"]\n",
    "df[streets_to_format] = df[streets_to_format].applymap(normalize_street_names)"
   ]
  },
  {
   "cell_type": "markdown",
   "id": "378d59e8-8694-4a21-ad4e-374c91df7088",
   "metadata": {},
   "source": [
    "## Contributing factors"
   ]
  },
  {
   "cell_type": "code",
   "execution_count": null,
   "id": "68eceb40-a192-4b56-800c-b78a0d1d37be",
   "metadata": {},
   "outputs": [],
   "source": [
    "cfv_typos_cols_1 = find_similar_phrases(df[\"CONTRIBUTING FACTOR VEHICLE 1\"])\n",
    "cfv_typos_cols_2 = find_similar_phrases(df[\"CONTRIBUTING FACTOR VEHICLE 2\"])\n",
    "cfv_typos_cols_3 = find_similar_phrases(df[\"CONTRIBUTING FACTOR VEHICLE 3\"])\n",
    "cfv_typos_cols_4 = find_similar_phrases(df[\"CONTRIBUTING FACTOR VEHICLE 4\"])\n",
    "cfv_typos_cols_5 = find_similar_phrases(df[\"CONTRIBUTING FACTOR VEHICLE 5\"])"
   ]
  },
  {
   "cell_type": "code",
   "execution_count": null,
   "id": "0f3a6f68-647a-47a5-b291-8416a1b5f8a0",
   "metadata": {},
   "outputs": [],
   "source": [
    "print(f\"CFV 1 typos {cfv_typos_cols_1}\")\n",
    "print(f\"CFV 2 typos {cfv_typos_cols_2}\")\n",
    "print(f\"CFV 3 typos {cfv_typos_cols_3}\")\n",
    "print(f\"CFV 4 typos {cfv_typos_cols_4}\")\n",
    "print(f\"CFV 5 typos {cfv_typos_cols_5}\")"
   ]
  },
  {
   "cell_type": "markdown",
   "id": "dc6c6617-431a-43d2-bc02-56cc42298b77",
   "metadata": {},
   "source": [
    "### Corrections directory"
   ]
  },
  {
   "cell_type": "code",
   "execution_count": null,
   "id": "bedc9509-0f70-4fb7-8814-64f5ad9d0747",
   "metadata": {},
   "outputs": [],
   "source": [
    "df[\"CONTRIBUTING FACTOR VEHICLE 1\"].unique()"
   ]
  },
  {
   "cell_type": "code",
   "execution_count": null,
   "id": "44e6f7e3-8e91-4c93-a947-152cf33d703c",
   "metadata": {},
   "outputs": [],
   "source": [
    "corrections_cfv = {\"reaction to other uninvolved vehicle\":\"reaction to uninvolved vehicle\", \"illnes\":\"illness\", \"nan\":\"unspecified\", \n",
    "                  \"80\": \"unspecified\", \"1\": \"unspecified\"}"
   ]
  },
  {
   "cell_type": "code",
   "execution_count": null,
   "id": "5c9c4952-faa8-4c05-83c7-08535bcf636a",
   "metadata": {},
   "outputs": [],
   "source": [
    "cfv_cols_to_correct = [\"CONTRIBUTING FACTOR VEHICLE 1\", \"CONTRIBUTING FACTOR VEHICLE 2\", \"CONTRIBUTING FACTOR VEHICLE 3\",\n",
    "                     \"CONTRIBUTING FACTOR VEHICLE 4\", \"CONTRIBUTING FACTOR VEHICLE 5\"]\n",
    "df[cfv_cols_to_correct] = df[cfv_cols_to_correct].replace(corrections_cfv)"
   ]
  },
  {
   "cell_type": "code",
   "execution_count": null,
   "id": "1640616c-462a-46ed-a2ef-b370e34512c6",
   "metadata": {},
   "outputs": [],
   "source": [
    "cfv_typos_cols_1_cleaned = find_similar_phrases(df[\"CONTRIBUTING FACTOR VEHICLE 1\"])\n",
    "print(cfv_typos_cols_1_cleaned)"
   ]
  },
  {
   "cell_type": "markdown",
   "id": "21a2efd1-e9af-48fd-9192-65802d785eb6",
   "metadata": {},
   "source": [
    "## Vehicle types"
   ]
  },
  {
   "cell_type": "code",
   "execution_count": null,
   "id": "5d05b10d-f710-46b8-8f4f-8a8290453925",
   "metadata": {},
   "outputs": [],
   "source": [
    "df.info()"
   ]
  },
  {
   "cell_type": "code",
   "execution_count": null,
   "id": "36044f5a-95cf-4c92-95b7-61757f7de7f9",
   "metadata": {},
   "outputs": [],
   "source": []
  }
 ],
 "metadata": {
  "kernelspec": {
   "display_name": "Python 3 (ipykernel)",
   "language": "python",
   "name": "python3"
  },
  "language_info": {
   "codemirror_mode": {
    "name": "ipython",
    "version": 3
   },
   "file_extension": ".py",
   "mimetype": "text/x-python",
   "name": "python",
   "nbconvert_exporter": "python",
   "pygments_lexer": "ipython3",
   "version": "3.12.1"
  }
 },
 "nbformat": 4,
 "nbformat_minor": 5
}
