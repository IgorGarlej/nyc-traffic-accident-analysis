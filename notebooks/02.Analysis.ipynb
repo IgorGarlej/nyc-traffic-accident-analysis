{
 "cells": [
  {
   "cell_type": "markdown",
   "id": "74185080-eb0f-47c8-8cb0-83654c8e3324",
   "metadata": {},
   "source": [
    "# Imports"
   ]
  },
  {
   "cell_type": "code",
   "execution_count": 2,
   "id": "e691b1bb-e32b-44a0-95df-4e6ba4c4d3f2",
   "metadata": {},
   "outputs": [],
   "source": [
    "import pandas as pd\n",
    "import matplotlib.pyplot as plt\n",
    "import seaborn as sns\n",
    "import sys\n",
    "import os"
   ]
  },
  {
   "cell_type": "markdown",
   "id": "14318176-4da2-469a-8567-9141379d1166",
   "metadata": {},
   "source": [
    "# Data load"
   ]
  },
  {
   "cell_type": "code",
   "execution_count": 3,
   "id": "c37597ea-e4e1-4007-b9eb-89d0ca8a7c46",
   "metadata": {},
   "outputs": [],
   "source": [
    "sys.path.append(os.path.abspath(\"..\"))\n",
    "df = pd.read_csv(\"../data/nypd-motor-vehicle-collisions-cleaned.csv\", low_memory=False)"
   ]
  },
  {
   "cell_type": "code",
   "execution_count": 4,
   "id": "bd76efc5-006f-4f5b-bace-8f5ac8d146d3",
   "metadata": {},
   "outputs": [
    {
     "name": "stdout",
     "output_type": "stream",
     "text": [
      "<class 'pandas.core.frame.DataFrame'>\n",
      "RangeIndex: 1217957 entries, 0 to 1217956\n",
      "Data columns (total 29 columns):\n",
      " #   Column                         Non-Null Count    Dtype \n",
      "---  ------                         --------------    ----- \n",
      " 0   ACCIDENT DATE                  1217957 non-null  object\n",
      " 1   ACCIDENT TIME                  1217957 non-null  object\n",
      " 2   BOROUGH                        1217957 non-null  object\n",
      " 3   LATITUDE                       1217957 non-null  object\n",
      " 4   LONGITUDE                      1217957 non-null  object\n",
      " 5   LOCATION                       1217957 non-null  object\n",
      " 6   ON STREET NAME                 1217957 non-null  object\n",
      " 7   CROSS STREET NAME              1217957 non-null  object\n",
      " 8   OFF STREET NAME                1217957 non-null  object\n",
      " 9   NUMBER OF PERSONS INJURED      1217957 non-null  int64 \n",
      " 10  NUMBER OF PERSONS KILLED       1217957 non-null  int64 \n",
      " 11  NUMBER OF PEDESTRIANS INJURED  1217957 non-null  int64 \n",
      " 12  NUMBER OF PEDESTRIANS KILLED   1217957 non-null  int64 \n",
      " 13  NUMBER OF CYCLIST INJURED      1217957 non-null  int64 \n",
      " 14  NUMBER OF CYCLIST KILLED       1217957 non-null  int64 \n",
      " 15  NUMBER OF MOTORIST INJURED     1217957 non-null  int64 \n",
      " 16  NUMBER OF MOTORIST KILLED      1217957 non-null  int64 \n",
      " 17  CONTRIBUTING FACTOR VEHICLE 1  1217957 non-null  object\n",
      " 18  CONTRIBUTING FACTOR VEHICLE 2  1217957 non-null  object\n",
      " 19  CONTRIBUTING FACTOR VEHICLE 3  1217957 non-null  object\n",
      " 20  CONTRIBUTING FACTOR VEHICLE 4  1217957 non-null  object\n",
      " 21  CONTRIBUTING FACTOR VEHICLE 5  1217957 non-null  object\n",
      " 22  COLLISION_ID                   1217957 non-null  int64 \n",
      " 23  VEHICLE TYPE CODE 1            1217957 non-null  object\n",
      " 24  VEHICLE TYPE CODE 2            1217957 non-null  object\n",
      " 25  VEHICLE TYPE CODE 3            1217957 non-null  object\n",
      " 26  VEHICLE TYPE CODE 4            1217957 non-null  object\n",
      " 27  VEHICLE TYPE CODE 5            1217957 non-null  object\n",
      " 28  ACCIDENT DATE FORMATTED        1217957 non-null  object\n",
      "dtypes: int64(9), object(20)\n",
      "memory usage: 269.5+ MB\n"
     ]
    }
   ],
   "source": [
    "df.info()"
   ]
  },
  {
   "cell_type": "markdown",
   "id": "939a2e8f-2689-44bd-983a-e51418c39f2d",
   "metadata": {},
   "source": [
    "# Most dangerous accident factors in each New York borough"
   ]
  },
  {
   "cell_type": "code",
   "execution_count": 5,
   "id": "6f507c9b-3848-48e9-a965-8975427049a2",
   "metadata": {},
   "outputs": [],
   "source": [
    "df_factors = df.copy()"
   ]
  },
  {
   "cell_type": "code",
   "execution_count": 6,
   "id": "74d9a355-6609-4991-a1b8-3962c65ae638",
   "metadata": {},
   "outputs": [],
   "source": [
    "columns = [\"BOROUGH\",\"NUMBER OF PERSONS INJURED\",\"NUMBER OF PERSONS KILLED\",\"CONTRIBUTING FACTOR VEHICLE 1\",\n",
    "           \"CONTRIBUTING FACTOR VEHICLE 2\",\"CONTRIBUTING FACTOR VEHICLE 3\",\"CONTRIBUTING FACTOR VEHICLE 4\", \n",
    "           \"CONTRIBUTING FACTOR VEHICLE 5\", \"COLLISION_ID\"]"
   ]
  },
  {
   "cell_type": "code",
   "execution_count": 7,
   "id": "9b5fa148-c4c3-4f9a-ad04-6aa2b8e10d69",
   "metadata": {},
   "outputs": [],
   "source": [
    "df_factors = df_factors[columns]"
   ]
  },
  {
   "cell_type": "code",
   "execution_count": 8,
   "id": "dae76701-62ef-4f29-b298-5836762c2a02",
   "metadata": {},
   "outputs": [
    {
     "data": {
      "text/html": [
       "<div>\n",
       "<style scoped>\n",
       "    .dataframe tbody tr th:only-of-type {\n",
       "        vertical-align: middle;\n",
       "    }\n",
       "\n",
       "    .dataframe tbody tr th {\n",
       "        vertical-align: top;\n",
       "    }\n",
       "\n",
       "    .dataframe thead th {\n",
       "        text-align: right;\n",
       "    }\n",
       "</style>\n",
       "<table border=\"1\" class=\"dataframe\">\n",
       "  <thead>\n",
       "    <tr style=\"text-align: right;\">\n",
       "      <th></th>\n",
       "      <th>BOROUGH</th>\n",
       "      <th>NUMBER OF PERSONS INJURED</th>\n",
       "      <th>NUMBER OF PERSONS KILLED</th>\n",
       "      <th>CONTRIBUTING FACTOR VEHICLE 1</th>\n",
       "      <th>CONTRIBUTING FACTOR VEHICLE 2</th>\n",
       "      <th>CONTRIBUTING FACTOR VEHICLE 3</th>\n",
       "      <th>CONTRIBUTING FACTOR VEHICLE 4</th>\n",
       "      <th>CONTRIBUTING FACTOR VEHICLE 5</th>\n",
       "      <th>COLLISION_ID</th>\n",
       "    </tr>\n",
       "  </thead>\n",
       "  <tbody>\n",
       "    <tr>\n",
       "      <th>0</th>\n",
       "      <td>QUEENS</td>\n",
       "      <td>0</td>\n",
       "      <td>0</td>\n",
       "      <td>passing too closely</td>\n",
       "      <td>unknown</td>\n",
       "      <td>unknown</td>\n",
       "      <td>unknown</td>\n",
       "      <td>unknown</td>\n",
       "      <td>4184637</td>\n",
       "    </tr>\n",
       "    <tr>\n",
       "      <th>1</th>\n",
       "      <td>BROOKLYN</td>\n",
       "      <td>0</td>\n",
       "      <td>0</td>\n",
       "      <td>passing too closely</td>\n",
       "      <td>unknown</td>\n",
       "      <td>unknown</td>\n",
       "      <td>unknown</td>\n",
       "      <td>unknown</td>\n",
       "      <td>4195773</td>\n",
       "    </tr>\n",
       "    <tr>\n",
       "      <th>2</th>\n",
       "      <td>MANHATTAN</td>\n",
       "      <td>1</td>\n",
       "      <td>0</td>\n",
       "      <td>driver inattention/distraction</td>\n",
       "      <td>unknown</td>\n",
       "      <td>unknown</td>\n",
       "      <td>unknown</td>\n",
       "      <td>unknown</td>\n",
       "      <td>4202457</td>\n",
       "    </tr>\n",
       "    <tr>\n",
       "      <th>3</th>\n",
       "      <td>BRONX</td>\n",
       "      <td>0</td>\n",
       "      <td>0</td>\n",
       "      <td>unknown</td>\n",
       "      <td>unknown</td>\n",
       "      <td>unknown</td>\n",
       "      <td>unknown</td>\n",
       "      <td>unknown</td>\n",
       "      <td>4198749</td>\n",
       "    </tr>\n",
       "    <tr>\n",
       "      <th>4</th>\n",
       "      <td>MANHATTAN</td>\n",
       "      <td>1</td>\n",
       "      <td>0</td>\n",
       "      <td>driver inattention/distraction</td>\n",
       "      <td>driver inattention/distraction</td>\n",
       "      <td>unknown</td>\n",
       "      <td>unknown</td>\n",
       "      <td>unknown</td>\n",
       "      <td>4183798</td>\n",
       "    </tr>\n",
       "  </tbody>\n",
       "</table>\n",
       "</div>"
      ],
      "text/plain": [
       "     BOROUGH  NUMBER OF PERSONS INJURED  NUMBER OF PERSONS KILLED  \\\n",
       "0     QUEENS                          0                         0   \n",
       "1   BROOKLYN                          0                         0   \n",
       "2  MANHATTAN                          1                         0   \n",
       "3      BRONX                          0                         0   \n",
       "4  MANHATTAN                          1                         0   \n",
       "\n",
       "    CONTRIBUTING FACTOR VEHICLE 1   CONTRIBUTING FACTOR VEHICLE 2  \\\n",
       "0             passing too closely                         unknown   \n",
       "1             passing too closely                         unknown   \n",
       "2  driver inattention/distraction                         unknown   \n",
       "3                         unknown                         unknown   \n",
       "4  driver inattention/distraction  driver inattention/distraction   \n",
       "\n",
       "  CONTRIBUTING FACTOR VEHICLE 3 CONTRIBUTING FACTOR VEHICLE 4  \\\n",
       "0                       unknown                       unknown   \n",
       "1                       unknown                       unknown   \n",
       "2                       unknown                       unknown   \n",
       "3                       unknown                       unknown   \n",
       "4                       unknown                       unknown   \n",
       "\n",
       "  CONTRIBUTING FACTOR VEHICLE 5  COLLISION_ID  \n",
       "0                       unknown       4184637  \n",
       "1                       unknown       4195773  \n",
       "2                       unknown       4202457  \n",
       "3                       unknown       4198749  \n",
       "4                       unknown       4183798  "
      ]
     },
     "execution_count": 8,
     "metadata": {},
     "output_type": "execute_result"
    }
   ],
   "source": [
    "df_factors.head()"
   ]
  },
  {
   "cell_type": "code",
   "execution_count": 9,
   "id": "be8879ca-cdfd-4309-b8fb-cea4c11ee86c",
   "metadata": {},
   "outputs": [],
   "source": [
    "# https://pandas.pydata.org/docs/reference/api/pandas.melt.html"
   ]
  },
  {
   "cell_type": "code",
   "execution_count": 10,
   "id": "f992a589-87ad-4dee-b186-e4584def7a79",
   "metadata": {},
   "outputs": [],
   "source": [
    "df_long = df_factors.melt(id_vars=[\"COLLISION_ID\",\"BOROUGH\",\"NUMBER OF PERSONS INJURED\", \"NUMBER OF PERSONS KILLED\"], \n",
    "                         value_vars=[\"CONTRIBUTING FACTOR VEHICLE 1\",\"CONTRIBUTING FACTOR VEHICLE 2\",\"CONTRIBUTING FACTOR VEHICLE 3\", \n",
    "               \"CONTRIBUTING FACTOR VEHICLE 4\",\"CONTRIBUTING FACTOR VEHICLE 5\"],\n",
    "                         var_name=\"FACTOR_SOURCE\",\n",
    "                         value_name=\"CONTRIBUTING FACTOR\")"
   ]
  },
  {
   "cell_type": "code",
   "execution_count": 11,
   "id": "b27c1a9b-994a-4327-a5f9-300b0ce55dc6",
   "metadata": {},
   "outputs": [
    {
     "data": {
      "text/html": [
       "<div>\n",
       "<style scoped>\n",
       "    .dataframe tbody tr th:only-of-type {\n",
       "        vertical-align: middle;\n",
       "    }\n",
       "\n",
       "    .dataframe tbody tr th {\n",
       "        vertical-align: top;\n",
       "    }\n",
       "\n",
       "    .dataframe thead th {\n",
       "        text-align: right;\n",
       "    }\n",
       "</style>\n",
       "<table border=\"1\" class=\"dataframe\">\n",
       "  <thead>\n",
       "    <tr style=\"text-align: right;\">\n",
       "      <th></th>\n",
       "      <th>COLLISION_ID</th>\n",
       "      <th>BOROUGH</th>\n",
       "      <th>NUMBER OF PERSONS INJURED</th>\n",
       "      <th>NUMBER OF PERSONS KILLED</th>\n",
       "      <th>FACTOR_SOURCE</th>\n",
       "      <th>CONTRIBUTING FACTOR</th>\n",
       "    </tr>\n",
       "  </thead>\n",
       "  <tbody>\n",
       "    <tr>\n",
       "      <th>0</th>\n",
       "      <td>4184637</td>\n",
       "      <td>QUEENS</td>\n",
       "      <td>0</td>\n",
       "      <td>0</td>\n",
       "      <td>CONTRIBUTING FACTOR VEHICLE 1</td>\n",
       "      <td>passing too closely</td>\n",
       "    </tr>\n",
       "    <tr>\n",
       "      <th>1</th>\n",
       "      <td>4195773</td>\n",
       "      <td>BROOKLYN</td>\n",
       "      <td>0</td>\n",
       "      <td>0</td>\n",
       "      <td>CONTRIBUTING FACTOR VEHICLE 1</td>\n",
       "      <td>passing too closely</td>\n",
       "    </tr>\n",
       "    <tr>\n",
       "      <th>2</th>\n",
       "      <td>4202457</td>\n",
       "      <td>MANHATTAN</td>\n",
       "      <td>1</td>\n",
       "      <td>0</td>\n",
       "      <td>CONTRIBUTING FACTOR VEHICLE 1</td>\n",
       "      <td>driver inattention/distraction</td>\n",
       "    </tr>\n",
       "    <tr>\n",
       "      <th>3</th>\n",
       "      <td>4198749</td>\n",
       "      <td>BRONX</td>\n",
       "      <td>0</td>\n",
       "      <td>0</td>\n",
       "      <td>CONTRIBUTING FACTOR VEHICLE 1</td>\n",
       "      <td>unknown</td>\n",
       "    </tr>\n",
       "    <tr>\n",
       "      <th>4</th>\n",
       "      <td>4183798</td>\n",
       "      <td>MANHATTAN</td>\n",
       "      <td>1</td>\n",
       "      <td>0</td>\n",
       "      <td>CONTRIBUTING FACTOR VEHICLE 1</td>\n",
       "      <td>driver inattention/distraction</td>\n",
       "    </tr>\n",
       "  </tbody>\n",
       "</table>\n",
       "</div>"
      ],
      "text/plain": [
       "   COLLISION_ID    BOROUGH  NUMBER OF PERSONS INJURED  \\\n",
       "0       4184637     QUEENS                          0   \n",
       "1       4195773   BROOKLYN                          0   \n",
       "2       4202457  MANHATTAN                          1   \n",
       "3       4198749      BRONX                          0   \n",
       "4       4183798  MANHATTAN                          1   \n",
       "\n",
       "   NUMBER OF PERSONS KILLED                  FACTOR_SOURCE  \\\n",
       "0                         0  CONTRIBUTING FACTOR VEHICLE 1   \n",
       "1                         0  CONTRIBUTING FACTOR VEHICLE 1   \n",
       "2                         0  CONTRIBUTING FACTOR VEHICLE 1   \n",
       "3                         0  CONTRIBUTING FACTOR VEHICLE 1   \n",
       "4                         0  CONTRIBUTING FACTOR VEHICLE 1   \n",
       "\n",
       "              CONTRIBUTING FACTOR  \n",
       "0             passing too closely  \n",
       "1             passing too closely  \n",
       "2  driver inattention/distraction  \n",
       "3                         unknown  \n",
       "4  driver inattention/distraction  "
      ]
     },
     "execution_count": 11,
     "metadata": {},
     "output_type": "execute_result"
    }
   ],
   "source": [
    "df_long.head()"
   ]
  },
  {
   "cell_type": "code",
   "execution_count": 12,
   "id": "d00193aa-aa2e-40d9-aa31-29a14b56b299",
   "metadata": {},
   "outputs": [
    {
     "data": {
      "text/plain": [
       "np.int64(0)"
      ]
     },
     "execution_count": 12,
     "metadata": {},
     "output_type": "execute_result"
    }
   ],
   "source": [
    "df_long.duplicated().sum()"
   ]
  },
  {
   "cell_type": "code",
   "execution_count": 13,
   "id": "0249c176-c967-4d20-8c95-122b38fdc0ca",
   "metadata": {},
   "outputs": [
    {
     "data": {
      "text/plain": [
       "array(['passing too closely', 'driver inattention/distraction', 'unknown',\n",
       "       'unsafe speed', 'reaction to uninvolved vehicle',\n",
       "       'following too closely', 'passing or lane usage improper',\n",
       "       'view obstructed/limited', 'unsafe lane changing',\n",
       "       'aggressive driving/road rage', 'other vehicular',\n",
       "       'driverless/runaway vehicle', 'turning improperly',\n",
       "       'failure to yield right-of-way', 'backing unsafely',\n",
       "       'brakes defective', 'drugs (illegal)', 'pavement defective',\n",
       "       'traffic control disregarded', 'lane marking improper/inadequate',\n",
       "       'tire failure/inadequate', 'failure to keep right',\n",
       "       'obstruction/debris', 'outside car distraction',\n",
       "       'alcohol involvement', 'driver inexperience', 'pavement slippery',\n",
       "       'pedestrian/bicyclist/other pedestrian error/confusion',\n",
       "       'using on board navigation device', 'lost consciousness',\n",
       "       'passenger distraction', 'oversized vehicle', 'fatigued/drowsy',\n",
       "       'illness', 'fell asleep', 'steering failure', 'glare',\n",
       "       'physical disability', 'prescription medication', 'animals action',\n",
       "       'cell phone (hand-held)', 'cell phone (hands-free)',\n",
       "       'other lighting defects', 'listening/using headphones',\n",
       "       'traffic control device improper/non-working',\n",
       "       'accelerator defective', 'tow hitch defective',\n",
       "       'vehicle vandalism', 'other electronic device', 'tinted windows',\n",
       "       'windshield inadequate', 'eating or drinking',\n",
       "       'shoulders defective/improper', 'texting', 'headlights defective'],\n",
       "      dtype=object)"
      ]
     },
     "execution_count": 13,
     "metadata": {},
     "output_type": "execute_result"
    }
   ],
   "source": [
    "df_long[\"CONTRIBUTING FACTOR\"].unique()"
   ]
  },
  {
   "cell_type": "code",
   "execution_count": 17,
   "id": "e27c25dd-1656-47f8-8306-25847e4293be",
   "metadata": {},
   "outputs": [],
   "source": [
    "df_long = df_long[\n",
    "    ~df_long[\"BOROUGH\"].isin([\"UNKNOWN\"]) &\n",
    "    ~df_long[\"CONTRIBUTING FACTOR\"].isin([\"unknown\"])\n",
    "    ]"
   ]
  },
  {
   "cell_type": "code",
   "execution_count": 18,
   "id": "5b5eab1a-1a37-40fb-8ca7-69e941f19bea",
   "metadata": {},
   "outputs": [],
   "source": [
    "summary = df_long.groupby([\"BOROUGH\", \"CONTRIBUTING FACTOR\"]).agg(\n",
    "    total_killed = (\"NUMBER OF PERSONS KILLED\", \"sum\"),\n",
    "    total_injured = (\"NUMBER OF PERSONS INJURED\", \"sum\"),\n",
    "    number_of_crashes = (\"COLLISION_ID\", \"nunique\")\n",
    ").reset_index()"
   ]
  },
  {
   "cell_type": "code",
   "execution_count": 25,
   "id": "fff9fe11-216a-4d2e-8805-f746ac6426c9",
   "metadata": {},
   "outputs": [],
   "source": [
    "summary[\"total_impact\"] = summary[\"total_killed\"] + summary[\"total_injured\"]"
   ]
  },
  {
   "cell_type": "code",
   "execution_count": 27,
   "id": "aaae7a40-7ae9-4d04-bf00-efdc38211775",
   "metadata": {},
   "outputs": [],
   "source": [
    "# https://pandas.pydata.org/docs/reference/api/pandas.pivot_table.html"
   ]
  },
  {
   "cell_type": "code",
   "execution_count": 29,
   "id": "8f161bb9-6d5b-497c-9b2c-11c5e912ed9c",
   "metadata": {},
   "outputs": [],
   "source": [
    "impact_pivot = summary.pivot_table(\n",
    "    index = \"BOROUGH\",\n",
    "    columns = \"CONTRIBUTING FACTOR\",\n",
    "    values = \"total_impact\",\n",
    "    aggfunc = \"sum\"\n",
    ")"
   ]
  },
  {
   "cell_type": "code",
   "execution_count": 30,
   "id": "f7992a6b-4d77-4097-a2ae-7615eb17f2b8",
   "metadata": {},
   "outputs": [],
   "source": [
    "top_factors = impact_pivot.sum().sort_values(ascending=False).head(5).index\n",
    "impact_pivot = impact_pivot[top_factors]"
   ]
  },
  {
   "cell_type": "code",
   "execution_count": 45,
   "id": "3a75c012-f05f-4f7d-a48f-962b430c9061",
   "metadata": {},
   "outputs": [
    {
     "data": {
      "image/png": "[encoded data removed]",
      "text/plain": [
       "<Figure size 640x480 with 1 Axes>"
      ]
     },
     "metadata": {},
     "output_type": "display_data"
    }
   ],
   "source": [
    "impact_pivot.plot(kind=\"bar\", stacked=True, colormap=\"tab20\")\n",
    "\n",
    "plt.title(\"Most dangerous accident factors in each NYC borough\", fontsize=12)\n",
    "plt.xlabel(\"Borough\", fontsize=12)\n",
    "plt.ylabel(\"Total harmed (Killed + Injured)\")\n",
    "plt.legend(title=\"Contributing Factor\",bbox_to_anchor=(1.05, 1), loc=\"upper left\")\n",
    "plt.tight_layout()\n",
    "plt.grid(axis=\"y\")\n",
    "plt.show()"
   ]
  },
  {
   "cell_type": "markdown",
   "id": "13237a4b-3555-4972-a23d-926899e06f46",
   "metadata": {},
   "source": [
    "# How many deaths and injuries were caused by unsafe speed in each borough"
   ]
  },
  {
   "cell_type": "code",
   "execution_count": 46,
   "id": "6839ad26-bd0d-46d0-b0f4-b8ec515311a9",
   "metadata": {},
   "outputs": [],
   "source": [
    "df_speeding = df.copy()"
   ]
  },
  {
   "cell_type": "code",
   "execution_count": 47,
   "id": "22cfcfb6-e2f8-45f4-bf60-b26ea869eb59",
   "metadata": {},
   "outputs": [],
   "source": [
    "columns = [\"BOROUGH\",\"NUMBER OF PERSONS INJURED\",\"NUMBER OF PERSONS KILLED\",\"CONTRIBUTING FACTOR VEHICLE 1\",\n",
    "           \"CONTRIBUTING FACTOR VEHICLE 2\",\"CONTRIBUTING FACTOR VEHICLE 3\",\"CONTRIBUTING FACTOR VEHICLE 4\", \n",
    "           \"CONTRIBUTING FACTOR VEHICLE 5\", \"COLLISION_ID\"]"
   ]
  },
  {
   "cell_type": "code",
   "execution_count": 48,
   "id": "d000e3c1-9ea5-4966-a1eb-1a3dd71b2cd9",
   "metadata": {},
   "outputs": [],
   "source": [
    "df_speeding = df_speeding[columns]"
   ]
  },
  {
   "cell_type": "code",
   "execution_count": 50,
   "id": "bc79800c-5c42-48de-8642-6aae134607d2",
   "metadata": {},
   "outputs": [],
   "source": [
    "df_speeding = df_speeding[~df_speeding[\"BOROUGH\"].isin([\"UNKNOWN\"])]"
   ]
  },
  {
   "cell_type": "code",
   "execution_count": 51,
   "id": "d698a998-e3a3-46c4-a485-beecbab8ff7b",
   "metadata": {},
   "outputs": [],
   "source": [
    "df_long = df_speeding.melt(id_vars = [\"COLLISION_ID\",\"BOROUGH\",\"NUMBER OF PERSONS INJURED\", \"NUMBER OF PERSONS KILLED\"],\n",
    "                          value_vars = [\"CONTRIBUTING FACTOR VEHICLE 1\",\"CONTRIBUTING FACTOR VEHICLE 2\",\"CONTRIBUTING FACTOR VEHICLE 3\", \n",
    "               \"CONTRIBUTING FACTOR VEHICLE 4\",\"CONTRIBUTING FACTOR VEHICLE 5\"],\n",
    "                         var_name=\"FACTOR_SOURCE\",\n",
    "                         value_name=\"CONTRIBUTING FACTOR\")"
   ]
  },
  {
   "cell_type": "code",
   "execution_count": 56,
   "id": "4380299e-099b-4af4-95fa-72fc7082de62",
   "metadata": {},
   "outputs": [],
   "source": [
    "df_long = df_long[df_long[\"CONTRIBUTING FACTOR\"].isin([\"unsafe speed\"])]"
   ]
  },
  {
   "cell_type": "code",
   "execution_count": 58,
   "id": "e0c230de-a6fc-4db4-9a35-8bcafa2df9d5",
   "metadata": {},
   "outputs": [],
   "source": [
    "summary = df_long.groupby([\"BOROUGH\"]).agg(\n",
    "    total_killed = (\"NUMBER OF PERSONS KILLED\", \"sum\"),\n",
    "    total_injured = (\"NUMBER OF PERSONS INJURED\", \"sum\")\n",
    ").reset_index()"
   ]
  },
  {
   "cell_type": "code",
   "execution_count": 66,
   "id": "a08d4a00-7bf2-47e0-9306-6d04bd63692f",
   "metadata": {},
   "outputs": [
    {
     "name": "stdout",
     "output_type": "stream",
     "text": [
      "         BOROUGH  total_killed  total_injured\n",
      "0          BRONX            18           1627\n",
      "1       BROOKLYN            23           2211\n",
      "2      MANHATTAN            10            750\n",
      "3         QUEENS            48           2406\n",
      "4  STATEN ISLAND            12            444\n"
     ]
    }
   ],
   "source": [
    "print(summary)"
   ]
  },
  {
   "cell_type": "code",
   "execution_count": 75,
   "id": "ae4a281e-f9de-44d8-8830-3405a822f5ef",
   "metadata": {},
   "outputs": [
    {
     "data": {
      "image/png": "[encoded data removed]",
      "text/plain": [
       "<Figure size 640x480 with 2 Axes>"
      ]
     },
     "metadata": {},
     "output_type": "display_data"
    }
   ],
   "source": [
    "sns.set_style(style=\"whitegrid\")\n",
    "\n",
    "fig, axes = plt.subplots(1, 2)\n",
    "\n",
    "sns.barplot(ax = axes[0], data = summary, x = \"BOROUGH\", y = \"total_killed\", color = \"skyblue\")\n",
    "axes[0].set_title(\"Deaths caused by unsafe speed\")\n",
    "axes[0].set_xlabel(\"Borough\")\n",
    "axes[0].set_ylabel(\"Number of people killed\")\n",
    "axes[0].tick_params(axis='x', rotation=45)\n",
    "\n",
    "sns.barplot(ax=axes[1], data=summary, x=\"BOROUGH\", y=\"total_injured\", color=\"salmon\")\n",
    "axes[1].set_title(\"Injuries caused by unsafe speed\")\n",
    "axes[1].set_xlabel(\"Borough\")\n",
    "axes[1].set_ylabel(\"Number of people injured\")\n",
    "axes[1].tick_params(axis='x', rotation=45)\n",
    "\n",
    "plt.suptitle(\"Impact of Unsafe Speed by Borough\")\n",
    "plt.tight_layout()\n",
    "plt.show()"
   ]
  },
  {
   "cell_type": "markdown",
   "id": "2d7e56e2-405d-4c75-a8a2-110a79119de9",
   "metadata": {},
   "source": [
    "# 3 most common accident factors broken down by borough and overall for the entire city"
   ]
  },
  {
   "cell_type": "code",
   "execution_count": null,
   "id": "28863e3d-38c4-4eaf-8436-3f4ed61e7086",
   "metadata": {},
   "outputs": [],
   "source": []
  },
  {
   "cell_type": "markdown",
   "id": "d8131de3-551b-45b7-aeeb-18e8bf64a095",
   "metadata": {},
   "source": [
    "# Most frequently vehicles types involved in accidents"
   ]
  },
  {
   "cell_type": "code",
   "execution_count": null,
   "id": "2437c3b4-0938-496b-8cf1-e9fef2d6b61c",
   "metadata": {},
   "outputs": [],
   "source": []
  },
  {
   "cell_type": "markdown",
   "id": "99fdbd0e-33f8-4bf4-9807-8b0cedfd5b3c",
   "metadata": {},
   "source": [
    "# Statistics on the number of accidents for each borough"
   ]
  },
  {
   "cell_type": "raw",
   "id": "26e78c8d-db33-41b6-9125-bebd1f567b6e",
   "metadata": {},
   "source": []
  },
  {
   "cell_type": "markdown",
   "id": "58b13334-c6e5-4ef9-bd3a-022f921c157e",
   "metadata": {},
   "source": [
    "# Most common accident locations (optional)"
   ]
  }
 ],
 "metadata": {
  "kernelspec": {
   "display_name": "Python 3 (ipykernel)",
   "language": "python",
   "name": "python3"
  },
  "language_info": {
   "codemirror_mode": {
    "name": "ipython",
    "version": 3
   },
   "file_extension": ".py",
   "mimetype": "text/x-python",
   "name": "python",
   "nbconvert_exporter": "python",
   "pygments_lexer": "ipython3",
   "version": "3.12.1"
  }
 },
 "nbformat": 4,
 "nbformat_minor": 5
}
